{
 "cells": [
  {
   "cell_type": "markdown",
   "metadata": {},
   "source": [
    "## EDA for provider drug payments aggregate dataset"
   ]
  },
  {
   "cell_type": "markdown",
   "metadata": {},
   "source": [
    "#### data read in from psql"
   ]
  },
  {
   "cell_type": "code",
   "execution_count": 1,
   "metadata": {
    "collapsed": true
   },
   "outputs": [],
   "source": [
    "import pandas as pd\n",
    "import numpy as np\n",
    "import matplotlib.pyplot as plt\n",
    "%matplotlib inline\n",
    "import psycopg2 as pg2"
   ]
  },
  {
   "cell_type": "code",
   "execution_count": 2,
   "metadata": {
    "collapsed": true
   },
   "outputs": [],
   "source": [
    "conn = pg2.connect(dbname='medicare', user='postgres')"
   ]
  },
  {
   "cell_type": "code",
   "execution_count": 3,
   "metadata": {
    "collapsed": true
   },
   "outputs": [],
   "source": [
    "query = '''\n",
    "        SELECT *\n",
    "        FROM npi_13;\n",
    "        '''"
   ]
  },
  {
   "cell_type": "code",
   "execution_count": 4,
   "metadata": {
    "collapsed": false
   },
   "outputs": [],
   "source": [
    "df_npi = pd.read_sql_query(query, conn)"
   ]
  },
  {
   "cell_type": "code",
   "execution_count": 7,
   "metadata": {
    "collapsed": false
   },
   "outputs": [
    {
     "data": {
      "text/html": [
       "<div>\n",
       "<table border=\"1\" class=\"dataframe\">\n",
       "  <thead>\n",
       "    <tr style=\"text-align: right;\">\n",
       "      <th></th>\n",
       "      <th>0</th>\n",
       "      <th>1</th>\n",
       "      <th>2</th>\n",
       "      <th>3</th>\n",
       "      <th>4</th>\n",
       "    </tr>\n",
       "  </thead>\n",
       "  <tbody>\n",
       "    <tr>\n",
       "      <th>npi</th>\n",
       "      <td>1447268107</td>\n",
       "      <td>1174856348</td>\n",
       "      <td>1720181522</td>\n",
       "      <td>1821285826</td>\n",
       "      <td>1457520132</td>\n",
       "    </tr>\n",
       "    <tr>\n",
       "      <th>last_name</th>\n",
       "      <td>10 PARK PHARMACY INC.</td>\n",
       "      <td>101 FAMILY MEDICAL GROUP,A PROFESSIONAL CORP</td>\n",
       "      <td>154ST STREET MEDICAL PLAZA, INC.</td>\n",
       "      <td>21ST CENTURY ONCOLOGY LLC</td>\n",
       "      <td>3 SUNS INVESTMENT INC</td>\n",
       "    </tr>\n",
       "    <tr>\n",
       "      <th>first_name</th>\n",
       "      <td>None</td>\n",
       "      <td>None</td>\n",
       "      <td>None</td>\n",
       "      <td>None</td>\n",
       "      <td>None</td>\n",
       "    </tr>\n",
       "    <tr>\n",
       "      <th>middle_initial</th>\n",
       "      <td>None</td>\n",
       "      <td>None</td>\n",
       "      <td>None</td>\n",
       "      <td>None</td>\n",
       "      <td>None</td>\n",
       "    </tr>\n",
       "    <tr>\n",
       "      <th>credentials</th>\n",
       "      <td>None</td>\n",
       "      <td>None</td>\n",
       "      <td>None</td>\n",
       "      <td>None</td>\n",
       "      <td>None</td>\n",
       "    </tr>\n",
       "    <tr>\n",
       "      <th>gender</th>\n",
       "      <td>None</td>\n",
       "      <td>None</td>\n",
       "      <td>None</td>\n",
       "      <td>None</td>\n",
       "      <td>None</td>\n",
       "    </tr>\n",
       "    <tr>\n",
       "      <th>entity_code</th>\n",
       "      <td>O</td>\n",
       "      <td>O</td>\n",
       "      <td>O</td>\n",
       "      <td>O</td>\n",
       "      <td>O</td>\n",
       "    </tr>\n",
       "    <tr>\n",
       "      <th>provider_street1</th>\n",
       "      <td>53 E 34TH ST</td>\n",
       "      <td>22030 SHERMAN WAY STE 101</td>\n",
       "      <td>5801 MIAMI LAKES DR E</td>\n",
       "      <td>21150 BISCAYNE BLVD</td>\n",
       "      <td>3136 SQUALICUM PKWY</td>\n",
       "    </tr>\n",
       "    <tr>\n",
       "      <th>prover_street2</th>\n",
       "      <td>None</td>\n",
       "      <td>None</td>\n",
       "      <td>None</td>\n",
       "      <td>SUITE 404</td>\n",
       "      <td>STE. B</td>\n",
       "    </tr>\n",
       "    <tr>\n",
       "      <th>provider_city</th>\n",
       "      <td>NEW YORK</td>\n",
       "      <td>CANOGA PARK</td>\n",
       "      <td>MIAMI LAKES</td>\n",
       "      <td>AVENTURA</td>\n",
       "      <td>BELLINGHAM</td>\n",
       "    </tr>\n",
       "    <tr>\n",
       "      <th>provider_zip</th>\n",
       "      <td>100164332</td>\n",
       "      <td>913031844</td>\n",
       "      <td>330142401</td>\n",
       "      <td>331801226</td>\n",
       "      <td>982251954</td>\n",
       "    </tr>\n",
       "    <tr>\n",
       "      <th>provider_state</th>\n",
       "      <td>NY</td>\n",
       "      <td>CA</td>\n",
       "      <td>FL</td>\n",
       "      <td>FL</td>\n",
       "      <td>WA</td>\n",
       "    </tr>\n",
       "    <tr>\n",
       "      <th>provider_country</th>\n",
       "      <td>US</td>\n",
       "      <td>US</td>\n",
       "      <td>US</td>\n",
       "      <td>US</td>\n",
       "      <td>US</td>\n",
       "    </tr>\n",
       "    <tr>\n",
       "      <th>specialty_desc</th>\n",
       "      <td>Pharmacist</td>\n",
       "      <td>Clinic/Center</td>\n",
       "      <td>Internal Medicine</td>\n",
       "      <td>Urology</td>\n",
       "      <td>Dentist</td>\n",
       "    </tr>\n",
       "    <tr>\n",
       "      <th>description_flag</th>\n",
       "      <td>T</td>\n",
       "      <td>T</td>\n",
       "      <td>S</td>\n",
       "      <td>S</td>\n",
       "      <td>T</td>\n",
       "    </tr>\n",
       "    <tr>\n",
       "      <th>bene_count</th>\n",
       "      <td>12</td>\n",
       "      <td>NaN</td>\n",
       "      <td>23</td>\n",
       "      <td>11</td>\n",
       "      <td>13</td>\n",
       "    </tr>\n",
       "    <tr>\n",
       "      <th>total_claim_count</th>\n",
       "      <td>18</td>\n",
       "      <td>84</td>\n",
       "      <td>29</td>\n",
       "      <td>27</td>\n",
       "      <td>28</td>\n",
       "    </tr>\n",
       "    <tr>\n",
       "      <th>total_drug_cost</th>\n",
       "      <td>885.23</td>\n",
       "      <td>1643.43</td>\n",
       "      <td>327.2</td>\n",
       "      <td>1125.76</td>\n",
       "      <td>2006.04</td>\n",
       "    </tr>\n",
       "    <tr>\n",
       "      <th>total_day_supply</th>\n",
       "      <td>464</td>\n",
       "      <td>2510</td>\n",
       "      <td>1215</td>\n",
       "      <td>888</td>\n",
       "      <td>938</td>\n",
       "    </tr>\n",
       "    <tr>\n",
       "      <th>bene_count_ge65</th>\n",
       "      <td>NaN</td>\n",
       "      <td>NaN</td>\n",
       "      <td>NaN</td>\n",
       "      <td>NaN</td>\n",
       "      <td>NaN</td>\n",
       "    </tr>\n",
       "    <tr>\n",
       "      <th>bene_count_ge65_redact</th>\n",
       "      <td>#</td>\n",
       "      <td>*</td>\n",
       "      <td>#</td>\n",
       "      <td>#</td>\n",
       "      <td>#</td>\n",
       "    </tr>\n",
       "    <tr>\n",
       "      <th>total_claim_count_ge65</th>\n",
       "      <td>NaN</td>\n",
       "      <td>84</td>\n",
       "      <td>NaN</td>\n",
       "      <td>NaN</td>\n",
       "      <td>NaN</td>\n",
       "    </tr>\n",
       "    <tr>\n",
       "      <th>ge65_redact_flag</th>\n",
       "      <td>#</td>\n",
       "      <td>None</td>\n",
       "      <td>#</td>\n",
       "      <td>#</td>\n",
       "      <td>#</td>\n",
       "    </tr>\n",
       "    <tr>\n",
       "      <th>total_drug_cost_ge65</th>\n",
       "      <td>NaN</td>\n",
       "      <td>1643.43</td>\n",
       "      <td>NaN</td>\n",
       "      <td>NaN</td>\n",
       "      <td>NaN</td>\n",
       "    </tr>\n",
       "    <tr>\n",
       "      <th>total_day_supply_ge65</th>\n",
       "      <td>NaN</td>\n",
       "      <td>2510</td>\n",
       "      <td>NaN</td>\n",
       "      <td>NaN</td>\n",
       "      <td>NaN</td>\n",
       "    </tr>\n",
       "    <tr>\n",
       "      <th>brand_claim_count</th>\n",
       "      <td>NaN</td>\n",
       "      <td>13</td>\n",
       "      <td>NaN</td>\n",
       "      <td>NaN</td>\n",
       "      <td>NaN</td>\n",
       "    </tr>\n",
       "    <tr>\n",
       "      <th>brand_redact_flag</th>\n",
       "      <td>*</td>\n",
       "      <td>None</td>\n",
       "      <td>*</td>\n",
       "      <td>*</td>\n",
       "      <td>*</td>\n",
       "    </tr>\n",
       "    <tr>\n",
       "      <th>brand_claim_cost</th>\n",
       "      <td>NaN</td>\n",
       "      <td>784.63</td>\n",
       "      <td>NaN</td>\n",
       "      <td>NaN</td>\n",
       "      <td>NaN</td>\n",
       "    </tr>\n",
       "    <tr>\n",
       "      <th>generic_claim_count</th>\n",
       "      <td>NaN</td>\n",
       "      <td>71</td>\n",
       "      <td>NaN</td>\n",
       "      <td>NaN</td>\n",
       "      <td>NaN</td>\n",
       "    </tr>\n",
       "    <tr>\n",
       "      <th>generic_redact_flag</th>\n",
       "      <td>#</td>\n",
       "      <td>None</td>\n",
       "      <td>#</td>\n",
       "      <td>#</td>\n",
       "      <td>#</td>\n",
       "    </tr>\n",
       "    <tr>\n",
       "      <th>generic_claim_cost</th>\n",
       "      <td>NaN</td>\n",
       "      <td>858.8</td>\n",
       "      <td>NaN</td>\n",
       "      <td>NaN</td>\n",
       "      <td>NaN</td>\n",
       "    </tr>\n",
       "    <tr>\n",
       "      <th>other_claim_count</th>\n",
       "      <td>0</td>\n",
       "      <td>0</td>\n",
       "      <td>0</td>\n",
       "      <td>NaN</td>\n",
       "      <td>NaN</td>\n",
       "    </tr>\n",
       "    <tr>\n",
       "      <th>other_redact_flag</th>\n",
       "      <td>None</td>\n",
       "      <td>None</td>\n",
       "      <td>None</td>\n",
       "      <td>*</td>\n",
       "      <td>*</td>\n",
       "    </tr>\n",
       "    <tr>\n",
       "      <th>other_claim_cost</th>\n",
       "      <td>0</td>\n",
       "      <td>0</td>\n",
       "      <td>0</td>\n",
       "      <td>NaN</td>\n",
       "      <td>NaN</td>\n",
       "    </tr>\n",
       "    <tr>\n",
       "      <th>mapd_claim_count</th>\n",
       "      <td>NaN</td>\n",
       "      <td>NaN</td>\n",
       "      <td>NaN</td>\n",
       "      <td>NaN</td>\n",
       "      <td>NaN</td>\n",
       "    </tr>\n",
       "    <tr>\n",
       "      <th>mapd_redact_flag</th>\n",
       "      <td>*</td>\n",
       "      <td>*</td>\n",
       "      <td>#</td>\n",
       "      <td>#</td>\n",
       "      <td>*</td>\n",
       "    </tr>\n",
       "    <tr>\n",
       "      <th>mapd_claim_cost</th>\n",
       "      <td>NaN</td>\n",
       "      <td>NaN</td>\n",
       "      <td>NaN</td>\n",
       "      <td>NaN</td>\n",
       "      <td>NaN</td>\n",
       "    </tr>\n",
       "    <tr>\n",
       "      <th>pdp_claim_count</th>\n",
       "      <td>NaN</td>\n",
       "      <td>NaN</td>\n",
       "      <td>NaN</td>\n",
       "      <td>NaN</td>\n",
       "      <td>NaN</td>\n",
       "    </tr>\n",
       "    <tr>\n",
       "      <th>pdp_redact_flag</th>\n",
       "      <td>#</td>\n",
       "      <td>#</td>\n",
       "      <td>*</td>\n",
       "      <td>*</td>\n",
       "      <td>#</td>\n",
       "    </tr>\n",
       "    <tr>\n",
       "      <th>pdp_claim_cost</th>\n",
       "      <td>NaN</td>\n",
       "      <td>NaN</td>\n",
       "      <td>NaN</td>\n",
       "      <td>NaN</td>\n",
       "      <td>NaN</td>\n",
       "    </tr>\n",
       "    <tr>\n",
       "      <th>lis_claim_count</th>\n",
       "      <td>0</td>\n",
       "      <td>NaN</td>\n",
       "      <td>NaN</td>\n",
       "      <td>NaN</td>\n",
       "      <td>NaN</td>\n",
       "    </tr>\n",
       "    <tr>\n",
       "      <th>lis_redact_flag</th>\n",
       "      <td>None</td>\n",
       "      <td>#</td>\n",
       "      <td>*</td>\n",
       "      <td>*</td>\n",
       "      <td>*</td>\n",
       "    </tr>\n",
       "    <tr>\n",
       "      <th>lis_claim_cost</th>\n",
       "      <td>0</td>\n",
       "      <td>NaN</td>\n",
       "      <td>NaN</td>\n",
       "      <td>NaN</td>\n",
       "      <td>NaN</td>\n",
       "    </tr>\n",
       "    <tr>\n",
       "      <th>nonlis_claim_count</th>\n",
       "      <td>18</td>\n",
       "      <td>NaN</td>\n",
       "      <td>NaN</td>\n",
       "      <td>NaN</td>\n",
       "      <td>NaN</td>\n",
       "    </tr>\n",
       "    <tr>\n",
       "      <th>nonlis_redact_flag</th>\n",
       "      <td>None</td>\n",
       "      <td>*</td>\n",
       "      <td>#</td>\n",
       "      <td>#</td>\n",
       "      <td>#</td>\n",
       "    </tr>\n",
       "    <tr>\n",
       "      <th>nonlis_claim_cost</th>\n",
       "      <td>885.23</td>\n",
       "      <td>NaN</td>\n",
       "      <td>NaN</td>\n",
       "      <td>NaN</td>\n",
       "      <td>NaN</td>\n",
       "    </tr>\n",
       "  </tbody>\n",
       "</table>\n",
       "</div>"
      ],
      "text/plain": [
       "                                            0  \\\n",
       "npi                                1447268107   \n",
       "last_name               10 PARK PHARMACY INC.   \n",
       "first_name                               None   \n",
       "middle_initial                           None   \n",
       "credentials                              None   \n",
       "gender                                   None   \n",
       "entity_code                                 O   \n",
       "provider_street1                 53 E 34TH ST   \n",
       "prover_street2                           None   \n",
       "provider_city                        NEW YORK   \n",
       "provider_zip                        100164332   \n",
       "provider_state                             NY   \n",
       "provider_country                           US   \n",
       "specialty_desc                     Pharmacist   \n",
       "description_flag                            T   \n",
       "bene_count                                 12   \n",
       "total_claim_count                          18   \n",
       "total_drug_cost                        885.23   \n",
       "total_day_supply                          464   \n",
       "bene_count_ge65                           NaN   \n",
       "bene_count_ge65_redact                      #   \n",
       "total_claim_count_ge65                    NaN   \n",
       "ge65_redact_flag                            #   \n",
       "total_drug_cost_ge65                      NaN   \n",
       "total_day_supply_ge65                     NaN   \n",
       "brand_claim_count                         NaN   \n",
       "brand_redact_flag                           *   \n",
       "brand_claim_cost                          NaN   \n",
       "generic_claim_count                       NaN   \n",
       "generic_redact_flag                         #   \n",
       "generic_claim_cost                        NaN   \n",
       "other_claim_count                           0   \n",
       "other_redact_flag                        None   \n",
       "other_claim_cost                            0   \n",
       "mapd_claim_count                          NaN   \n",
       "mapd_redact_flag                            *   \n",
       "mapd_claim_cost                           NaN   \n",
       "pdp_claim_count                           NaN   \n",
       "pdp_redact_flag                             #   \n",
       "pdp_claim_cost                            NaN   \n",
       "lis_claim_count                             0   \n",
       "lis_redact_flag                          None   \n",
       "lis_claim_cost                              0   \n",
       "nonlis_claim_count                         18   \n",
       "nonlis_redact_flag                       None   \n",
       "nonlis_claim_cost                      885.23   \n",
       "\n",
       "                                                                   1  \\\n",
       "npi                                                       1174856348   \n",
       "last_name               101 FAMILY MEDICAL GROUP,A PROFESSIONAL CORP   \n",
       "first_name                                                      None   \n",
       "middle_initial                                                  None   \n",
       "credentials                                                     None   \n",
       "gender                                                          None   \n",
       "entity_code                                                        O   \n",
       "provider_street1                           22030 SHERMAN WAY STE 101   \n",
       "prover_street2                                                  None   \n",
       "provider_city                                            CANOGA PARK   \n",
       "provider_zip                                               913031844   \n",
       "provider_state                                                    CA   \n",
       "provider_country                                                  US   \n",
       "specialty_desc                                         Clinic/Center   \n",
       "description_flag                                                   T   \n",
       "bene_count                                                       NaN   \n",
       "total_claim_count                                                 84   \n",
       "total_drug_cost                                              1643.43   \n",
       "total_day_supply                                                2510   \n",
       "bene_count_ge65                                                  NaN   \n",
       "bene_count_ge65_redact                                             *   \n",
       "total_claim_count_ge65                                            84   \n",
       "ge65_redact_flag                                                None   \n",
       "total_drug_cost_ge65                                         1643.43   \n",
       "total_day_supply_ge65                                           2510   \n",
       "brand_claim_count                                                 13   \n",
       "brand_redact_flag                                               None   \n",
       "brand_claim_cost                                              784.63   \n",
       "generic_claim_count                                               71   \n",
       "generic_redact_flag                                             None   \n",
       "generic_claim_cost                                             858.8   \n",
       "other_claim_count                                                  0   \n",
       "other_redact_flag                                               None   \n",
       "other_claim_cost                                                   0   \n",
       "mapd_claim_count                                                 NaN   \n",
       "mapd_redact_flag                                                   *   \n",
       "mapd_claim_cost                                                  NaN   \n",
       "pdp_claim_count                                                  NaN   \n",
       "pdp_redact_flag                                                    #   \n",
       "pdp_claim_cost                                                   NaN   \n",
       "lis_claim_count                                                  NaN   \n",
       "lis_redact_flag                                                    #   \n",
       "lis_claim_cost                                                   NaN   \n",
       "nonlis_claim_count                                               NaN   \n",
       "nonlis_redact_flag                                                 *   \n",
       "nonlis_claim_cost                                                NaN   \n",
       "\n",
       "                                                       2  \\\n",
       "npi                                           1720181522   \n",
       "last_name               154ST STREET MEDICAL PLAZA, INC.   \n",
       "first_name                                          None   \n",
       "middle_initial                                      None   \n",
       "credentials                                         None   \n",
       "gender                                              None   \n",
       "entity_code                                            O   \n",
       "provider_street1                   5801 MIAMI LAKES DR E   \n",
       "prover_street2                                      None   \n",
       "provider_city                                MIAMI LAKES   \n",
       "provider_zip                                   330142401   \n",
       "provider_state                                        FL   \n",
       "provider_country                                      US   \n",
       "specialty_desc                         Internal Medicine   \n",
       "description_flag                                       S   \n",
       "bene_count                                            23   \n",
       "total_claim_count                                     29   \n",
       "total_drug_cost                                    327.2   \n",
       "total_day_supply                                    1215   \n",
       "bene_count_ge65                                      NaN   \n",
       "bene_count_ge65_redact                                 #   \n",
       "total_claim_count_ge65                               NaN   \n",
       "ge65_redact_flag                                       #   \n",
       "total_drug_cost_ge65                                 NaN   \n",
       "total_day_supply_ge65                                NaN   \n",
       "brand_claim_count                                    NaN   \n",
       "brand_redact_flag                                      *   \n",
       "brand_claim_cost                                     NaN   \n",
       "generic_claim_count                                  NaN   \n",
       "generic_redact_flag                                    #   \n",
       "generic_claim_cost                                   NaN   \n",
       "other_claim_count                                      0   \n",
       "other_redact_flag                                   None   \n",
       "other_claim_cost                                       0   \n",
       "mapd_claim_count                                     NaN   \n",
       "mapd_redact_flag                                       #   \n",
       "mapd_claim_cost                                      NaN   \n",
       "pdp_claim_count                                      NaN   \n",
       "pdp_redact_flag                                        *   \n",
       "pdp_claim_cost                                       NaN   \n",
       "lis_claim_count                                      NaN   \n",
       "lis_redact_flag                                        *   \n",
       "lis_claim_cost                                       NaN   \n",
       "nonlis_claim_count                                   NaN   \n",
       "nonlis_redact_flag                                     #   \n",
       "nonlis_claim_cost                                    NaN   \n",
       "\n",
       "                                                3                      4  \n",
       "npi                                    1821285826             1457520132  \n",
       "last_name               21ST CENTURY ONCOLOGY LLC  3 SUNS INVESTMENT INC  \n",
       "first_name                                   None                   None  \n",
       "middle_initial                               None                   None  \n",
       "credentials                                  None                   None  \n",
       "gender                                       None                   None  \n",
       "entity_code                                     O                      O  \n",
       "provider_street1              21150 BISCAYNE BLVD    3136 SQUALICUM PKWY  \n",
       "prover_street2                          SUITE 404                 STE. B  \n",
       "provider_city                            AVENTURA             BELLINGHAM  \n",
       "provider_zip                            331801226              982251954  \n",
       "provider_state                                 FL                     WA  \n",
       "provider_country                               US                     US  \n",
       "specialty_desc                            Urology                Dentist  \n",
       "description_flag                                S                      T  \n",
       "bene_count                                     11                     13  \n",
       "total_claim_count                              27                     28  \n",
       "total_drug_cost                           1125.76                2006.04  \n",
       "total_day_supply                              888                    938  \n",
       "bene_count_ge65                               NaN                    NaN  \n",
       "bene_count_ge65_redact                          #                      #  \n",
       "total_claim_count_ge65                        NaN                    NaN  \n",
       "ge65_redact_flag                                #                      #  \n",
       "total_drug_cost_ge65                          NaN                    NaN  \n",
       "total_day_supply_ge65                         NaN                    NaN  \n",
       "brand_claim_count                             NaN                    NaN  \n",
       "brand_redact_flag                               *                      *  \n",
       "brand_claim_cost                              NaN                    NaN  \n",
       "generic_claim_count                           NaN                    NaN  \n",
       "generic_redact_flag                             #                      #  \n",
       "generic_claim_cost                            NaN                    NaN  \n",
       "other_claim_count                             NaN                    NaN  \n",
       "other_redact_flag                               *                      *  \n",
       "other_claim_cost                              NaN                    NaN  \n",
       "mapd_claim_count                              NaN                    NaN  \n",
       "mapd_redact_flag                                #                      *  \n",
       "mapd_claim_cost                               NaN                    NaN  \n",
       "pdp_claim_count                               NaN                    NaN  \n",
       "pdp_redact_flag                                 *                      #  \n",
       "pdp_claim_cost                                NaN                    NaN  \n",
       "lis_claim_count                               NaN                    NaN  \n",
       "lis_redact_flag                                 *                      *  \n",
       "lis_claim_cost                                NaN                    NaN  \n",
       "nonlis_claim_count                            NaN                    NaN  \n",
       "nonlis_redact_flag                              #                      #  \n",
       "nonlis_claim_cost                             NaN                    NaN  "
      ]
     },
     "execution_count": 7,
     "metadata": {},
     "output_type": "execute_result"
    }
   ],
   "source": [
    "df_npi.head().T"
   ]
  },
  {
   "cell_type": "code",
   "execution_count": 8,
   "metadata": {
    "collapsed": false
   },
   "outputs": [
    {
     "data": {
      "text/html": [
       "<div>\n",
       "<table border=\"1\" class=\"dataframe\">\n",
       "  <thead>\n",
       "    <tr style=\"text-align: right;\">\n",
       "      <th></th>\n",
       "      <th>count</th>\n",
       "      <th>mean</th>\n",
       "      <th>std</th>\n",
       "      <th>min</th>\n",
       "      <th>25%</th>\n",
       "      <th>50%</th>\n",
       "      <th>75%</th>\n",
       "      <th>max</th>\n",
       "    </tr>\n",
       "  </thead>\n",
       "  <tbody>\n",
       "    <tr>\n",
       "      <th>npi</th>\n",
       "      <td>1049381</td>\n",
       "      <td>1.499770e+09</td>\n",
       "      <td>2.879001e+08</td>\n",
       "      <td>1003000126</td>\n",
       "      <td>1.245588e+09</td>\n",
       "      <td>1.497978e+09</td>\n",
       "      <td>1.740597e+09</td>\n",
       "      <td>1.993000e+09</td>\n",
       "    </tr>\n",
       "    <tr>\n",
       "      <th>bene_count</th>\n",
       "      <td>905381</td>\n",
       "      <td>1.432203e+02</td>\n",
       "      <td>1.826368e+02</td>\n",
       "      <td>11</td>\n",
       "      <td>3.100000e+01</td>\n",
       "      <td>7.800000e+01</td>\n",
       "      <td>1.910000e+02</td>\n",
       "      <td>2.416400e+04</td>\n",
       "    </tr>\n",
       "    <tr>\n",
       "      <th>total_claim_count</th>\n",
       "      <td>1049381</td>\n",
       "      <td>1.303850e+03</td>\n",
       "      <td>3.151893e+03</td>\n",
       "      <td>11</td>\n",
       "      <td>4.900000e+01</td>\n",
       "      <td>1.830000e+02</td>\n",
       "      <td>9.560000e+02</td>\n",
       "      <td>1.915300e+05</td>\n",
       "    </tr>\n",
       "    <tr>\n",
       "      <th>total_drug_cost</th>\n",
       "      <td>1049381</td>\n",
       "      <td>9.873998e+04</td>\n",
       "      <td>2.390657e+05</td>\n",
       "      <td>0</td>\n",
       "      <td>1.553850e+03</td>\n",
       "      <td>8.999200e+03</td>\n",
       "      <td>8.097637e+04</td>\n",
       "      <td>1.660254e+07</td>\n",
       "    </tr>\n",
       "    <tr>\n",
       "      <th>total_day_supply</th>\n",
       "      <td>1049381</td>\n",
       "      <td>5.016021e+04</td>\n",
       "      <td>1.186718e+05</td>\n",
       "      <td>11</td>\n",
       "      <td>8.850000e+02</td>\n",
       "      <td>4.158000e+03</td>\n",
       "      <td>3.351700e+04</td>\n",
       "      <td>4.339456e+06</td>\n",
       "    </tr>\n",
       "    <tr>\n",
       "      <th>bene_count_ge65</th>\n",
       "      <td>598228</td>\n",
       "      <td>1.477756e+02</td>\n",
       "      <td>1.729455e+02</td>\n",
       "      <td>0</td>\n",
       "      <td>4.100000e+01</td>\n",
       "      <td>9.300000e+01</td>\n",
       "      <td>1.990000e+02</td>\n",
       "      <td>2.050000e+04</td>\n",
       "    </tr>\n",
       "    <tr>\n",
       "      <th>total_claim_count_ge65</th>\n",
       "      <td>823082</td>\n",
       "      <td>1.219970e+03</td>\n",
       "      <td>2.791054e+03</td>\n",
       "      <td>0</td>\n",
       "      <td>6.000000e+01</td>\n",
       "      <td>2.060000e+02</td>\n",
       "      <td>9.810000e+02</td>\n",
       "      <td>1.661710e+05</td>\n",
       "    </tr>\n",
       "    <tr>\n",
       "      <th>total_drug_cost_ge65</th>\n",
       "      <td>823082</td>\n",
       "      <td>8.248920e+04</td>\n",
       "      <td>1.814131e+05</td>\n",
       "      <td>0</td>\n",
       "      <td>2.020305e+03</td>\n",
       "      <td>1.142712e+04</td>\n",
       "      <td>7.850018e+04</td>\n",
       "      <td>9.916113e+06</td>\n",
       "    </tr>\n",
       "    <tr>\n",
       "      <th>total_day_supply_ge65</th>\n",
       "      <td>823082</td>\n",
       "      <td>4.958615e+04</td>\n",
       "      <td>1.094667e+05</td>\n",
       "      <td>0</td>\n",
       "      <td>1.165000e+03</td>\n",
       "      <td>5.663000e+03</td>\n",
       "      <td>3.773775e+04</td>\n",
       "      <td>3.792242e+06</td>\n",
       "    </tr>\n",
       "    <tr>\n",
       "      <th>brand_claim_count</th>\n",
       "      <td>571130</td>\n",
       "      <td>4.770706e+02</td>\n",
       "      <td>1.003028e+03</td>\n",
       "      <td>0</td>\n",
       "      <td>1.600000e+01</td>\n",
       "      <td>7.400000e+01</td>\n",
       "      <td>5.390000e+02</td>\n",
       "      <td>5.289600e+04</td>\n",
       "    </tr>\n",
       "    <tr>\n",
       "      <th>brand_claim_cost</th>\n",
       "      <td>571130</td>\n",
       "      <td>1.103645e+05</td>\n",
       "      <td>2.356415e+05</td>\n",
       "      <td>0</td>\n",
       "      <td>2.255098e+03</td>\n",
       "      <td>1.681113e+04</td>\n",
       "      <td>1.271175e+05</td>\n",
       "      <td>1.536346e+07</td>\n",
       "    </tr>\n",
       "    <tr>\n",
       "      <th>generic_claim_count</th>\n",
       "      <td>758402</td>\n",
       "      <td>1.347012e+03</td>\n",
       "      <td>2.744054e+03</td>\n",
       "      <td>0</td>\n",
       "      <td>9.100000e+01</td>\n",
       "      <td>2.970000e+02</td>\n",
       "      <td>1.276000e+03</td>\n",
       "      <td>1.414270e+05</td>\n",
       "    </tr>\n",
       "    <tr>\n",
       "      <th>generic_claim_cost</th>\n",
       "      <td>758402</td>\n",
       "      <td>3.321142e+04</td>\n",
       "      <td>6.413110e+04</td>\n",
       "      <td>0</td>\n",
       "      <td>1.828533e+03</td>\n",
       "      <td>7.292120e+03</td>\n",
       "      <td>3.537476e+04</td>\n",
       "      <td>3.272083e+06</td>\n",
       "    </tr>\n",
       "    <tr>\n",
       "      <th>other_claim_count</th>\n",
       "      <td>756433</td>\n",
       "      <td>1.411580e+01</td>\n",
       "      <td>4.795475e+01</td>\n",
       "      <td>0</td>\n",
       "      <td>0.000000e+00</td>\n",
       "      <td>0.000000e+00</td>\n",
       "      <td>0.000000e+00</td>\n",
       "      <td>4.862000e+03</td>\n",
       "    </tr>\n",
       "    <tr>\n",
       "      <th>other_claim_cost</th>\n",
       "      <td>756433</td>\n",
       "      <td>4.246700e+02</td>\n",
       "      <td>1.593842e+03</td>\n",
       "      <td>0</td>\n",
       "      <td>0.000000e+00</td>\n",
       "      <td>0.000000e+00</td>\n",
       "      <td>0.000000e+00</td>\n",
       "      <td>2.633868e+05</td>\n",
       "    </tr>\n",
       "    <tr>\n",
       "      <th>mapd_claim_count</th>\n",
       "      <td>809090</td>\n",
       "      <td>5.439413e+02</td>\n",
       "      <td>1.520792e+03</td>\n",
       "      <td>0</td>\n",
       "      <td>2.500000e+01</td>\n",
       "      <td>8.000000e+01</td>\n",
       "      <td>3.600000e+02</td>\n",
       "      <td>6.092400e+04</td>\n",
       "    </tr>\n",
       "    <tr>\n",
       "      <th>mapd_claim_cost</th>\n",
       "      <td>809090</td>\n",
       "      <td>3.546861e+04</td>\n",
       "      <td>9.349551e+04</td>\n",
       "      <td>0</td>\n",
       "      <td>6.403925e+02</td>\n",
       "      <td>3.905465e+03</td>\n",
       "      <td>2.640300e+04</td>\n",
       "      <td>5.911482e+06</td>\n",
       "    </tr>\n",
       "    <tr>\n",
       "      <th>pdp_claim_count</th>\n",
       "      <td>809075</td>\n",
       "      <td>1.116900e+03</td>\n",
       "      <td>2.594296e+03</td>\n",
       "      <td>0</td>\n",
       "      <td>5.800000e+01</td>\n",
       "      <td>2.080000e+02</td>\n",
       "      <td>9.710000e+02</td>\n",
       "      <td>1.628970e+05</td>\n",
       "    </tr>\n",
       "    <tr>\n",
       "      <th>pdp_claim_cost</th>\n",
       "      <td>809075</td>\n",
       "      <td>9.012830e+04</td>\n",
       "      <td>2.071023e+05</td>\n",
       "      <td>0</td>\n",
       "      <td>2.012340e+03</td>\n",
       "      <td>1.224933e+04</td>\n",
       "      <td>8.703033e+04</td>\n",
       "      <td>1.602179e+07</td>\n",
       "    </tr>\n",
       "    <tr>\n",
       "      <th>lis_claim_count</th>\n",
       "      <td>821902</td>\n",
       "      <td>7.692606e+02</td>\n",
       "      <td>2.206380e+03</td>\n",
       "      <td>0</td>\n",
       "      <td>3.500000e+01</td>\n",
       "      <td>1.230000e+02</td>\n",
       "      <td>5.370000e+02</td>\n",
       "      <td>1.646450e+05</td>\n",
       "    </tr>\n",
       "    <tr>\n",
       "      <th>lis_claim_cost</th>\n",
       "      <td>821902</td>\n",
       "      <td>6.261919e+04</td>\n",
       "      <td>1.767624e+05</td>\n",
       "      <td>0</td>\n",
       "      <td>1.214900e+03</td>\n",
       "      <td>7.261645e+03</td>\n",
       "      <td>4.727930e+04</td>\n",
       "      <td>1.188417e+07</td>\n",
       "    </tr>\n",
       "    <tr>\n",
       "      <th>nonlis_claim_count</th>\n",
       "      <td>821904</td>\n",
       "      <td>8.770109e+02</td>\n",
       "      <td>1.863561e+03</td>\n",
       "      <td>0</td>\n",
       "      <td>4.500000e+01</td>\n",
       "      <td>1.545000e+02</td>\n",
       "      <td>7.320000e+02</td>\n",
       "      <td>5.587000e+04</td>\n",
       "    </tr>\n",
       "    <tr>\n",
       "      <th>nonlis_claim_cost</th>\n",
       "      <td>821904</td>\n",
       "      <td>6.214217e+04</td>\n",
       "      <td>1.361101e+05</td>\n",
       "      <td>0</td>\n",
       "      <td>1.426175e+03</td>\n",
       "      <td>7.781880e+03</td>\n",
       "      <td>5.700783e+04</td>\n",
       "      <td>8.848214e+06</td>\n",
       "    </tr>\n",
       "  </tbody>\n",
       "</table>\n",
       "</div>"
      ],
      "text/plain": [
       "                          count          mean           std         min  \\\n",
       "npi                     1049381  1.499770e+09  2.879001e+08  1003000126   \n",
       "bene_count               905381  1.432203e+02  1.826368e+02          11   \n",
       "total_claim_count       1049381  1.303850e+03  3.151893e+03          11   \n",
       "total_drug_cost         1049381  9.873998e+04  2.390657e+05           0   \n",
       "total_day_supply        1049381  5.016021e+04  1.186718e+05          11   \n",
       "bene_count_ge65          598228  1.477756e+02  1.729455e+02           0   \n",
       "total_claim_count_ge65   823082  1.219970e+03  2.791054e+03           0   \n",
       "total_drug_cost_ge65     823082  8.248920e+04  1.814131e+05           0   \n",
       "total_day_supply_ge65    823082  4.958615e+04  1.094667e+05           0   \n",
       "brand_claim_count        571130  4.770706e+02  1.003028e+03           0   \n",
       "brand_claim_cost         571130  1.103645e+05  2.356415e+05           0   \n",
       "generic_claim_count      758402  1.347012e+03  2.744054e+03           0   \n",
       "generic_claim_cost       758402  3.321142e+04  6.413110e+04           0   \n",
       "other_claim_count        756433  1.411580e+01  4.795475e+01           0   \n",
       "other_claim_cost         756433  4.246700e+02  1.593842e+03           0   \n",
       "mapd_claim_count         809090  5.439413e+02  1.520792e+03           0   \n",
       "mapd_claim_cost          809090  3.546861e+04  9.349551e+04           0   \n",
       "pdp_claim_count          809075  1.116900e+03  2.594296e+03           0   \n",
       "pdp_claim_cost           809075  9.012830e+04  2.071023e+05           0   \n",
       "lis_claim_count          821902  7.692606e+02  2.206380e+03           0   \n",
       "lis_claim_cost           821902  6.261919e+04  1.767624e+05           0   \n",
       "nonlis_claim_count       821904  8.770109e+02  1.863561e+03           0   \n",
       "nonlis_claim_cost        821904  6.214217e+04  1.361101e+05           0   \n",
       "\n",
       "                                 25%           50%           75%           max  \n",
       "npi                     1.245588e+09  1.497978e+09  1.740597e+09  1.993000e+09  \n",
       "bene_count              3.100000e+01  7.800000e+01  1.910000e+02  2.416400e+04  \n",
       "total_claim_count       4.900000e+01  1.830000e+02  9.560000e+02  1.915300e+05  \n",
       "total_drug_cost         1.553850e+03  8.999200e+03  8.097637e+04  1.660254e+07  \n",
       "total_day_supply        8.850000e+02  4.158000e+03  3.351700e+04  4.339456e+06  \n",
       "bene_count_ge65         4.100000e+01  9.300000e+01  1.990000e+02  2.050000e+04  \n",
       "total_claim_count_ge65  6.000000e+01  2.060000e+02  9.810000e+02  1.661710e+05  \n",
       "total_drug_cost_ge65    2.020305e+03  1.142712e+04  7.850018e+04  9.916113e+06  \n",
       "total_day_supply_ge65   1.165000e+03  5.663000e+03  3.773775e+04  3.792242e+06  \n",
       "brand_claim_count       1.600000e+01  7.400000e+01  5.390000e+02  5.289600e+04  \n",
       "brand_claim_cost        2.255098e+03  1.681113e+04  1.271175e+05  1.536346e+07  \n",
       "generic_claim_count     9.100000e+01  2.970000e+02  1.276000e+03  1.414270e+05  \n",
       "generic_claim_cost      1.828533e+03  7.292120e+03  3.537476e+04  3.272083e+06  \n",
       "other_claim_count       0.000000e+00  0.000000e+00  0.000000e+00  4.862000e+03  \n",
       "other_claim_cost        0.000000e+00  0.000000e+00  0.000000e+00  2.633868e+05  \n",
       "mapd_claim_count        2.500000e+01  8.000000e+01  3.600000e+02  6.092400e+04  \n",
       "mapd_claim_cost         6.403925e+02  3.905465e+03  2.640300e+04  5.911482e+06  \n",
       "pdp_claim_count         5.800000e+01  2.080000e+02  9.710000e+02  1.628970e+05  \n",
       "pdp_claim_cost          2.012340e+03  1.224933e+04  8.703033e+04  1.602179e+07  \n",
       "lis_claim_count         3.500000e+01  1.230000e+02  5.370000e+02  1.646450e+05  \n",
       "lis_claim_cost          1.214900e+03  7.261645e+03  4.727930e+04  1.188417e+07  \n",
       "nonlis_claim_count      4.500000e+01  1.545000e+02  7.320000e+02  5.587000e+04  \n",
       "nonlis_claim_cost       1.426175e+03  7.781880e+03  5.700783e+04  8.848214e+06  "
      ]
     },
     "execution_count": 8,
     "metadata": {},
     "output_type": "execute_result"
    }
   ],
   "source": [
    "df_npi.describe().T"
   ]
  },
  {
   "cell_type": "code",
   "execution_count": 9,
   "metadata": {
    "collapsed": false
   },
   "outputs": [
    {
     "name": "stdout",
     "output_type": "stream",
     "text": [
      "<class 'pandas.core.frame.DataFrame'>\n",
      "Int64Index: 1049381 entries, 0 to 1049380\n",
      "Data columns (total 46 columns):\n",
      "npi                       1049381 non-null int64\n",
      "last_name                 1049381 non-null object\n",
      "first_name                1042626 non-null object\n",
      "middle_initial            775539 non-null object\n",
      "credentials               1006430 non-null object\n",
      "gender                    1042626 non-null object\n",
      "entity_code               1049381 non-null object\n",
      "provider_street1          1049381 non-null object\n",
      "prover_street2            439576 non-null object\n",
      "provider_city             1049381 non-null object\n",
      "provider_zip              1049381 non-null object\n",
      "provider_state            1049381 non-null object\n",
      "provider_country          1049381 non-null object\n",
      "specialty_desc            1049381 non-null object\n",
      "description_flag          1049381 non-null object\n",
      "bene_count                905381 non-null float64\n",
      "total_claim_count         1049381 non-null int64\n",
      "total_drug_cost           1049381 non-null float64\n",
      "total_day_supply          1049381 non-null int64\n",
      "bene_count_ge65           598228 non-null float64\n",
      "bene_count_ge65_redact    451153 non-null object\n",
      "total_claim_count_ge65    823082 non-null float64\n",
      "ge65_redact_flag          226299 non-null object\n",
      "total_drug_cost_ge65      823082 non-null float64\n",
      "total_day_supply_ge65     823082 non-null float64\n",
      "brand_claim_count         571130 non-null float64\n",
      "brand_redact_flag         478251 non-null object\n",
      "brand_claim_cost          571130 non-null float64\n",
      "generic_claim_count       758402 non-null float64\n",
      "generic_redact_flag       290979 non-null object\n",
      "generic_claim_cost        758402 non-null float64\n",
      "other_claim_count         756433 non-null float64\n",
      "other_redact_flag         292948 non-null object\n",
      "other_claim_cost          756433 non-null float64\n",
      "mapd_claim_count          809090 non-null float64\n",
      "mapd_redact_flag          240291 non-null object\n",
      "mapd_claim_cost           809090 non-null float64\n",
      "pdp_claim_count           809075 non-null float64\n",
      "pdp_redact_flag           240306 non-null object\n",
      "pdp_claim_cost            809075 non-null float64\n",
      "lis_claim_count           821902 non-null float64\n",
      "lis_redact_flag           227479 non-null object\n",
      "lis_claim_cost            821902 non-null float64\n",
      "nonlis_claim_count        821904 non-null float64\n",
      "nonlis_redact_flag        227477 non-null object\n",
      "nonlis_claim_cost         821904 non-null float64\n",
      "dtypes: float64(20), int64(3), object(23)\n",
      "memory usage: 376.3+ MB\n"
     ]
    }
   ],
   "source": [
    "df_npi.info()"
   ]
  },
  {
   "cell_type": "code",
   "execution_count": 13,
   "metadata": {
    "collapsed": false
   },
   "outputs": [
    {
     "data": {
      "text/plain": [
       "<matplotlib.axes._subplots.AxesSubplot at 0x7f82c5672310>"
      ]
     },
     "execution_count": 13,
     "metadata": {},
     "output_type": "execute_result"
    },
    {
     "data": {
      "image/png": "[encoded data removed]",
      "text/plain": [
       "<matplotlib.figure.Figure at 0x7f81fc14fe50>"
      ]
     },
     "metadata": {},
     "output_type": "display_data"
    }
   ],
   "source": [
    "df_npi.bene_count.hist(bins=40)"
   ]
  },
  {
   "cell_type": "code",
   "execution_count": 14,
   "metadata": {
    "collapsed": false
   },
   "outputs": [
    {
     "data": {
      "text/plain": [
       "<matplotlib.axes._subplots.AxesSubplot at 0x7f821e5cd290>"
      ]
     },
     "execution_count": 14,
     "metadata": {},
     "output_type": "execute_result"
    },
    {
     "data": {
      "image/png": "[encoded data removed]",
      "text/plain": [
       "<matplotlib.figure.Figure at 0x7f81eead2f10>"
      ]
     },
     "metadata": {},
     "output_type": "display_data"
    }
   ],
   "source": [
    "df_npi.total_claim_count.hist(bins=40)"
   ]
  },
  {
   "cell_type": "code",
   "execution_count": 15,
   "metadata": {
    "collapsed": false
   },
   "outputs": [
    {
     "data": {
      "text/plain": [
       "count    1049381.000000\n",
       "mean        1303.850100\n",
       "std         3151.892795\n",
       "min           11.000000\n",
       "25%           49.000000\n",
       "50%          183.000000\n",
       "75%          956.000000\n",
       "max       191530.000000\n",
       "Name: total_claim_count, dtype: float64"
      ]
     },
     "execution_count": 15,
     "metadata": {},
     "output_type": "execute_result"
    }
   ],
   "source": [
    "df_npi.total_claim_count.describe()"
   ]
  },
  {
   "cell_type": "code",
   "execution_count": 16,
   "metadata": {
    "collapsed": false
   },
   "outputs": [
    {
     "data": {
      "text/html": [
       "<div>\n",
       "<table border=\"1\" class=\"dataframe\">\n",
       "  <thead>\n",
       "    <tr style=\"text-align: right;\">\n",
       "      <th></th>\n",
       "      <th>npi</th>\n",
       "      <th>last_name</th>\n",
       "      <th>first_name</th>\n",
       "      <th>middle_initial</th>\n",
       "      <th>credentials</th>\n",
       "      <th>gender</th>\n",
       "      <th>entity_code</th>\n",
       "      <th>provider_street1</th>\n",
       "      <th>prover_street2</th>\n",
       "      <th>provider_city</th>\n",
       "      <th>...</th>\n",
       "      <th>mapd_claim_cost</th>\n",
       "      <th>pdp_claim_count</th>\n",
       "      <th>pdp_redact_flag</th>\n",
       "      <th>pdp_claim_cost</th>\n",
       "      <th>lis_claim_count</th>\n",
       "      <th>lis_redact_flag</th>\n",
       "      <th>lis_claim_cost</th>\n",
       "      <th>nonlis_claim_count</th>\n",
       "      <th>nonlis_redact_flag</th>\n",
       "      <th>nonlis_claim_cost</th>\n",
       "    </tr>\n",
       "  </thead>\n",
       "  <tbody>\n",
       "    <tr>\n",
       "      <th>421146</th>\n",
       "      <td>1750432969</td>\n",
       "      <td>HURLEY</td>\n",
       "      <td>DANIEL</td>\n",
       "      <td>J</td>\n",
       "      <td>M.D.</td>\n",
       "      <td>M</td>\n",
       "      <td>I</td>\n",
       "      <td>1600 ALBANY ST</td>\n",
       "      <td>SOUTH ENTRANCE GROUND FLOOR</td>\n",
       "      <td>BEECH GROVE</td>\n",
       "      <td>...</td>\n",
       "      <td>1546574.08</td>\n",
       "      <td>162897</td>\n",
       "      <td>NaN</td>\n",
       "      <td>8527932.88</td>\n",
       "      <td>164645</td>\n",
       "      <td>NaN</td>\n",
       "      <td>8804691.47</td>\n",
       "      <td>26885</td>\n",
       "      <td>NaN</td>\n",
       "      <td>1269815.49</td>\n",
       "    </tr>\n",
       "  </tbody>\n",
       "</table>\n",
       "<p>1 rows × 46 columns</p>\n",
       "</div>"
      ],
      "text/plain": [
       "               npi last_name first_name middle_initial credentials gender  \\\n",
       "421146  1750432969    HURLEY     DANIEL              J        M.D.      M   \n",
       "\n",
       "       entity_code provider_street1               prover_street2  \\\n",
       "421146           I   1600 ALBANY ST  SOUTH ENTRANCE GROUND FLOOR   \n",
       "\n",
       "       provider_city        ...         mapd_claim_cost pdp_claim_count  \\\n",
       "421146   BEECH GROVE        ...              1546574.08          162897   \n",
       "\n",
       "       pdp_redact_flag pdp_claim_cost lis_claim_count  lis_redact_flag  \\\n",
       "421146             NaN     8527932.88          164645              NaN   \n",
       "\n",
       "        lis_claim_cost  nonlis_claim_count  nonlis_redact_flag  \\\n",
       "421146      8804691.47               26885                 NaN   \n",
       "\n",
       "        nonlis_claim_cost  \n",
       "421146         1269815.49  \n",
       "\n",
       "[1 rows x 46 columns]"
      ]
     },
     "execution_count": 16,
     "metadata": {},
     "output_type": "execute_result"
    }
   ],
   "source": [
    "df_npi[df_npi['total_claim_count']==191530]"
   ]
  },
  {
   "cell_type": "code",
   "execution_count": 17,
   "metadata": {
    "collapsed": true
   },
   "outputs": [],
   "source": [
    "# Daniel J. Hurley appears to be an outlier...https://www.propublica.org/article/part-d-prescriber-checkup-mainbar"
   ]
  },
  {
   "cell_type": "code",
   "execution_count": 18,
   "metadata": {
    "collapsed": true
   },
   "outputs": [],
   "source": [
    "df_npi_clean = df_npi[df_npi['total_claim_count']!=191530]"
   ]
  },
  {
   "cell_type": "code",
   "execution_count": 20,
   "metadata": {
    "collapsed": false
   },
   "outputs": [
    {
     "data": {
      "text/plain": [
       "<matplotlib.axes._subplots.AxesSubplot at 0x7f81eeae5710>"
      ]
     },
     "execution_count": 20,
     "metadata": {},
     "output_type": "execute_result"
    },
    {
     "data": {
      "image/png": "[encoded data removed]",
      "text/plain": [
       "<matplotlib.figure.Figure at 0x7f8207f70cd0>"
      ]
     },
     "metadata": {},
     "output_type": "display_data"
    }
   ],
   "source": [
    "df_npi_clean['total_claim_count'].hist(bins=40)"
   ]
  },
  {
   "cell_type": "code",
   "execution_count": 41,
   "metadata": {
    "collapsed": false
   },
   "outputs": [
    {
     "name": "stderr",
     "output_type": "stream",
     "text": [
      "/home/ubuntu/anaconda2/lib/python2.7/site-packages/ipykernel/__main__.py:1: FutureWarning: \n",
      "The default value for 'return_type' will change to 'axes' in a future release.\n",
      " To use the future behavior now, set return_type='axes'.\n",
      " To keep the previous behavior and silence this warning, set return_type='dict'.\n",
      "  if __name__ == '__main__':\n"
     ]
    },
    {
     "data": {
      "text/plain": [
       "{'boxes': [<matplotlib.lines.Line2D at 0x7f8266acac10>],\n",
       " 'caps': [<matplotlib.lines.Line2D at 0x7f8266a20a50>,\n",
       "  <matplotlib.lines.Line2D at 0x7f8266a340d0>],\n",
       " 'fliers': [<matplotlib.lines.Line2D at 0x7f8266a34d50>],\n",
       " 'means': [],\n",
       " 'medians': [<matplotlib.lines.Line2D at 0x7f8266a34710>],\n",
       " 'whiskers': [<matplotlib.lines.Line2D at 0x7f8266acae10>,\n",
       "  <matplotlib.lines.Line2D at 0x7f8266a20510>]}"
      ]
     },
     "execution_count": 41,
     "metadata": {},
     "output_type": "execute_result"
    },
    {
     "data": {
      "image/png": "[encoded data removed]",
      "text/plain": [
       "<matplotlib.figure.Figure at 0x7f8206a7fd10>"
      ]
     },
     "metadata": {},
     "output_type": "display_data"
    }
   ],
   "source": [
    "df_npi_clean.boxplot(column = 'total_claim_count')"
   ]
  },
  {
   "cell_type": "code",
   "execution_count": 43,
   "metadata": {
    "collapsed": true
   },
   "outputs": [],
   "source": [
    "# Lots of outliers..."
   ]
  },
  {
   "cell_type": "markdown",
   "metadata": {
    "collapsed": true
   },
   "source": [
    "#### Explore bene_count nulls"
   ]
  },
  {
   "cell_type": "markdown",
   "metadata": {},
   "source": [
    "```\n",
    "bene_count                905381 non-null float64\n",
    "total_claim_count         1049381 non-null int64\n",
    "total_drug_cost           1049381 non-null float64\n",
    "total_day_supply          1049381 non-null int64\n",
    "bene_count_ge65           598228 non-null float64\n",
    "bene_count_ge65_redact    451153 non-null object\n",
    "total_claim_count_ge65    823082 non-null float64\n",
    "ge65_redact_flag          226299 non-null object\n",
    "total_drug_cost_ge65      823082 non-null float64\n",
    "total_day_supply_ge65     823082 non-null float64\n",
    "brand_claim_count         571130 non-null float64\n",
    "brand_redact_flag         478251 non-null object\n",
    "brand_claim_cost          571130 non-null float64\n",
    "generic_claim_count       758402 non-null float64\n",
    "generic_redact_flag       290979 non-null object\n",
    "generic_claim_cost        758402 non-null float64\n",
    "other_claim_count         756433 non-null float64\n",
    "other_redact_flag         292948 non-null object\n",
    "other_claim_cost          756433 non-null float64\n",
    "mapd_claim_count          809090 non-null float64\n",
    "mapd_redact_flag          240291 non-null object\n",
    "mapd_claim_cost           809090 non-null float64\n",
    "pdp_claim_count           809075 non-null float64\n",
    "pdp_redact_flag           240306 non-null object\n",
    "pdp_claim_cost            809075 non-null float64\n",
    "lis_claim_count           821902 non-null float64\n",
    "lis_redact_flag           227479 non-null object\n",
    "lis_claim_cost            821902 non-null float64\n",
    "nonlis_claim_count        821904 non-null float64\n",
    "nonlis_redact_flag        227477 non-null object\n",
    "nonlis_claim_cost         821904 non-null float64\n",
    "```"
   ]
  },
  {
   "cell_type": "code",
   "execution_count": 8,
   "metadata": {
    "collapsed": false
   },
   "outputs": [
    {
     "data": {
      "text/html": [
       "<div>\n",
       "<table border=\"1\" class=\"dataframe\">\n",
       "  <thead>\n",
       "    <tr style=\"text-align: right;\">\n",
       "      <th></th>\n",
       "      <th>count</th>\n",
       "      <th>mean</th>\n",
       "      <th>std</th>\n",
       "      <th>min</th>\n",
       "      <th>25%</th>\n",
       "      <th>50%</th>\n",
       "      <th>75%</th>\n",
       "      <th>max</th>\n",
       "    </tr>\n",
       "  </thead>\n",
       "  <tbody>\n",
       "    <tr>\n",
       "      <th>npi</th>\n",
       "      <td>144000</td>\n",
       "      <td>1.500618e+09</td>\n",
       "      <td>2.881027e+08</td>\n",
       "      <td>1003000175</td>\n",
       "      <td>1.255334e+09</td>\n",
       "      <td>1.497987e+09</td>\n",
       "      <td>1.750352e+09</td>\n",
       "      <td>1.993000e+09</td>\n",
       "    </tr>\n",
       "    <tr>\n",
       "      <th>bene_count</th>\n",
       "      <td>0</td>\n",
       "      <td>NaN</td>\n",
       "      <td>NaN</td>\n",
       "      <td>NaN</td>\n",
       "      <td>NaN</td>\n",
       "      <td>NaN</td>\n",
       "      <td>NaN</td>\n",
       "      <td>NaN</td>\n",
       "    </tr>\n",
       "    <tr>\n",
       "      <th>total_claim_count</th>\n",
       "      <td>144000</td>\n",
       "      <td>2.857080e+01</td>\n",
       "      <td>2.873775e+01</td>\n",
       "      <td>11</td>\n",
       "      <td>1.400000e+01</td>\n",
       "      <td>1.900000e+01</td>\n",
       "      <td>3.100000e+01</td>\n",
       "      <td>8.880000e+02</td>\n",
       "    </tr>\n",
       "    <tr>\n",
       "      <th>total_drug_cost</th>\n",
       "      <td>144000</td>\n",
       "      <td>3.054287e+03</td>\n",
       "      <td>1.740262e+04</td>\n",
       "      <td>0</td>\n",
       "      <td>3.349400e+02</td>\n",
       "      <td>9.631900e+02</td>\n",
       "      <td>2.420692e+03</td>\n",
       "      <td>3.108353e+06</td>\n",
       "    </tr>\n",
       "    <tr>\n",
       "      <th>total_day_supply</th>\n",
       "      <td>144000</td>\n",
       "      <td>9.575081e+02</td>\n",
       "      <td>1.086201e+03</td>\n",
       "      <td>11</td>\n",
       "      <td>3.200000e+02</td>\n",
       "      <td>6.040000e+02</td>\n",
       "      <td>1.173000e+03</td>\n",
       "      <td>2.752300e+04</td>\n",
       "    </tr>\n",
       "    <tr>\n",
       "      <th>bene_count_ge65</th>\n",
       "      <td>10133</td>\n",
       "      <td>0.000000e+00</td>\n",
       "      <td>0.000000e+00</td>\n",
       "      <td>0</td>\n",
       "      <td>0.000000e+00</td>\n",
       "      <td>0.000000e+00</td>\n",
       "      <td>0.000000e+00</td>\n",
       "      <td>0.000000e+00</td>\n",
       "    </tr>\n",
       "    <tr>\n",
       "      <th>total_claim_count_ge65</th>\n",
       "      <td>64091</td>\n",
       "      <td>2.374017e+01</td>\n",
       "      <td>2.599521e+01</td>\n",
       "      <td>0</td>\n",
       "      <td>1.200000e+01</td>\n",
       "      <td>1.700000e+01</td>\n",
       "      <td>2.900000e+01</td>\n",
       "      <td>7.510000e+02</td>\n",
       "    </tr>\n",
       "    <tr>\n",
       "      <th>total_drug_cost_ge65</th>\n",
       "      <td>64091</td>\n",
       "      <td>1.907054e+03</td>\n",
       "      <td>6.726124e+03</td>\n",
       "      <td>0</td>\n",
       "      <td>1.658700e+02</td>\n",
       "      <td>7.260800e+02</td>\n",
       "      <td>2.042555e+03</td>\n",
       "      <td>7.658493e+05</td>\n",
       "    </tr>\n",
       "    <tr>\n",
       "      <th>total_day_supply_ge65</th>\n",
       "      <td>64091</td>\n",
       "      <td>9.264829e+02</td>\n",
       "      <td>1.072289e+03</td>\n",
       "      <td>0</td>\n",
       "      <td>2.470000e+02</td>\n",
       "      <td>6.020000e+02</td>\n",
       "      <td>1.240000e+03</td>\n",
       "      <td>1.555900e+04</td>\n",
       "    </tr>\n",
       "    <tr>\n",
       "      <th>brand_claim_count</th>\n",
       "      <td>51264</td>\n",
       "      <td>8.655002e+00</td>\n",
       "      <td>1.497176e+01</td>\n",
       "      <td>0</td>\n",
       "      <td>0.000000e+00</td>\n",
       "      <td>0.000000e+00</td>\n",
       "      <td>1.400000e+01</td>\n",
       "      <td>3.430000e+02</td>\n",
       "    </tr>\n",
       "    <tr>\n",
       "      <th>brand_claim_cost</th>\n",
       "      <td>51264</td>\n",
       "      <td>3.465178e+03</td>\n",
       "      <td>1.901212e+04</td>\n",
       "      <td>0</td>\n",
       "      <td>0.000000e+00</td>\n",
       "      <td>0.000000e+00</td>\n",
       "      <td>2.501540e+03</td>\n",
       "      <td>9.465321e+05</td>\n",
       "    </tr>\n",
       "    <tr>\n",
       "      <th>generic_claim_count</th>\n",
       "      <td>50573</td>\n",
       "      <td>2.937121e+01</td>\n",
       "      <td>3.092940e+01</td>\n",
       "      <td>0</td>\n",
       "      <td>1.300000e+01</td>\n",
       "      <td>1.800000e+01</td>\n",
       "      <td>3.300000e+01</td>\n",
       "      <td>8.640000e+02</td>\n",
       "    </tr>\n",
       "    <tr>\n",
       "      <th>generic_claim_cost</th>\n",
       "      <td>50573</td>\n",
       "      <td>8.678213e+02</td>\n",
       "      <td>1.784996e+03</td>\n",
       "      <td>0</td>\n",
       "      <td>1.462700e+02</td>\n",
       "      <td>3.632400e+02</td>\n",
       "      <td>8.925600e+02</td>\n",
       "      <td>8.079206e+04</td>\n",
       "    </tr>\n",
       "    <tr>\n",
       "      <th>other_claim_count</th>\n",
       "      <td>127939</td>\n",
       "      <td>4.214508e-02</td>\n",
       "      <td>8.408635e-01</td>\n",
       "      <td>0</td>\n",
       "      <td>0.000000e+00</td>\n",
       "      <td>0.000000e+00</td>\n",
       "      <td>0.000000e+00</td>\n",
       "      <td>5.600000e+01</td>\n",
       "    </tr>\n",
       "    <tr>\n",
       "      <th>other_claim_cost</th>\n",
       "      <td>127939</td>\n",
       "      <td>1.059541e+00</td>\n",
       "      <td>3.699971e+01</td>\n",
       "      <td>0</td>\n",
       "      <td>0.000000e+00</td>\n",
       "      <td>0.000000e+00</td>\n",
       "      <td>0.000000e+00</td>\n",
       "      <td>1.007665e+04</td>\n",
       "    </tr>\n",
       "    <tr>\n",
       "      <th>mapd_claim_count</th>\n",
       "      <td>65451</td>\n",
       "      <td>7.345480e+00</td>\n",
       "      <td>1.647749e+01</td>\n",
       "      <td>0</td>\n",
       "      <td>0.000000e+00</td>\n",
       "      <td>0.000000e+00</td>\n",
       "      <td>1.200000e+01</td>\n",
       "      <td>4.170000e+02</td>\n",
       "    </tr>\n",
       "    <tr>\n",
       "      <th>mapd_claim_cost</th>\n",
       "      <td>65451</td>\n",
       "      <td>6.786688e+02</td>\n",
       "      <td>5.709023e+03</td>\n",
       "      <td>0</td>\n",
       "      <td>0.000000e+00</td>\n",
       "      <td>0.000000e+00</td>\n",
       "      <td>1.820250e+02</td>\n",
       "      <td>7.279323e+05</td>\n",
       "    </tr>\n",
       "    <tr>\n",
       "      <th>pdp_claim_count</th>\n",
       "      <td>65436</td>\n",
       "      <td>2.791430e+01</td>\n",
       "      <td>3.189733e+01</td>\n",
       "      <td>0</td>\n",
       "      <td>1.300000e+01</td>\n",
       "      <td>1.900000e+01</td>\n",
       "      <td>3.300000e+01</td>\n",
       "      <td>8.880000e+02</td>\n",
       "    </tr>\n",
       "    <tr>\n",
       "      <th>pdp_claim_cost</th>\n",
       "      <td>65436</td>\n",
       "      <td>3.473217e+03</td>\n",
       "      <td>1.702224e+04</td>\n",
       "      <td>0</td>\n",
       "      <td>2.915900e+02</td>\n",
       "      <td>9.991050e+02</td>\n",
       "      <td>2.670570e+03</td>\n",
       "      <td>9.088403e+05</td>\n",
       "    </tr>\n",
       "    <tr>\n",
       "      <th>lis_claim_count</th>\n",
       "      <td>64958</td>\n",
       "      <td>1.517139e+01</td>\n",
       "      <td>2.910283e+01</td>\n",
       "      <td>0</td>\n",
       "      <td>0.000000e+00</td>\n",
       "      <td>0.000000e+00</td>\n",
       "      <td>1.900000e+01</td>\n",
       "      <td>8.050000e+02</td>\n",
       "    </tr>\n",
       "    <tr>\n",
       "      <th>lis_claim_cost</th>\n",
       "      <td>64958</td>\n",
       "      <td>2.258208e+03</td>\n",
       "      <td>1.535570e+04</td>\n",
       "      <td>0</td>\n",
       "      <td>0.000000e+00</td>\n",
       "      <td>0.000000e+00</td>\n",
       "      <td>1.102763e+03</td>\n",
       "      <td>1.252965e+06</td>\n",
       "    </tr>\n",
       "    <tr>\n",
       "      <th>nonlis_claim_count</th>\n",
       "      <td>64960</td>\n",
       "      <td>1.982015e+01</td>\n",
       "      <td>2.337664e+01</td>\n",
       "      <td>0</td>\n",
       "      <td>0.000000e+00</td>\n",
       "      <td>1.500000e+01</td>\n",
       "      <td>2.500000e+01</td>\n",
       "      <td>4.970000e+02</td>\n",
       "    </tr>\n",
       "    <tr>\n",
       "      <th>nonlis_claim_cost</th>\n",
       "      <td>64960</td>\n",
       "      <td>1.708355e+03</td>\n",
       "      <td>8.490213e+03</td>\n",
       "      <td>0</td>\n",
       "      <td>0.000000e+00</td>\n",
       "      <td>4.516050e+02</td>\n",
       "      <td>1.666307e+03</td>\n",
       "      <td>1.089768e+06</td>\n",
       "    </tr>\n",
       "  </tbody>\n",
       "</table>\n",
       "</div>"
      ],
      "text/plain": [
       "                         count          mean           std         min  \\\n",
       "npi                     144000  1.500618e+09  2.881027e+08  1003000175   \n",
       "bene_count                   0           NaN           NaN         NaN   \n",
       "total_claim_count       144000  2.857080e+01  2.873775e+01          11   \n",
       "total_drug_cost         144000  3.054287e+03  1.740262e+04           0   \n",
       "total_day_supply        144000  9.575081e+02  1.086201e+03          11   \n",
       "bene_count_ge65          10133  0.000000e+00  0.000000e+00           0   \n",
       "total_claim_count_ge65   64091  2.374017e+01  2.599521e+01           0   \n",
       "total_drug_cost_ge65     64091  1.907054e+03  6.726124e+03           0   \n",
       "total_day_supply_ge65    64091  9.264829e+02  1.072289e+03           0   \n",
       "brand_claim_count        51264  8.655002e+00  1.497176e+01           0   \n",
       "brand_claim_cost         51264  3.465178e+03  1.901212e+04           0   \n",
       "generic_claim_count      50573  2.937121e+01  3.092940e+01           0   \n",
       "generic_claim_cost       50573  8.678213e+02  1.784996e+03           0   \n",
       "other_claim_count       127939  4.214508e-02  8.408635e-01           0   \n",
       "other_claim_cost        127939  1.059541e+00  3.699971e+01           0   \n",
       "mapd_claim_count         65451  7.345480e+00  1.647749e+01           0   \n",
       "mapd_claim_cost          65451  6.786688e+02  5.709023e+03           0   \n",
       "pdp_claim_count          65436  2.791430e+01  3.189733e+01           0   \n",
       "pdp_claim_cost           65436  3.473217e+03  1.702224e+04           0   \n",
       "lis_claim_count          64958  1.517139e+01  2.910283e+01           0   \n",
       "lis_claim_cost           64958  2.258208e+03  1.535570e+04           0   \n",
       "nonlis_claim_count       64960  1.982015e+01  2.337664e+01           0   \n",
       "nonlis_claim_cost        64960  1.708355e+03  8.490213e+03           0   \n",
       "\n",
       "                                 25%           50%           75%           max  \n",
       "npi                     1.255334e+09  1.497987e+09  1.750352e+09  1.993000e+09  \n",
       "bene_count                       NaN           NaN           NaN           NaN  \n",
       "total_claim_count       1.400000e+01  1.900000e+01  3.100000e+01  8.880000e+02  \n",
       "total_drug_cost         3.349400e+02  9.631900e+02  2.420692e+03  3.108353e+06  \n",
       "total_day_supply        3.200000e+02  6.040000e+02  1.173000e+03  2.752300e+04  \n",
       "bene_count_ge65         0.000000e+00  0.000000e+00  0.000000e+00  0.000000e+00  \n",
       "total_claim_count_ge65  1.200000e+01  1.700000e+01  2.900000e+01  7.510000e+02  \n",
       "total_drug_cost_ge65    1.658700e+02  7.260800e+02  2.042555e+03  7.658493e+05  \n",
       "total_day_supply_ge65   2.470000e+02  6.020000e+02  1.240000e+03  1.555900e+04  \n",
       "brand_claim_count       0.000000e+00  0.000000e+00  1.400000e+01  3.430000e+02  \n",
       "brand_claim_cost        0.000000e+00  0.000000e+00  2.501540e+03  9.465321e+05  \n",
       "generic_claim_count     1.300000e+01  1.800000e+01  3.300000e+01  8.640000e+02  \n",
       "generic_claim_cost      1.462700e+02  3.632400e+02  8.925600e+02  8.079206e+04  \n",
       "other_claim_count       0.000000e+00  0.000000e+00  0.000000e+00  5.600000e+01  \n",
       "other_claim_cost        0.000000e+00  0.000000e+00  0.000000e+00  1.007665e+04  \n",
       "mapd_claim_count        0.000000e+00  0.000000e+00  1.200000e+01  4.170000e+02  \n",
       "mapd_claim_cost         0.000000e+00  0.000000e+00  1.820250e+02  7.279323e+05  \n",
       "pdp_claim_count         1.300000e+01  1.900000e+01  3.300000e+01  8.880000e+02  \n",
       "pdp_claim_cost          2.915900e+02  9.991050e+02  2.670570e+03  9.088403e+05  \n",
       "lis_claim_count         0.000000e+00  0.000000e+00  1.900000e+01  8.050000e+02  \n",
       "lis_claim_cost          0.000000e+00  0.000000e+00  1.102763e+03  1.252965e+06  \n",
       "nonlis_claim_count      0.000000e+00  1.500000e+01  2.500000e+01  4.970000e+02  \n",
       "nonlis_claim_cost       0.000000e+00  4.516050e+02  1.666307e+03  1.089768e+06  "
      ]
     },
     "execution_count": 8,
     "metadata": {},
     "output_type": "execute_result"
    }
   ],
   "source": [
    "df_npi[df_npi['bene_count'].isnull()].describe().T"
   ]
  },
  {
   "cell_type": "markdown",
   "metadata": {},
   "source": [
    "#### Nulls seem problematic here, when bene_count is null. Indicates fewer than 11 people and leads to a lot of other nulls in the subsequent claim/cost data.  Seems too many records to just toss out, but could possibly justify on business/practicality grounds b/c the cost to govenment is relatively small.  On the other hand, broken windows model would state otherwise."
   ]
  },
  {
   "cell_type": "code",
   "execution_count": 10,
   "metadata": {
    "collapsed": false
   },
   "outputs": [
    {
     "data": {
      "text/html": [
       "<div>\n",
       "<table border=\"1\" class=\"dataframe\">\n",
       "  <thead>\n",
       "    <tr style=\"text-align: right;\">\n",
       "      <th></th>\n",
       "      <th>count</th>\n",
       "      <th>mean</th>\n",
       "      <th>std</th>\n",
       "      <th>min</th>\n",
       "      <th>25%</th>\n",
       "      <th>50%</th>\n",
       "      <th>75%</th>\n",
       "      <th>max</th>\n",
       "    </tr>\n",
       "  </thead>\n",
       "  <tbody>\n",
       "    <tr>\n",
       "      <th>npi</th>\n",
       "      <td>905381</td>\n",
       "      <td>1.499635e+09</td>\n",
       "      <td>2.878678e+08</td>\n",
       "      <td>1.003000e+09</td>\n",
       "      <td>1.245561e+09</td>\n",
       "      <td>1.497977e+09</td>\n",
       "      <td>1.740573e+09</td>\n",
       "      <td>1.993000e+09</td>\n",
       "    </tr>\n",
       "    <tr>\n",
       "      <th>bene_count</th>\n",
       "      <td>905381</td>\n",
       "      <td>1.432203e+02</td>\n",
       "      <td>1.826368e+02</td>\n",
       "      <td>1.100000e+01</td>\n",
       "      <td>3.100000e+01</td>\n",
       "      <td>7.800000e+01</td>\n",
       "      <td>1.910000e+02</td>\n",
       "      <td>2.416400e+04</td>\n",
       "    </tr>\n",
       "    <tr>\n",
       "      <th>total_claim_count</th>\n",
       "      <td>905381</td>\n",
       "      <td>1.506682e+03</td>\n",
       "      <td>3.348813e+03</td>\n",
       "      <td>1.100000e+01</td>\n",
       "      <td>8.100000e+01</td>\n",
       "      <td>2.670000e+02</td>\n",
       "      <td>1.284000e+03</td>\n",
       "      <td>1.915300e+05</td>\n",
       "    </tr>\n",
       "    <tr>\n",
       "      <th>total_drug_cost</th>\n",
       "      <td>905381</td>\n",
       "      <td>1.139587e+05</td>\n",
       "      <td>2.539813e+05</td>\n",
       "      <td>1.588000e+01</td>\n",
       "      <td>2.584630e+03</td>\n",
       "      <td>1.484011e+04</td>\n",
       "      <td>1.111202e+05</td>\n",
       "      <td>1.660254e+07</td>\n",
       "    </tr>\n",
       "    <tr>\n",
       "      <th>total_day_supply</th>\n",
       "      <td>905381</td>\n",
       "      <td>5.798585e+04</td>\n",
       "      <td>1.260016e+05</td>\n",
       "      <td>1.100000e+01</td>\n",
       "      <td>1.378000e+03</td>\n",
       "      <td>6.840000e+03</td>\n",
       "      <td>4.717000e+04</td>\n",
       "      <td>4.339456e+06</td>\n",
       "    </tr>\n",
       "    <tr>\n",
       "      <th>bene_count_ge65</th>\n",
       "      <td>588095</td>\n",
       "      <td>1.503218e+02</td>\n",
       "      <td>1.733284e+02</td>\n",
       "      <td>0.000000e+00</td>\n",
       "      <td>4.300000e+01</td>\n",
       "      <td>9.500000e+01</td>\n",
       "      <td>2.020000e+02</td>\n",
       "      <td>2.050000e+04</td>\n",
       "    </tr>\n",
       "    <tr>\n",
       "      <th>total_claim_count_ge65</th>\n",
       "      <td>758991</td>\n",
       "      <td>1.320982e+03</td>\n",
       "      <td>2.883868e+03</td>\n",
       "      <td>0.000000e+00</td>\n",
       "      <td>8.100000e+01</td>\n",
       "      <td>2.520000e+02</td>\n",
       "      <td>1.141000e+03</td>\n",
       "      <td>1.661710e+05</td>\n",
       "    </tr>\n",
       "    <tr>\n",
       "      <th>total_drug_cost_ge65</th>\n",
       "      <td>758991</td>\n",
       "      <td>8.929375e+04</td>\n",
       "      <td>1.873268e+05</td>\n",
       "      <td>0.000000e+00</td>\n",
       "      <td>2.769660e+03</td>\n",
       "      <td>1.497353e+04</td>\n",
       "      <td>9.113933e+04</td>\n",
       "      <td>9.916113e+06</td>\n",
       "    </tr>\n",
       "    <tr>\n",
       "      <th>total_day_supply_ge65</th>\n",
       "      <td>758991</td>\n",
       "      <td>5.369508e+04</td>\n",
       "      <td>1.130394e+05</td>\n",
       "      <td>0.000000e+00</td>\n",
       "      <td>1.535000e+03</td>\n",
       "      <td>7.334000e+03</td>\n",
       "      <td>4.497750e+04</td>\n",
       "      <td>3.792242e+06</td>\n",
       "    </tr>\n",
       "    <tr>\n",
       "      <th>brand_claim_count</th>\n",
       "      <td>519866</td>\n",
       "      <td>5.232611e+02</td>\n",
       "      <td>1.039943e+03</td>\n",
       "      <td>0.000000e+00</td>\n",
       "      <td>2.200000e+01</td>\n",
       "      <td>1.060000e+02</td>\n",
       "      <td>6.230000e+02</td>\n",
       "      <td>5.289600e+04</td>\n",
       "    </tr>\n",
       "    <tr>\n",
       "      <th>brand_claim_cost</th>\n",
       "      <td>519866</td>\n",
       "      <td>1.209058e+05</td>\n",
       "      <td>2.443948e+05</td>\n",
       "      <td>0.000000e+00</td>\n",
       "      <td>3.413385e+03</td>\n",
       "      <td>2.504410e+04</td>\n",
       "      <td>1.457634e+05</td>\n",
       "      <td>1.536346e+07</td>\n",
       "    </tr>\n",
       "    <tr>\n",
       "      <th>generic_claim_count</th>\n",
       "      <td>707829</td>\n",
       "      <td>1.441155e+03</td>\n",
       "      <td>2.816886e+03</td>\n",
       "      <td>0.000000e+00</td>\n",
       "      <td>1.180000e+02</td>\n",
       "      <td>3.490000e+02</td>\n",
       "      <td>1.435000e+03</td>\n",
       "      <td>1.414270e+05</td>\n",
       "    </tr>\n",
       "    <tr>\n",
       "      <th>generic_claim_cost</th>\n",
       "      <td>707829</td>\n",
       "      <td>3.552231e+04</td>\n",
       "      <td>6.577491e+04</td>\n",
       "      <td>0.000000e+00</td>\n",
       "      <td>2.377090e+03</td>\n",
       "      <td>8.840570e+03</td>\n",
       "      <td>3.944914e+04</td>\n",
       "      <td>3.272083e+06</td>\n",
       "    </tr>\n",
       "    <tr>\n",
       "      <th>other_claim_count</th>\n",
       "      <td>628494</td>\n",
       "      <td>1.698069e+01</td>\n",
       "      <td>5.214515e+01</td>\n",
       "      <td>0.000000e+00</td>\n",
       "      <td>0.000000e+00</td>\n",
       "      <td>0.000000e+00</td>\n",
       "      <td>1.400000e+01</td>\n",
       "      <td>4.862000e+03</td>\n",
       "    </tr>\n",
       "    <tr>\n",
       "      <th>other_claim_cost</th>\n",
       "      <td>628494</td>\n",
       "      <td>5.109020e+02</td>\n",
       "      <td>1.735860e+03</td>\n",
       "      <td>0.000000e+00</td>\n",
       "      <td>0.000000e+00</td>\n",
       "      <td>0.000000e+00</td>\n",
       "      <td>3.060475e+02</td>\n",
       "      <td>2.633868e+05</td>\n",
       "    </tr>\n",
       "    <tr>\n",
       "      <th>mapd_claim_count</th>\n",
       "      <td>743639</td>\n",
       "      <td>5.911695e+02</td>\n",
       "      <td>1.577585e+03</td>\n",
       "      <td>0.000000e+00</td>\n",
       "      <td>3.200000e+01</td>\n",
       "      <td>9.800000e+01</td>\n",
       "      <td>4.200000e+02</td>\n",
       "      <td>6.092400e+04</td>\n",
       "    </tr>\n",
       "    <tr>\n",
       "      <th>mapd_claim_cost</th>\n",
       "      <td>743639</td>\n",
       "      <td>3.853063e+04</td>\n",
       "      <td>9.691239e+04</td>\n",
       "      <td>0.000000e+00</td>\n",
       "      <td>9.638350e+02</td>\n",
       "      <td>5.127000e+03</td>\n",
       "      <td>3.118091e+04</td>\n",
       "      <td>5.911482e+06</td>\n",
       "    </tr>\n",
       "    <tr>\n",
       "      <th>pdp_claim_count</th>\n",
       "      <td>743639</td>\n",
       "      <td>1.212725e+03</td>\n",
       "      <td>2.684955e+03</td>\n",
       "      <td>0.000000e+00</td>\n",
       "      <td>7.900000e+01</td>\n",
       "      <td>2.560000e+02</td>\n",
       "      <td>1.122000e+03</td>\n",
       "      <td>1.628970e+05</td>\n",
       "    </tr>\n",
       "    <tr>\n",
       "      <th>pdp_claim_cost</th>\n",
       "      <td>743639</td>\n",
       "      <td>9.775346e+04</td>\n",
       "      <td>2.142923e+05</td>\n",
       "      <td>0.000000e+00</td>\n",
       "      <td>2.733690e+03</td>\n",
       "      <td>1.628123e+04</td>\n",
       "      <td>1.009324e+05</td>\n",
       "      <td>1.602179e+07</td>\n",
       "    </tr>\n",
       "    <tr>\n",
       "      <th>lis_claim_count</th>\n",
       "      <td>756944</td>\n",
       "      <td>8.339736e+02</td>\n",
       "      <td>2.287535e+03</td>\n",
       "      <td>0.000000e+00</td>\n",
       "      <td>4.600000e+01</td>\n",
       "      <td>1.500000e+02</td>\n",
       "      <td>6.200000e+02</td>\n",
       "      <td>1.646450e+05</td>\n",
       "    </tr>\n",
       "    <tr>\n",
       "      <th>lis_claim_cost</th>\n",
       "      <td>756944</td>\n",
       "      <td>6.779914e+04</td>\n",
       "      <td>1.832118e+05</td>\n",
       "      <td>0.000000e+00</td>\n",
       "      <td>1.702495e+03</td>\n",
       "      <td>9.465835e+03</td>\n",
       "      <td>5.490795e+04</td>\n",
       "      <td>1.188417e+07</td>\n",
       "    </tr>\n",
       "    <tr>\n",
       "      <th>nonlis_claim_count</th>\n",
       "      <td>756944</td>\n",
       "      <td>9.505740e+02</td>\n",
       "      <td>1.924157e+03</td>\n",
       "      <td>0.000000e+00</td>\n",
       "      <td>6.000000e+01</td>\n",
       "      <td>1.900000e+02</td>\n",
       "      <td>8.490000e+02</td>\n",
       "      <td>5.587000e+04</td>\n",
       "    </tr>\n",
       "    <tr>\n",
       "      <th>nonlis_claim_cost</th>\n",
       "      <td>756944</td>\n",
       "      <td>6.732852e+04</td>\n",
       "      <td>1.406034e+05</td>\n",
       "      <td>0.000000e+00</td>\n",
       "      <td>1.916908e+03</td>\n",
       "      <td>1.021072e+04</td>\n",
       "      <td>6.690060e+04</td>\n",
       "      <td>8.848214e+06</td>\n",
       "    </tr>\n",
       "  </tbody>\n",
       "</table>\n",
       "</div>"
      ],
      "text/plain": [
       "                         count          mean           std           min  \\\n",
       "npi                     905381  1.499635e+09  2.878678e+08  1.003000e+09   \n",
       "bene_count              905381  1.432203e+02  1.826368e+02  1.100000e+01   \n",
       "total_claim_count       905381  1.506682e+03  3.348813e+03  1.100000e+01   \n",
       "total_drug_cost         905381  1.139587e+05  2.539813e+05  1.588000e+01   \n",
       "total_day_supply        905381  5.798585e+04  1.260016e+05  1.100000e+01   \n",
       "bene_count_ge65         588095  1.503218e+02  1.733284e+02  0.000000e+00   \n",
       "total_claim_count_ge65  758991  1.320982e+03  2.883868e+03  0.000000e+00   \n",
       "total_drug_cost_ge65    758991  8.929375e+04  1.873268e+05  0.000000e+00   \n",
       "total_day_supply_ge65   758991  5.369508e+04  1.130394e+05  0.000000e+00   \n",
       "brand_claim_count       519866  5.232611e+02  1.039943e+03  0.000000e+00   \n",
       "brand_claim_cost        519866  1.209058e+05  2.443948e+05  0.000000e+00   \n",
       "generic_claim_count     707829  1.441155e+03  2.816886e+03  0.000000e+00   \n",
       "generic_claim_cost      707829  3.552231e+04  6.577491e+04  0.000000e+00   \n",
       "other_claim_count       628494  1.698069e+01  5.214515e+01  0.000000e+00   \n",
       "other_claim_cost        628494  5.109020e+02  1.735860e+03  0.000000e+00   \n",
       "mapd_claim_count        743639  5.911695e+02  1.577585e+03  0.000000e+00   \n",
       "mapd_claim_cost         743639  3.853063e+04  9.691239e+04  0.000000e+00   \n",
       "pdp_claim_count         743639  1.212725e+03  2.684955e+03  0.000000e+00   \n",
       "pdp_claim_cost          743639  9.775346e+04  2.142923e+05  0.000000e+00   \n",
       "lis_claim_count         756944  8.339736e+02  2.287535e+03  0.000000e+00   \n",
       "lis_claim_cost          756944  6.779914e+04  1.832118e+05  0.000000e+00   \n",
       "nonlis_claim_count      756944  9.505740e+02  1.924157e+03  0.000000e+00   \n",
       "nonlis_claim_cost       756944  6.732852e+04  1.406034e+05  0.000000e+00   \n",
       "\n",
       "                                 25%           50%           75%           max  \n",
       "npi                     1.245561e+09  1.497977e+09  1.740573e+09  1.993000e+09  \n",
       "bene_count              3.100000e+01  7.800000e+01  1.910000e+02  2.416400e+04  \n",
       "total_claim_count       8.100000e+01  2.670000e+02  1.284000e+03  1.915300e+05  \n",
       "total_drug_cost         2.584630e+03  1.484011e+04  1.111202e+05  1.660254e+07  \n",
       "total_day_supply        1.378000e+03  6.840000e+03  4.717000e+04  4.339456e+06  \n",
       "bene_count_ge65         4.300000e+01  9.500000e+01  2.020000e+02  2.050000e+04  \n",
       "total_claim_count_ge65  8.100000e+01  2.520000e+02  1.141000e+03  1.661710e+05  \n",
       "total_drug_cost_ge65    2.769660e+03  1.497353e+04  9.113933e+04  9.916113e+06  \n",
       "total_day_supply_ge65   1.535000e+03  7.334000e+03  4.497750e+04  3.792242e+06  \n",
       "brand_claim_count       2.200000e+01  1.060000e+02  6.230000e+02  5.289600e+04  \n",
       "brand_claim_cost        3.413385e+03  2.504410e+04  1.457634e+05  1.536346e+07  \n",
       "generic_claim_count     1.180000e+02  3.490000e+02  1.435000e+03  1.414270e+05  \n",
       "generic_claim_cost      2.377090e+03  8.840570e+03  3.944914e+04  3.272083e+06  \n",
       "other_claim_count       0.000000e+00  0.000000e+00  1.400000e+01  4.862000e+03  \n",
       "other_claim_cost        0.000000e+00  0.000000e+00  3.060475e+02  2.633868e+05  \n",
       "mapd_claim_count        3.200000e+01  9.800000e+01  4.200000e+02  6.092400e+04  \n",
       "mapd_claim_cost         9.638350e+02  5.127000e+03  3.118091e+04  5.911482e+06  \n",
       "pdp_claim_count         7.900000e+01  2.560000e+02  1.122000e+03  1.628970e+05  \n",
       "pdp_claim_cost          2.733690e+03  1.628123e+04  1.009324e+05  1.602179e+07  \n",
       "lis_claim_count         4.600000e+01  1.500000e+02  6.200000e+02  1.646450e+05  \n",
       "lis_claim_cost          1.702495e+03  9.465835e+03  5.490795e+04  1.188417e+07  \n",
       "nonlis_claim_count      6.000000e+01  1.900000e+02  8.490000e+02  5.587000e+04  \n",
       "nonlis_claim_cost       1.916908e+03  1.021072e+04  6.690060e+04  8.848214e+06  "
      ]
     },
     "execution_count": 10,
     "metadata": {},
     "output_type": "execute_result"
    }
   ],
   "source": [
    "df_npi[-df_npi['bene_count'].isnull()].describe().T"
   ]
  },
  {
   "cell_type": "code",
   "execution_count": 16,
   "metadata": {
    "collapsed": false
   },
   "outputs": [
    {
     "data": {
      "text/plain": [
       "4745"
      ]
     },
     "execution_count": 16,
     "metadata": {},
     "output_type": "execute_result"
    }
   ],
   "source": [
    "np.sum(df_npi['generic_claim_count']==0)"
   ]
  },
  {
   "cell_type": "code",
   "execution_count": 17,
   "metadata": {
    "collapsed": false
   },
   "outputs": [
    {
     "data": {
      "text/plain": [
       "93153"
      ]
     },
     "execution_count": 17,
     "metadata": {},
     "output_type": "execute_result"
    }
   ],
   "source": [
    "np.sum(df_npi['brand_claim_count']==0)"
   ]
  },
  {
   "cell_type": "markdown",
   "metadata": {},
   "source": [
    "#### Seems like nulls represent a non-zero value less than 11, not 'missing'. There are a substantial amount of zeros. Can this be backed up with the number of redact flags? If so, maybe impute a small-ish non-zero number. Also maybe bin for those who have values, 0, and those who will have values imputed. "
   ]
  },
  {
   "cell_type": "code",
   "execution_count": 21,
   "metadata": {
    "collapsed": false
   },
   "outputs": [
    {
     "data": {
      "text/plain": [
       "1049381"
      ]
     },
     "execution_count": 21,
     "metadata": {},
     "output_type": "execute_result"
    }
   ],
   "source": [
    "np.sum(df_npi['bene_count_ge65'].isnull()) + np.sum(df_npi['bene_count_ge65_redact'].isnull())"
   ]
  },
  {
   "cell_type": "code",
   "execution_count": 23,
   "metadata": {
    "collapsed": false
   },
   "outputs": [
    {
     "data": {
      "text/plain": [
       "1049381"
      ]
     },
     "execution_count": 23,
     "metadata": {},
     "output_type": "execute_result"
    }
   ],
   "source": [
    "np.sum(df_npi['brand_claim_count'].isnull()) + np.sum(df_npi['brand_redact_flag'].isnull())"
   ]
  },
  {
   "cell_type": "markdown",
   "metadata": {},
   "source": [
    "#### What are some other strategies for imputing?  \n",
    "Calculate a known ratio  \n",
    "Just an average number (5.5)  \n"
   ]
  },
  {
   "cell_type": "markdown",
   "metadata": {},
   "source": [
    "##### Redact flags support that nulls are values under 11, not zero. Flags + non-null values = total count"
   ]
  },
  {
   "cell_type": "code",
   "execution_count": 18,
   "metadata": {
    "collapsed": false
   },
   "outputs": [
    {
     "name": "stderr",
     "output_type": "stream",
     "text": [
      "/home/ubuntu/anaconda2/lib/python2.7/site-packages/ipykernel/__main__.py:1: FutureWarning: \n",
      "The default value for 'return_type' will change to 'axes' in a future release.\n",
      " To use the future behavior now, set return_type='axes'.\n",
      " To keep the previous behavior and silence this warning, set return_type='dict'.\n",
      "  if __name__ == '__main__':\n"
     ]
    },
    {
     "data": {
      "text/plain": [
       "{'boxes': [<matplotlib.lines.Line2D at 0x7fc4599c4f10>],\n",
       " 'caps': [<matplotlib.lines.Line2D at 0x7fc4599eae50>,\n",
       "  <matplotlib.lines.Line2D at 0x7fc45500b4d0>],\n",
       " 'fliers': [<matplotlib.lines.Line2D at 0x7fc458988c50>],\n",
       " 'means': [],\n",
       " 'medians': [<matplotlib.lines.Line2D at 0x7fc4599c4cd0>],\n",
       " 'whiskers': [<matplotlib.lines.Line2D at 0x7fc4599ea150>,\n",
       "  <matplotlib.lines.Line2D at 0x7fc4599ea810>]}"
      ]
     },
     "execution_count": 18,
     "metadata": {},
     "output_type": "execute_result"
    },
    {
     "data": {
      "image/png": "[encoded data removed]",
      "text/plain": [
       "<matplotlib.figure.Figure at 0x7fc460a4e950>"
      ]
     },
     "metadata": {},
     "output_type": "display_data"
    }
   ],
   "source": [
    "df_npi.boxplot(column = 'generic_claim_count')"
   ]
  },
  {
   "cell_type": "code",
   "execution_count": 19,
   "metadata": {
    "collapsed": false
   },
   "outputs": [
    {
     "data": {
      "text/plain": [
       "Index([u'npi', u'last_name', u'first_name', u'middle_initial', u'credentials',\n",
       "       u'gender', u'entity_code', u'provider_street1', u'prover_street2',\n",
       "       u'provider_city', u'provider_zip', u'provider_state',\n",
       "       u'provider_country', u'specialty_desc', u'description_flag',\n",
       "       u'bene_count', u'total_claim_count', u'total_drug_cost',\n",
       "       u'total_day_supply', u'bene_count_ge65', u'bene_count_ge65_redact',\n",
       "       u'total_claim_count_ge65', u'ge65_redact_flag', u'total_drug_cost_ge65',\n",
       "       u'total_day_supply_ge65', u'brand_claim_count', u'brand_redact_flag',\n",
       "       u'brand_claim_cost', u'generic_claim_count', u'generic_redact_flag',\n",
       "       u'generic_claim_cost', u'other_claim_count', u'other_redact_flag',\n",
       "       u'other_claim_cost', u'mapd_claim_count', u'mapd_redact_flag',\n",
       "       u'mapd_claim_cost', u'pdp_claim_count', u'pdp_redact_flag',\n",
       "       u'pdp_claim_cost', u'lis_claim_count', u'lis_redact_flag',\n",
       "       u'lis_claim_cost', u'nonlis_claim_count', u'nonlis_redact_flag',\n",
       "       u'nonlis_claim_cost'],\n",
       "      dtype='object')"
      ]
     },
     "execution_count": 19,
     "metadata": {},
     "output_type": "execute_result"
    }
   ],
   "source": [
    "df_npi.columns[]"
   ]
  },
  {
   "cell_type": "code",
   "execution_count": 35,
   "metadata": {
    "collapsed": false
   },
   "outputs": [],
   "source": [
    "cost_breakdown_list = df_npi[-df_npi['bene_count'].isnull()].describe().columns.values.tolist()"
   ]
  },
  {
   "cell_type": "code",
   "execution_count": 37,
   "metadata": {
    "collapsed": true
   },
   "outputs": [],
   "source": [
    "cost_breakdown_list = cost_breakdown_list[1:]"
   ]
  },
  {
   "cell_type": "code",
   "execution_count": 53,
   "metadata": {
    "collapsed": false
   },
   "outputs": [
    {
     "name": "stderr",
     "output_type": "stream",
     "text": [
      "/home/ubuntu/anaconda2/lib/python2.7/site-packages/ipykernel/__main__.py:3: FutureWarning: \n",
      "The default value for 'return_type' will change to 'axes' in a future release.\n",
      " To use the future behavior now, set return_type='axes'.\n",
      " To keep the previous behavior and silence this warning, set return_type='dict'.\n",
      "  app.launch_new_instance()\n"
     ]
    },
    {
     "data": {
      "text/plain": [
       "{'boxes': [<matplotlib.lines.Line2D at 0x7fc46b717990>,\n",
       "  <matplotlib.lines.Line2D at 0x7fc46b591f10>,\n",
       "  <matplotlib.lines.Line2D at 0x7fc46b45ed10>,\n",
       "  <matplotlib.lines.Line2D at 0x7fc46b3a4950>,\n",
       "  <matplotlib.lines.Line2D at 0x7fc46b1b1590>,\n",
       "  <matplotlib.lines.Line2D at 0x7fc46b13c1d0>,\n",
       "  <matplotlib.lines.Line2D at 0x7fc46d267d50>,\n",
       "  <matplotlib.lines.Line2D at 0x7fc46af22a50>,\n",
       "  <matplotlib.lines.Line2D at 0x7fc46abee690>,\n",
       "  <matplotlib.lines.Line2D at 0x7fc46ab362d0>,\n",
       "  <matplotlib.lines.Line2D at 0x7fc46ab69ed0>,\n",
       "  <matplotlib.lines.Line2D at 0x7fc46a970b10>,\n",
       "  <matplotlib.lines.Line2D at 0x7fc46a83e750>,\n",
       "  <matplotlib.lines.Line2D at 0x7fc46a6ca390>,\n",
       "  <matplotlib.lines.Line2D at 0x7fc46a5fef90>,\n",
       "  <matplotlib.lines.Line2D at 0x7fc46a583bd0>,\n",
       "  <matplotlib.lines.Line2D at 0x7fc46a48e810>,\n",
       "  <matplotlib.lines.Line2D at 0x7fc46a399450>,\n",
       "  <matplotlib.lines.Line2D at 0x7fc46a24de90>,\n",
       "  <matplotlib.lines.Line2D at 0x7fc46a197c90>,\n",
       "  <matplotlib.lines.Line2D at 0x7fc46a0e28d0>,\n",
       "  <matplotlib.lines.Line2D at 0x7fc469f2e510>],\n",
       " 'caps': [<matplotlib.lines.Line2D at 0x7fc46b57c890>,\n",
       "  <matplotlib.lines.Line2D at 0x7fc46b57ced0>,\n",
       "  <matplotlib.lines.Line2D at 0x7fc46b4423d0>,\n",
       "  <matplotlib.lines.Line2D at 0x7fc46b442a10>,\n",
       "  <matplotlib.lines.Line2D at 0x7fc46b371fd0>,\n",
       "  <matplotlib.lines.Line2D at 0x7fc46b390650>,\n",
       "  <matplotlib.lines.Line2D at 0x7fc46b240c10>,\n",
       "  <matplotlib.lines.Line2D at 0x7fc46b259290>,\n",
       "  <matplotlib.lines.Line2D at 0x7fc46b1cd850>,\n",
       "  <matplotlib.lines.Line2D at 0x7fc46b1cde90>,\n",
       "  <matplotlib.lines.Line2D at 0x7fc46b151490>,\n",
       "  <matplotlib.lines.Line2D at 0x7fc46b151ad0>,\n",
       "  <matplotlib.lines.Line2D at 0x7fc46af08110>,\n",
       "  <matplotlib.lines.Line2D at 0x7fc46af08750>,\n",
       "  <matplotlib.lines.Line2D at 0x7fc46acbad10>,\n",
       "  <matplotlib.lines.Line2D at 0x7fc46acd4390>,\n",
       "  <matplotlib.lines.Line2D at 0x7fc46ac05950>,\n",
       "  <matplotlib.lines.Line2D at 0x7fc46ac05f90>,\n",
       "  <matplotlib.lines.Line2D at 0x7fc46ab50590>,\n",
       "  <matplotlib.lines.Line2D at 0x7fc46ab50bd0>,\n",
       "  <matplotlib.lines.Line2D at 0x7fc46aa5b1d0>,\n",
       "  <matplotlib.lines.Line2D at 0x7fc46aa5b810>,\n",
       "  <matplotlib.lines.Line2D at 0x7fc46a988dd0>,\n",
       "  <matplotlib.lines.Line2D at 0x7fc46a9a4450>,\n",
       "  <matplotlib.lines.Line2D at 0x7fc46a855a10>,\n",
       "  <matplotlib.lines.Line2D at 0x7fc46a6b0090>,\n",
       "  <matplotlib.lines.Line2D at 0x7fc46a6e2650>,\n",
       "  <matplotlib.lines.Line2D at 0x7fc46a6e2c90>,\n",
       "  <matplotlib.lines.Line2D at 0x7fc46a629290>,\n",
       "  <matplotlib.lines.Line2D at 0x7fc46a6298d0>,\n",
       "  <matplotlib.lines.Line2D at 0x7fc46a59ee90>,\n",
       "  <matplotlib.lines.Line2D at 0x7fc46a479510>,\n",
       "  <matplotlib.lines.Line2D at 0x7fc46a4a6ad0>,\n",
       "  <matplotlib.lines.Line2D at 0x7fc46a380150>,\n",
       "  <matplotlib.lines.Line2D at 0x7fc46a235710>,\n",
       "  <matplotlib.lines.Line2D at 0x7fc46a235d50>,\n",
       "  <matplotlib.lines.Line2D at 0x7fc46a17c350>,\n",
       "  <matplotlib.lines.Line2D at 0x7fc46a17c990>,\n",
       "  <matplotlib.lines.Line2D at 0x7fc46a0b1f50>,\n",
       "  <matplotlib.lines.Line2D at 0x7fc46a0ca5d0>,\n",
       "  <matplotlib.lines.Line2D at 0x7fc46a039b90>,\n",
       "  <matplotlib.lines.Line2D at 0x7fc46a04f210>,\n",
       "  <matplotlib.lines.Line2D at 0x7fc469f487d0>,\n",
       "  <matplotlib.lines.Line2D at 0x7fc469f48e10>],\n",
       " 'fliers': [<matplotlib.lines.Line2D at 0x7fc46b591a90>,\n",
       "  <matplotlib.lines.Line2D at 0x7fc46b45e6d0>,\n",
       "  <matplotlib.lines.Line2D at 0x7fc46b3a4310>,\n",
       "  <matplotlib.lines.Line2D at 0x7fc46b259f10>,\n",
       "  <matplotlib.lines.Line2D at 0x7fc46b1e3b50>,\n",
       "  <matplotlib.lines.Line2D at 0x7fc4723eed50>,\n",
       "  <matplotlib.lines.Line2D at 0x7fc46af22410>,\n",
       "  <matplotlib.lines.Line2D at 0x7fc46abee050>,\n",
       "  <matplotlib.lines.Line2D at 0x7fc46ac1fc50>,\n",
       "  <matplotlib.lines.Line2D at 0x7fc46ab69890>,\n",
       "  <matplotlib.lines.Line2D at 0x7fc46a9704d0>,\n",
       "  <matplotlib.lines.Line2D at 0x7fc46a83e110>,\n",
       "  <matplotlib.lines.Line2D at 0x7fc46a6b0d10>,\n",
       "  <matplotlib.lines.Line2D at 0x7fc46a5fe950>,\n",
       "  <matplotlib.lines.Line2D at 0x7fc46a583590>,\n",
       "  <matplotlib.lines.Line2D at 0x7fc46a48e1d0>,\n",
       "  <matplotlib.lines.Line2D at 0x7fc46a380dd0>,\n",
       "  <matplotlib.lines.Line2D at 0x7fc46a24da10>,\n",
       "  <matplotlib.lines.Line2D at 0x7fc46a197650>,\n",
       "  <matplotlib.lines.Line2D at 0x7fc46a0e2290>,\n",
       "  <matplotlib.lines.Line2D at 0x7fc46a04fe90>,\n",
       "  <matplotlib.lines.Line2D at 0x7fc469f5cad0>],\n",
       " 'means': [],\n",
       " 'medians': [<matplotlib.lines.Line2D at 0x7fc46b591550>,\n",
       "  <matplotlib.lines.Line2D at 0x7fc46b45e090>,\n",
       "  <matplotlib.lines.Line2D at 0x7fc46b390c90>,\n",
       "  <matplotlib.lines.Line2D at 0x7fc46b2598d0>,\n",
       "  <matplotlib.lines.Line2D at 0x7fc46b1e3510>,\n",
       "  <matplotlib.lines.Line2D at 0x7fc46d9cf750>,\n",
       "  <matplotlib.lines.Line2D at 0x7fc46af08d90>,\n",
       "  <matplotlib.lines.Line2D at 0x7fc46acd49d0>,\n",
       "  <matplotlib.lines.Line2D at 0x7fc46ac1f610>,\n",
       "  <matplotlib.lines.Line2D at 0x7fc46ab69250>,\n",
       "  <matplotlib.lines.Line2D at 0x7fc46aa5be50>,\n",
       "  <matplotlib.lines.Line2D at 0x7fc46a9a4a90>,\n",
       "  <matplotlib.lines.Line2D at 0x7fc46a6b06d0>,\n",
       "  <matplotlib.lines.Line2D at 0x7fc46a5fe310>,\n",
       "  <matplotlib.lines.Line2D at 0x7fc46a629f10>,\n",
       "  <matplotlib.lines.Line2D at 0x7fc46a479b50>,\n",
       "  <matplotlib.lines.Line2D at 0x7fc46a380790>,\n",
       "  <matplotlib.lines.Line2D at 0x7fc46a24d3d0>,\n",
       "  <matplotlib.lines.Line2D at 0x7fc46a17cfd0>,\n",
       "  <matplotlib.lines.Line2D at 0x7fc46a0cac10>,\n",
       "  <matplotlib.lines.Line2D at 0x7fc46a04f850>,\n",
       "  <matplotlib.lines.Line2D at 0x7fc469f5c490>],\n",
       " 'whiskers': [<matplotlib.lines.Line2D at 0x7fc46b717b50>,\n",
       "  <matplotlib.lines.Line2D at 0x7fc46b57c250>,\n",
       "  <matplotlib.lines.Line2D at 0x7fc46b5a9710>,\n",
       "  <matplotlib.lines.Line2D at 0x7fc46b5a9d50>,\n",
       "  <matplotlib.lines.Line2D at 0x7fc46b371350>,\n",
       "  <matplotlib.lines.Line2D at 0x7fc46b371990>,\n",
       "  <matplotlib.lines.Line2D at 0x7fc46b3a4f50>,\n",
       "  <matplotlib.lines.Line2D at 0x7fc46b2405d0>,\n",
       "  <matplotlib.lines.Line2D at 0x7fc46b1b1b90>,\n",
       "  <matplotlib.lines.Line2D at 0x7fc46b1cd210>,\n",
       "  <matplotlib.lines.Line2D at 0x7fc46b13c7d0>,\n",
       "  <matplotlib.lines.Line2D at 0x7fc46b13ce10>,\n",
       "  <matplotlib.lines.Line2D at 0x7fc46aeed450>,\n",
       "  <matplotlib.lines.Line2D at 0x7fc46aeeda90>,\n",
       "  <matplotlib.lines.Line2D at 0x7fc46acba090>,\n",
       "  <matplotlib.lines.Line2D at 0x7fc46acba6d0>,\n",
       "  <matplotlib.lines.Line2D at 0x7fc46abeec90>,\n",
       "  <matplotlib.lines.Line2D at 0x7fc46ac05310>,\n",
       "  <matplotlib.lines.Line2D at 0x7fc46ab368d0>,\n",
       "  <matplotlib.lines.Line2D at 0x7fc46ab36f10>,\n",
       "  <matplotlib.lines.Line2D at 0x7fc46aa47510>,\n",
       "  <matplotlib.lines.Line2D at 0x7fc46aa47b50>,\n",
       "  <matplotlib.lines.Line2D at 0x7fc46a988150>,\n",
       "  <matplotlib.lines.Line2D at 0x7fc46a988790>,\n",
       "  <matplotlib.lines.Line2D at 0x7fc46a83ed50>,\n",
       "  <matplotlib.lines.Line2D at 0x7fc46a8553d0>,\n",
       "  <matplotlib.lines.Line2D at 0x7fc46a6ca990>,\n",
       "  <matplotlib.lines.Line2D at 0x7fc46a6cafd0>,\n",
       "  <matplotlib.lines.Line2D at 0x7fc46a6125d0>,\n",
       "  <matplotlib.lines.Line2D at 0x7fc46a612c10>,\n",
       "  <matplotlib.lines.Line2D at 0x7fc46a59e210>,\n",
       "  <matplotlib.lines.Line2D at 0x7fc46a59e850>,\n",
       "  <matplotlib.lines.Line2D at 0x7fc46a48ee10>,\n",
       "  <matplotlib.lines.Line2D at 0x7fc46a4a6490>,\n",
       "  <matplotlib.lines.Line2D at 0x7fc46a399a50>,\n",
       "  <matplotlib.lines.Line2D at 0x7fc46a2350d0>,\n",
       "  <matplotlib.lines.Line2D at 0x7fc46a266690>,\n",
       "  <matplotlib.lines.Line2D at 0x7fc46a266cd0>,\n",
       "  <matplotlib.lines.Line2D at 0x7fc46a0b12d0>,\n",
       "  <matplotlib.lines.Line2D at 0x7fc46a0b1910>,\n",
       "  <matplotlib.lines.Line2D at 0x7fc46a0e2ed0>,\n",
       "  <matplotlib.lines.Line2D at 0x7fc46a039550>,\n",
       "  <matplotlib.lines.Line2D at 0x7fc469f2eb10>,\n",
       "  <matplotlib.lines.Line2D at 0x7fc469f48190>]}"
      ]
     },
     "execution_count": 53,
     "metadata": {},
     "output_type": "execute_result"
    },
    {
     "data": {
      "image/png": "[encoded data removed]",
      "text/plain": [
       "<matplotlib.figure.Figure at 0x7fc46da055d0>"
      ]
     },
     "metadata": {},
     "output_type": "display_data"
    }
   ],
   "source": [
    "plt.figure(figsize=(15,15))\n",
    "plt.tick_params(direction='vertical')\n",
    "df_npi.boxplot(column = cost_breakdown_list)"
   ]
  },
  {
   "cell_type": "code",
   "execution_count": 54,
   "metadata": {
    "collapsed": false,
    "scrolled": true
   },
   "outputs": [
    {
     "data": {
      "text/plain": [
       "['bene_count',\n",
       " 'total_claim_count',\n",
       " 'total_drug_cost',\n",
       " 'total_day_supply',\n",
       " 'bene_count_ge65',\n",
       " 'total_claim_count_ge65',\n",
       " 'total_drug_cost_ge65',\n",
       " 'total_day_supply_ge65',\n",
       " 'brand_claim_count',\n",
       " 'brand_claim_cost',\n",
       " 'generic_claim_count',\n",
       " 'generic_claim_cost',\n",
       " 'other_claim_count',\n",
       " 'other_claim_cost',\n",
       " 'mapd_claim_count',\n",
       " 'mapd_claim_cost',\n",
       " 'pdp_claim_count',\n",
       " 'pdp_claim_cost',\n",
       " 'lis_claim_count',\n",
       " 'lis_claim_cost',\n",
       " 'nonlis_claim_count',\n",
       " 'nonlis_claim_cost']"
      ]
     },
     "execution_count": 54,
     "metadata": {},
     "output_type": "execute_result"
    }
   ],
   "source": [
    "cost_breakdown_list"
   ]
  },
  {
   "cell_type": "code",
   "execution_count": 63,
   "metadata": {
    "collapsed": false
   },
   "outputs": [
    {
     "data": {
      "text/plain": [
       "(0, 6000)"
      ]
     },
     "execution_count": 63,
     "metadata": {},
     "output_type": "execute_result"
    },
    {
     "data": {
      "image/png": "[encoded data removed]",
      "text/plain": [
       "<matplotlib.figure.Figure at 0x7fc451364f90>"
      ]
     },
     "metadata": {},
     "output_type": "display_data"
    }
   ],
   "source": [
    "df_npi['total_claim_count'].hist(bins=1000, alpha=.5, color='y')\n",
    "df_npi['brand_claim_count'].hist(bins=1000, alpha=.5)\n",
    "df_npi['generic_claim_count'].hist(bins=1000, alpha=.5, color='purple')\n",
    "plt.xlim(0,6000)"
   ]
  },
  {
   "cell_type": "code",
   "execution_count": 67,
   "metadata": {
    "collapsed": false
   },
   "outputs": [
    {
     "data": {
      "text/plain": [
       "<matplotlib.text.Text at 0x7fc46243e610>"
      ]
     },
     "execution_count": 67,
     "metadata": {},
     "output_type": "execute_result"
    },
    {
     "data": {
      "image/png": "[encoded data removed]",
      "text/plain": [
       "<matplotlib.figure.Figure at 0x7fc44be10bd0>"
      ]
     },
     "metadata": {},
     "output_type": "display_data"
    }
   ],
   "source": [
    "plt.scatter(df_npi['total_claim_count'], df_npi['total_drug_cost'])\n",
    "plt.xlim(0,100000)\n",
    "plt.ylim(0,15000000)\n",
    "plt.xlabel('total_claim_count')\n",
    "plt.ylabel('total_drug_cost')"
   ]
  },
  {
   "cell_type": "code",
   "execution_count": 72,
   "metadata": {
    "collapsed": false
   },
   "outputs": [
    {
     "data": {
      "text/plain": [
       "<matplotlib.text.Text at 0x7fc453433410>"
      ]
     },
     "execution_count": 72,
     "metadata": {},
     "output_type": "execute_result"
    },
    {
     "data": {
      "image/png": "[encoded data removed]",
      "text/plain": [
       "<matplotlib.figure.Figure at 0x7fc44b1f3a10>"
      ]
     },
     "metadata": {},
     "output_type": "display_data"
    }
   ],
   "source": [
    "plt.scatter(df_npi['generic_claim_count'], df_npi['brand_claim_count'])\n",
    "plt.xlim(0,100000)\n",
    "plt.ylim(0,70000)\n",
    "plt.xlabel('generic_claim_count')\n",
    "plt.ylabel('brand_claim_count')"
   ]
  },
  {
   "cell_type": "code",
   "execution_count": 82,
   "metadata": {
    "collapsed": false
   },
   "outputs": [
    {
     "data": {
      "text/plain": [
       "<matplotlib.text.Text at 0x7fc44edf2cd0>"
      ]
     },
     "execution_count": 82,
     "metadata": {},
     "output_type": "execute_result"
    },
    {
     "data": {
      "image/png": "[encoded data removed]",
      "text/plain": [
       "<matplotlib.figure.Figure at 0x7fc468f3c2d0>"
      ]
     },
     "metadata": {},
     "output_type": "display_data"
    }
   ],
   "source": [
    "plt.scatter(df_npi['generic_claim_count'], df_npi['generic_claim_cost'])\n",
    "plt.xlim(0,70000)\n",
    "plt.ylim(0,2500000)\n",
    "plt.xlabel('generic_claim_count')\n",
    "plt.ylabel('generic_claim_cost')"
   ]
  },
  {
   "cell_type": "code",
   "execution_count": 94,
   "metadata": {
    "collapsed": false
   },
   "outputs": [
    {
     "data": {
      "text/html": [
       "<div>\n",
       "<table border=\"1\" class=\"dataframe\">\n",
       "  <thead>\n",
       "    <tr style=\"text-align: right;\">\n",
       "      <th></th>\n",
       "      <th>npi</th>\n",
       "      <th>last_name</th>\n",
       "      <th>first_name</th>\n",
       "      <th>middle_initial</th>\n",
       "      <th>credentials</th>\n",
       "      <th>gender</th>\n",
       "      <th>entity_code</th>\n",
       "      <th>provider_street1</th>\n",
       "      <th>prover_street2</th>\n",
       "      <th>provider_city</th>\n",
       "      <th>...</th>\n",
       "      <th>mapd_claim_cost</th>\n",
       "      <th>pdp_claim_count</th>\n",
       "      <th>pdp_redact_flag</th>\n",
       "      <th>pdp_claim_cost</th>\n",
       "      <th>lis_claim_count</th>\n",
       "      <th>lis_redact_flag</th>\n",
       "      <th>lis_claim_cost</th>\n",
       "      <th>nonlis_claim_count</th>\n",
       "      <th>nonlis_redact_flag</th>\n",
       "      <th>nonlis_claim_cost</th>\n",
       "    </tr>\n",
       "  </thead>\n",
       "  <tbody>\n",
       "    <tr>\n",
       "      <th>0</th>\n",
       "      <td>1447268107</td>\n",
       "      <td>10 PARK PHARMACY INC.</td>\n",
       "      <td>None</td>\n",
       "      <td>None</td>\n",
       "      <td>None</td>\n",
       "      <td>None</td>\n",
       "      <td>O</td>\n",
       "      <td>53 E 34TH ST</td>\n",
       "      <td>None</td>\n",
       "      <td>NEW YORK</td>\n",
       "      <td>...</td>\n",
       "      <td>NaN</td>\n",
       "      <td>NaN</td>\n",
       "      <td>#</td>\n",
       "      <td>NaN</td>\n",
       "      <td>0</td>\n",
       "      <td>None</td>\n",
       "      <td>0</td>\n",
       "      <td>18</td>\n",
       "      <td>None</td>\n",
       "      <td>885.23</td>\n",
       "    </tr>\n",
       "    <tr>\n",
       "      <th>1</th>\n",
       "      <td>1174856348</td>\n",
       "      <td>101 FAMILY MEDICAL GROUP,A PROFESSIONAL CORP</td>\n",
       "      <td>None</td>\n",
       "      <td>None</td>\n",
       "      <td>None</td>\n",
       "      <td>None</td>\n",
       "      <td>O</td>\n",
       "      <td>22030 SHERMAN WAY STE 101</td>\n",
       "      <td>None</td>\n",
       "      <td>CANOGA PARK</td>\n",
       "      <td>...</td>\n",
       "      <td>NaN</td>\n",
       "      <td>NaN</td>\n",
       "      <td>#</td>\n",
       "      <td>NaN</td>\n",
       "      <td>NaN</td>\n",
       "      <td>#</td>\n",
       "      <td>NaN</td>\n",
       "      <td>NaN</td>\n",
       "      <td>*</td>\n",
       "      <td>NaN</td>\n",
       "    </tr>\n",
       "    <tr>\n",
       "      <th>2</th>\n",
       "      <td>1720181522</td>\n",
       "      <td>154ST STREET MEDICAL PLAZA, INC.</td>\n",
       "      <td>None</td>\n",
       "      <td>None</td>\n",
       "      <td>None</td>\n",
       "      <td>None</td>\n",
       "      <td>O</td>\n",
       "      <td>5801 MIAMI LAKES DR E</td>\n",
       "      <td>None</td>\n",
       "      <td>MIAMI LAKES</td>\n",
       "      <td>...</td>\n",
       "      <td>NaN</td>\n",
       "      <td>NaN</td>\n",
       "      <td>*</td>\n",
       "      <td>NaN</td>\n",
       "      <td>NaN</td>\n",
       "      <td>*</td>\n",
       "      <td>NaN</td>\n",
       "      <td>NaN</td>\n",
       "      <td>#</td>\n",
       "      <td>NaN</td>\n",
       "    </tr>\n",
       "    <tr>\n",
       "      <th>3</th>\n",
       "      <td>1821285826</td>\n",
       "      <td>21ST CENTURY ONCOLOGY LLC</td>\n",
       "      <td>None</td>\n",
       "      <td>None</td>\n",
       "      <td>None</td>\n",
       "      <td>None</td>\n",
       "      <td>O</td>\n",
       "      <td>21150 BISCAYNE BLVD</td>\n",
       "      <td>SUITE 404</td>\n",
       "      <td>AVENTURA</td>\n",
       "      <td>...</td>\n",
       "      <td>NaN</td>\n",
       "      <td>NaN</td>\n",
       "      <td>*</td>\n",
       "      <td>NaN</td>\n",
       "      <td>NaN</td>\n",
       "      <td>*</td>\n",
       "      <td>NaN</td>\n",
       "      <td>NaN</td>\n",
       "      <td>#</td>\n",
       "      <td>NaN</td>\n",
       "    </tr>\n",
       "    <tr>\n",
       "      <th>4</th>\n",
       "      <td>1457520132</td>\n",
       "      <td>3 SUNS INVESTMENT INC</td>\n",
       "      <td>None</td>\n",
       "      <td>None</td>\n",
       "      <td>None</td>\n",
       "      <td>None</td>\n",
       "      <td>O</td>\n",
       "      <td>3136 SQUALICUM PKWY</td>\n",
       "      <td>STE. B</td>\n",
       "      <td>BELLINGHAM</td>\n",
       "      <td>...</td>\n",
       "      <td>NaN</td>\n",
       "      <td>NaN</td>\n",
       "      <td>#</td>\n",
       "      <td>NaN</td>\n",
       "      <td>NaN</td>\n",
       "      <td>*</td>\n",
       "      <td>NaN</td>\n",
       "      <td>NaN</td>\n",
       "      <td>#</td>\n",
       "      <td>NaN</td>\n",
       "    </tr>\n",
       "  </tbody>\n",
       "</table>\n",
       "<p>5 rows × 46 columns</p>\n",
       "</div>"
      ],
      "text/plain": [
       "          npi                                     last_name first_name  \\\n",
       "0  1447268107                         10 PARK PHARMACY INC.       None   \n",
       "1  1174856348  101 FAMILY MEDICAL GROUP,A PROFESSIONAL CORP       None   \n",
       "2  1720181522              154ST STREET MEDICAL PLAZA, INC.       None   \n",
       "3  1821285826                     21ST CENTURY ONCOLOGY LLC       None   \n",
       "4  1457520132                         3 SUNS INVESTMENT INC       None   \n",
       "\n",
       "  middle_initial credentials gender entity_code           provider_street1  \\\n",
       "0           None        None   None           O               53 E 34TH ST   \n",
       "1           None        None   None           O  22030 SHERMAN WAY STE 101   \n",
       "2           None        None   None           O      5801 MIAMI LAKES DR E   \n",
       "3           None        None   None           O        21150 BISCAYNE BLVD   \n",
       "4           None        None   None           O        3136 SQUALICUM PKWY   \n",
       "\n",
       "  prover_street2 provider_city        ...         mapd_claim_cost  \\\n",
       "0           None      NEW YORK        ...                     NaN   \n",
       "1           None   CANOGA PARK        ...                     NaN   \n",
       "2           None   MIAMI LAKES        ...                     NaN   \n",
       "3      SUITE 404      AVENTURA        ...                     NaN   \n",
       "4         STE. B    BELLINGHAM        ...                     NaN   \n",
       "\n",
       "  pdp_claim_count pdp_redact_flag pdp_claim_cost lis_claim_count  \\\n",
       "0             NaN               #            NaN               0   \n",
       "1             NaN               #            NaN             NaN   \n",
       "2             NaN               *            NaN             NaN   \n",
       "3             NaN               *            NaN             NaN   \n",
       "4             NaN               #            NaN             NaN   \n",
       "\n",
       "   lis_redact_flag  lis_claim_cost  nonlis_claim_count  nonlis_redact_flag  \\\n",
       "0             None               0                  18                None   \n",
       "1                #             NaN                 NaN                   *   \n",
       "2                *             NaN                 NaN                   #   \n",
       "3                *             NaN                 NaN                   #   \n",
       "4                *             NaN                 NaN                   #   \n",
       "\n",
       "   nonlis_claim_cost  \n",
       "0             885.23  \n",
       "1                NaN  \n",
       "2                NaN  \n",
       "3                NaN  \n",
       "4                NaN  \n",
       "\n",
       "[5 rows x 46 columns]"
      ]
     },
     "execution_count": 94,
     "metadata": {},
     "output_type": "execute_result"
    }
   ],
   "source": [
    "df_npi.head()"
   ]
  },
  {
   "cell_type": "code",
   "execution_count": 87,
   "metadata": {
    "collapsed": false
   },
   "outputs": [
    {
     "data": {
      "text/plain": [
       "246"
      ]
     },
     "execution_count": 87,
     "metadata": {},
     "output_type": "execute_result"
    }
   ],
   "source": [
    "len(df_npi.specialty_desc.value_counts())"
   ]
  },
  {
   "cell_type": "code",
   "execution_count": 295,
   "metadata": {
    "collapsed": false
   },
   "outputs": [],
   "source": [
    "def specialty_avg_cost(col_claim, col_specialty, df):\n",
    "    '''\n",
    "    Computes the average cost of drugs per specialty\n",
    "    Returns original data frame with column added\n",
    "    '''\n",
    "    df_cost = df_npi[['{}_cost'.format(col_claim), col_specialty]].groupby(col_specialty).sum()\n",
    "    df_count = df_npi[['{}_count'.format(col_claim), col_specialty]].groupby(col_specialty).sum()\n",
    "    avg_cost = df_cost.divide(np.array(df_count), axis=1)\n",
    "    avg_cost.fillna(np.mean(avg_cost), inplace=True)\n",
    "    \n",
    "    return pd.merge(df, avg_cost, how='inner', left_on=col_specialty, right_index=True, suffixes=('','_avg'))"
   ]
  },
  {
   "cell_type": "code",
   "execution_count": 296,
   "metadata": {
    "collapsed": false
   },
   "outputs": [],
   "source": [
    "def impute_claim_cost(col_claim, col_specialty, df):\n",
    "    '''\n",
    "    Imputes claim costs for all nulls in a column\n",
    "    '''\n",
    "    df = specialty_avg_cost(col_claim, col_specialty, df)\n",
    "    fill_count_null(col_claim, df)\n",
    "    print df.columns\n",
    "    mask = df['{}_cost'.format(col_claim)].isnull()\n",
    "    df['{}_cost'.format(col_claim)][mask] = \\\n",
    "       df['{}_count'.format(col_claim)][mask] * df[mask].iloc[:,-1]\n",
    "    return df"
   ]
  },
  {
   "cell_type": "code",
   "execution_count": 297,
   "metadata": {
    "collapsed": true
   },
   "outputs": [],
   "source": [
    "def fill_count_null(col_claim, df):\n",
    "    df['{}_count'.format(col_claim)].fillna(5.5, inplace=True)"
   ]
  },
  {
   "cell_type": "code",
   "execution_count": 301,
   "metadata": {
    "collapsed": false
   },
   "outputs": [
    {
     "name": "stdout",
     "output_type": "stream",
     "text": [
      "Index([u'npi', u'last_name', u'first_name', u'middle_initial', u'credentials',\n",
      "       u'gender', u'entity_code', u'provider_street1', u'prover_street2',\n",
      "       u'provider_city', u'provider_zip', u'provider_state',\n",
      "       u'provider_country', u'specialty_desc', u'description_flag',\n",
      "       u'bene_count', u'total_claim_count', u'total_drug_cost',\n",
      "       u'total_day_supply', u'bene_count_ge65', u'bene_count_ge65_redact',\n",
      "       u'total_claim_count_ge65', u'ge65_redact_flag', u'total_drug_cost_ge65',\n",
      "       u'total_day_supply_ge65', u'brand_claim_count', u'brand_redact_flag',\n",
      "       u'brand_claim_cost', u'generic_claim_count', u'generic_redact_flag',\n",
      "       u'generic_claim_cost', u'other_claim_count', u'other_redact_flag',\n",
      "       u'other_claim_cost', u'mapd_claim_count', u'mapd_redact_flag',\n",
      "       u'mapd_claim_cost', u'pdp_claim_count', u'pdp_redact_flag',\n",
      "       u'pdp_claim_cost', u'lis_claim_count', u'lis_redact_flag',\n",
      "       u'lis_claim_cost', u'nonlis_claim_count', u'nonlis_redact_flag',\n",
      "       u'nonlis_claim_cost', u'lis_claim_cost_avg'],\n",
      "      dtype='object')\n"
     ]
    },
    {
     "name": "stderr",
     "output_type": "stream",
     "text": [
      "/home/ubuntu/anaconda2/lib/python2.7/site-packages/ipykernel/__main__.py:9: SettingWithCopyWarning: \n",
      "A value is trying to be set on a copy of a slice from a DataFrame\n",
      "\n",
      "See the caveats in the documentation: http://pandas.pydata.org/pandas-docs/stable/indexing.html#indexing-view-versus-copy\n"
     ]
    }
   ],
   "source": [
    "df_ex = impute_claim_cost('lis_claim', 'specialty_desc', df_npi)"
   ]
  },
  {
   "cell_type": "code",
   "execution_count": 299,
   "metadata": {
    "collapsed": false
   },
   "outputs": [
    {
     "data": {
      "text/plain": [
       "Index([u'npi', u'last_name', u'first_name', u'middle_initial', u'credentials',\n",
       "       u'gender', u'entity_code', u'provider_street1', u'prover_street2',\n",
       "       u'provider_city', u'provider_zip', u'provider_state',\n",
       "       u'provider_country', u'specialty_desc', u'description_flag',\n",
       "       u'bene_count', u'total_claim_count', u'total_drug_cost',\n",
       "       u'total_day_supply', u'bene_count_ge65', u'bene_count_ge65_redact',\n",
       "       u'total_claim_count_ge65', u'ge65_redact_flag', u'total_drug_cost_ge65',\n",
       "       u'total_day_supply_ge65', u'brand_claim_count', u'brand_redact_flag',\n",
       "       u'brand_claim_cost', u'generic_claim_count', u'generic_redact_flag',\n",
       "       u'generic_claim_cost', u'other_claim_count', u'other_redact_flag',\n",
       "       u'other_claim_cost', u'mapd_claim_count', u'mapd_redact_flag',\n",
       "       u'mapd_claim_cost', u'pdp_claim_count', u'pdp_redact_flag',\n",
       "       u'pdp_claim_cost', u'lis_claim_count', u'lis_redact_flag',\n",
       "       u'lis_claim_cost', u'nonlis_claim_count', u'nonlis_redact_flag',\n",
       "       u'nonlis_claim_cost'],\n",
       "      dtype='object')"
      ]
     },
     "execution_count": 299,
     "metadata": {},
     "output_type": "execute_result"
    }
   ],
   "source": [
    "df_npi.columns"
   ]
  },
  {
   "cell_type": "code",
   "execution_count": 302,
   "metadata": {
    "collapsed": false
   },
   "outputs": [
    {
     "name": "stdout",
     "output_type": "stream",
     "text": [
      "<class 'pandas.core.frame.DataFrame'>\n",
      "Int64Index: 1049381 entries, 0 to 984535\n",
      "Data columns (total 47 columns):\n",
      "npi                       1049381 non-null int64\n",
      "last_name                 1049381 non-null object\n",
      "first_name                1042626 non-null object\n",
      "middle_initial            775539 non-null object\n",
      "credentials               1006430 non-null object\n",
      "gender                    1042626 non-null object\n",
      "entity_code               1049381 non-null object\n",
      "provider_street1          1049381 non-null object\n",
      "prover_street2            439576 non-null object\n",
      "provider_city             1049381 non-null object\n",
      "provider_zip              1049381 non-null object\n",
      "provider_state            1049381 non-null object\n",
      "provider_country          1049381 non-null object\n",
      "specialty_desc            1049381 non-null object\n",
      "description_flag          1049381 non-null object\n",
      "bene_count                905381 non-null float64\n",
      "total_claim_count         1049381 non-null int64\n",
      "total_drug_cost           1049381 non-null float64\n",
      "total_day_supply          1049381 non-null int64\n",
      "bene_count_ge65           598228 non-null float64\n",
      "bene_count_ge65_redact    451153 non-null object\n",
      "total_claim_count_ge65    823082 non-null float64\n",
      "ge65_redact_flag          226299 non-null object\n",
      "total_drug_cost_ge65      823082 non-null float64\n",
      "total_day_supply_ge65     823082 non-null float64\n",
      "brand_claim_count         1049381 non-null float64\n",
      "brand_redact_flag         478251 non-null object\n",
      "brand_claim_cost          914314 non-null float64\n",
      "generic_claim_count       758402 non-null float64\n",
      "generic_redact_flag       290979 non-null object\n",
      "generic_claim_cost        758402 non-null float64\n",
      "other_claim_count         756433 non-null float64\n",
      "other_redact_flag         292948 non-null object\n",
      "other_claim_cost          756433 non-null float64\n",
      "mapd_claim_count          809090 non-null float64\n",
      "mapd_redact_flag          240291 non-null object\n",
      "mapd_claim_cost           809090 non-null float64\n",
      "pdp_claim_count           809075 non-null float64\n",
      "pdp_redact_flag           240306 non-null object\n",
      "pdp_claim_cost            809075 non-null float64\n",
      "lis_claim_count           1049381 non-null float64\n",
      "lis_redact_flag           227479 non-null object\n",
      "lis_claim_cost            1049381 non-null float64\n",
      "nonlis_claim_count        821904 non-null float64\n",
      "nonlis_redact_flag        227477 non-null object\n",
      "nonlis_claim_cost         821904 non-null float64\n",
      "lis_claim_cost_avg        1049381 non-null float64\n",
      "dtypes: float64(21), int64(3), object(23)\n",
      "memory usage: 384.3+ MB\n"
     ]
    }
   ],
   "source": [
    "df_ex.info()"
   ]
  },
  {
   "cell_type": "code",
   "execution_count": 5,
   "metadata": {
    "collapsed": true
   },
   "outputs": [],
   "source": [
    "col_keep = ['npi',\n",
    "            'last_name',\n",
    "            'first_name',\n",
    "            'entity_code',\n",
    "            'provider_zip',\n",
    "            'provider_city',\n",
    "            'specialty_desc',\n",
    "            'bene_count',\n",
    "            'total_claim_count',\n",
    "            'total_drug_cost',\n",
    "            'total_day_supply',\n",
    "            'bene_count_ge65',\n",
    "            'total_claim_count_ge65',\n",
    "            'total_drug_cost_ge65',\n",
    "            'total_day_supply_ge65',\n",
    "            'brand_claim_count',\n",
    "            'brand_claim_cost',\n",
    "            'generic_claim_count',\n",
    "            'generic_claim_cost',\n",
    "            'other_claim_count',\n",
    "            'other_claim_cost',\n",
    "            'mapd_claim_count',\n",
    "            'mapd_claim_cost',\n",
    "            'pdp_claim_count',\n",
    "            'pdp_claim_cost',\n",
    "            'lis_claim_count',\n",
    "            'lis_claim_cost',\n",
    "            'nonlis_claim_count',\n",
    "            'nonlis_claim_cost'\n",
    "            ]"
   ]
  },
  {
   "cell_type": "code",
   "execution_count": 6,
   "metadata": {
    "collapsed": true
   },
   "outputs": [],
   "source": [
    "df_npi_clean = df_npi[col_keep]"
   ]
  },
  {
   "cell_type": "code",
   "execution_count": 7,
   "metadata": {
    "collapsed": false
   },
   "outputs": [
    {
     "name": "stdout",
     "output_type": "stream",
     "text": [
      "<class 'pandas.core.frame.DataFrame'>\n",
      "Int64Index: 1049381 entries, 0 to 1049380\n",
      "Data columns (total 29 columns):\n",
      "npi                       1049381 non-null int64\n",
      "last_name                 1049381 non-null object\n",
      "first_name                1042626 non-null object\n",
      "entity_code               1049381 non-null object\n",
      "provider_zip              1049381 non-null object\n",
      "provider_city             1049381 non-null object\n",
      "specialty_desc            1049381 non-null object\n",
      "bene_count                905381 non-null float64\n",
      "total_claim_count         1049381 non-null int64\n",
      "total_drug_cost           1049381 non-null float64\n",
      "total_day_supply          1049381 non-null int64\n",
      "bene_count_ge65           598228 non-null float64\n",
      "total_claim_count_ge65    823082 non-null float64\n",
      "total_drug_cost_ge65      823082 non-null float64\n",
      "total_day_supply_ge65     823082 non-null float64\n",
      "brand_claim_count         571130 non-null float64\n",
      "brand_claim_cost          571130 non-null float64\n",
      "generic_claim_count       758402 non-null float64\n",
      "generic_claim_cost        758402 non-null float64\n",
      "other_claim_count         756433 non-null float64\n",
      "other_claim_cost          756433 non-null float64\n",
      "mapd_claim_count          809090 non-null float64\n",
      "mapd_claim_cost           809090 non-null float64\n",
      "pdp_claim_count           809075 non-null float64\n",
      "pdp_claim_cost            809075 non-null float64\n",
      "lis_claim_count           821902 non-null float64\n",
      "lis_claim_cost            821902 non-null float64\n",
      "nonlis_claim_count        821904 non-null float64\n",
      "nonlis_claim_cost         821904 non-null float64\n",
      "dtypes: float64(20), int64(3), object(6)\n",
      "memory usage: 240.2+ MB\n"
     ]
    }
   ],
   "source": [
    "df_npi_clean.info()"
   ]
  },
  {
   "cell_type": "markdown",
   "metadata": {},
   "source": [
    "##### Exploration of how to impute the missing count values.  \n",
    "Linear models based on total_claim_count  \n",
    "Median based on distribution  \n",
    "Just stick in average value  \n",
    "Tobit models"
   ]
  },
  {
   "cell_type": "code",
   "execution_count": 12,
   "metadata": {
    "collapsed": true
   },
   "outputs": [],
   "source": [
    "from pandas.tools.plotting import scatter_matrix"
   ]
  },
  {
   "cell_type": "code",
   "execution_count": 13,
   "metadata": {
    "collapsed": false
   },
   "outputs": [
    {
     "data": {
      "text/plain": [
       "array([[<matplotlib.axes._subplots.AxesSubplot object at 0x7fc2ec275d10>,\n",
       "        <matplotlib.axes._subplots.AxesSubplot object at 0x7fc2e8a3a4d0>,\n",
       "        <matplotlib.axes._subplots.AxesSubplot object at 0x7fc2dc3f3490>,\n",
       "        <matplotlib.axes._subplots.AxesSubplot object at 0x7fc311347190>,\n",
       "        <matplotlib.axes._subplots.AxesSubplot object at 0x7fc3110d3650>,\n",
       "        <matplotlib.axes._subplots.AxesSubplot object at 0x7fc3111a2350>,\n",
       "        <matplotlib.axes._subplots.AxesSubplot object at 0x7fc30fb3c210>,\n",
       "        <matplotlib.axes._subplots.AxesSubplot object at 0x7fc30f7875d0>,\n",
       "        <matplotlib.axes._subplots.AxesSubplot object at 0x7fc30f47b850>,\n",
       "        <matplotlib.axes._subplots.AxesSubplot object at 0x7fc30ef8e710>,\n",
       "        <matplotlib.axes._subplots.AxesSubplot object at 0x7fc30ecb0450>,\n",
       "        <matplotlib.axes._subplots.AxesSubplot object at 0x7fc30e63e410>,\n",
       "        <matplotlib.axes._subplots.AxesSubplot object at 0x7fc30e20c2d0>],\n",
       "       [<matplotlib.axes._subplots.AxesSubplot object at 0x7fc30de95fd0>,\n",
       "        <matplotlib.axes._subplots.AxesSubplot object at 0x7fc30dba0e90>,\n",
       "        <matplotlib.axes._subplots.AxesSubplot object at 0x7fc30d9f2f10>,\n",
       "        <matplotlib.axes._subplots.AxesSubplot object at 0x7fc30d67aed0>,\n",
       "        <matplotlib.axes._subplots.AxesSubplot object at 0x7fc30d44a090>,\n",
       "        <matplotlib.axes._subplots.AxesSubplot object at 0x7fc30cf2fdd0>,\n",
       "        <matplotlib.axes._subplots.AxesSubplot object at 0x7fc30ca7fc90>,\n",
       "        <matplotlib.axes._subplots.AxesSubplot object at 0x7fc30c789e10>,\n",
       "        <matplotlib.axes._subplots.AxesSubplot object at 0x7fc30c319cd0>,\n",
       "        <matplotlib.axes._subplots.AxesSubplot object at 0x7fc30bf2ea10>,\n",
       "        <matplotlib.axes._subplots.AxesSubplot object at 0x7fc30bb4cb50>,\n",
       "        <matplotlib.axes._subplots.AxesSubplot object at 0x7fc30b45aa10>,\n",
       "        <matplotlib.axes._subplots.AxesSubplot object at 0x7fc30afff4d0>],\n",
       "       [<matplotlib.axes._subplots.AxesSubplot object at 0x7fc30adcb390>,\n",
       "        <matplotlib.axes._subplots.AxesSubplot object at 0x7fc30a899410>,\n",
       "        <matplotlib.axes._subplots.AxesSubplot object at 0x7fc30a3683d0>,\n",
       "        <matplotlib.axes._subplots.AxesSubplot object at 0x7fc30a1db550>,\n",
       "        <matplotlib.axes._subplots.AxesSubplot object at 0x7fc309b1b2d0>,\n",
       "        <matplotlib.axes._subplots.AxesSubplot object at 0x7fc309729190>,\n",
       "        <matplotlib.axes._subplots.AxesSubplot object at 0x7fc3094bb310>,\n",
       "        <matplotlib.axes._subplots.AxesSubplot object at 0x7fc3090441d0>,\n",
       "        <matplotlib.axes._subplots.AxesSubplot object at 0x7fc308cc2ed0>,\n",
       "        <matplotlib.axes._subplots.AxesSubplot object at 0x7fc3089f0910>,\n",
       "        <matplotlib.axes._subplots.AxesSubplot object at 0x7fc308245610>,\n",
       "        <matplotlib.axes._subplots.AxesSubplot object at 0x7fc307e6b290>,\n",
       "        <matplotlib.axes._subplots.AxesSubplot object at 0x7fc307ab28d0>],\n",
       "       [<matplotlib.axes._subplots.AxesSubplot object at 0x7fc307769450>,\n",
       "        <matplotlib.axes._subplots.AxesSubplot object at 0x7fc3073cd910>,\n",
       "        <matplotlib.axes._subplots.AxesSubplot object at 0x7fc307243a90>,\n",
       "        <matplotlib.axes._subplots.AxesSubplot object at 0x7fc306e81510>,\n",
       "        <matplotlib.axes._subplots.AxesSubplot object at 0x7fc306a4c3d0>,\n",
       "        <matplotlib.axes._subplots.AxesSubplot object at 0x7fc306660350>,\n",
       "        <matplotlib.axes._subplots.AxesSubplot object at 0x7fc30632a210>,\n",
       "        <matplotlib.axes._subplots.AxesSubplot object at 0x7fc3060ebf10>,\n",
       "        <matplotlib.axes._subplots.AxesSubplot object at 0x7fc305da1090>,\n",
       "        <matplotlib.axes._subplots.AxesSubplot object at 0x7fc305a4ef10>,\n",
       "        <matplotlib.axes._subplots.AxesSubplot object at 0x7fc3055369d0>,\n",
       "        <matplotlib.axes._subplots.AxesSubplot object at 0x7fc304e86890>,\n",
       "        <matplotlib.axes._subplots.AxesSubplot object at 0x7fc304ad9910>],\n",
       "       [<matplotlib.axes._subplots.AxesSubplot object at 0x7fc3047a38d0>,\n",
       "        <matplotlib.axes._subplots.AxesSubplot object at 0x7fc30465ba50>,\n",
       "        <matplotlib.axes._subplots.AxesSubplot object at 0x7fc3041597d0>,\n",
       "        <matplotlib.axes._subplots.AxesSubplot object at 0x7fc303ca4690>,\n",
       "        <matplotlib.axes._subplots.AxesSubplot object at 0x7fc303af3810>,\n",
       "        <matplotlib.axes._subplots.AxesSubplot object at 0x7fc3037436d0>,\n",
       "        <matplotlib.axes._subplots.AxesSubplot object at 0x7fc3030dd410>,\n",
       "        <matplotlib.axes._subplots.AxesSubplot object at 0x7fc302d75550>,\n",
       "        <matplotlib.axes._subplots.AxesSubplot object at 0x7fc302a43410>,\n",
       "        <matplotlib.axes._subplots.AxesSubplot object at 0x7fc3027e5a10>,\n",
       "        <matplotlib.axes._subplots.AxesSubplot object at 0x7fc3025ca190>,\n",
       "        <matplotlib.axes._subplots.AxesSubplot object at 0x7fc301cdb610>,\n",
       "        <matplotlib.axes._subplots.AxesSubplot object at 0x7fc301868ad0>],\n",
       "       [<matplotlib.axes._subplots.AxesSubplot object at 0x7fc301880ed0>,\n",
       "        <matplotlib.axes._subplots.AxesSubplot object at 0x7fc3012586d0>,\n",
       "        <matplotlib.axes._subplots.AxesSubplot object at 0x7fc300c6b590>,\n",
       "        <matplotlib.axes._subplots.AxesSubplot object at 0x7fc300a76510>,\n",
       "        <matplotlib.axes._subplots.AxesSubplot object at 0x7fc3007033d0>,\n",
       "        <matplotlib.axes._subplots.AxesSubplot object at 0x7fc30025b110>,\n",
       "        <matplotlib.axes._subplots.AxesSubplot object at 0x7fc2ffe79250>,\n",
       "        <matplotlib.axes._subplots.AxesSubplot object at 0x7fc2ff9c9110>,\n",
       "        <matplotlib.axes._subplots.AxesSubplot object at 0x7fc2ff713b90>,\n",
       "        <matplotlib.axes._subplots.AxesSubplot object at 0x7fc2ff462a50>,\n",
       "        <matplotlib.axes._subplots.AxesSubplot object at 0x7fc2ff1f4ad0>,\n",
       "        <matplotlib.axes._subplots.AxesSubplot object at 0x7fc2fedc1a90>,\n",
       "        <matplotlib.axes._subplots.AxesSubplot object at 0x7fc2fec5ce90>],\n",
       "       [<matplotlib.axes._subplots.AxesSubplot object at 0x7fc2fe473990>,\n",
       "        <matplotlib.axes._subplots.AxesSubplot object at 0x7fc2fe03f850>,\n",
       "        <matplotlib.axes._subplots.AxesSubplot object at 0x7fc2fddd09d0>,\n",
       "        <matplotlib.axes._subplots.AxesSubplot object at 0x7fc2fd95e890>,\n",
       "        <matplotlib.axes._subplots.AxesSubplot object at 0x7fc2fd6765d0>,\n",
       "        <matplotlib.axes._subplots.AxesSubplot object at 0x7fc2fd290710>,\n",
       "        <matplotlib.axes._subplots.AxesSubplot object at 0x7fc2fcedf5d0>,\n",
       "        <matplotlib.axes._subplots.AxesSubplot object at 0x7fc2fcc87090>,\n",
       "        <matplotlib.axes._subplots.AxesSubplot object at 0x7fc2fc978f10>,\n",
       "        <matplotlib.axes._subplots.AxesSubplot object at 0x7fc302950610>,\n",
       "        <matplotlib.axes._subplots.AxesSubplot object at 0x7fc2fc12f750>,\n",
       "        <matplotlib.axes._subplots.AxesSubplot object at 0x7fc2fbdc1290>,\n",
       "        <matplotlib.axes._subplots.AxesSubplot object at 0x7fc2fb91bbd0>],\n",
       "       [<matplotlib.axes._subplots.AxesSubplot object at 0x7fc2fb401190>,\n",
       "        <matplotlib.axes._subplots.AxesSubplot object at 0x7fc2fb13cf10>,\n",
       "        <matplotlib.axes._subplots.AxesSubplot object at 0x7fc2fad4aed0>,\n",
       "        <matplotlib.axes._subplots.AxesSubplot object at 0x7fc2faf868d0>,\n",
       "        <matplotlib.axes._subplots.AxesSubplot object at 0x7fc2fa47afd0>,\n",
       "        <matplotlib.axes._subplots.AxesSubplot object at 0x7fc2f9ecbe90>,\n",
       "        <matplotlib.axes._subplots.AxesSubplot object at 0x7fc2f9bf1510>,\n",
       "        <matplotlib.axes._subplots.AxesSubplot object at 0x7fc2f98023d0>,\n",
       "        <matplotlib.axes._subplots.AxesSubplot object at 0x7fc2f9551450>,\n",
       "        <matplotlib.axes._subplots.AxesSubplot object at 0x7fc2f90a1410>,\n",
       "        <matplotlib.axes._subplots.AxesSubplot object at 0x7fc2f8ed0590>,\n",
       "        <matplotlib.axes._subplots.AxesSubplot object at 0x7fc2f89d0310>,\n",
       "        <matplotlib.axes._subplots.AxesSubplot object at 0x7fc2f85e01d0>],\n",
       "       [<matplotlib.axes._subplots.AxesSubplot object at 0x7fc2f83ae350>,\n",
       "        <matplotlib.axes._subplots.AxesSubplot object at 0x7fc2f7e3a210>,\n",
       "        <matplotlib.axes._subplots.AxesSubplot object at 0x7fc2f7bbbf10>,\n",
       "        <matplotlib.axes._subplots.AxesSubplot object at 0x7fc2f76ae090>,\n",
       "        <matplotlib.axes._subplots.AxesSubplot object at 0x7fc2f731ff10>,\n",
       "        <matplotlib.axes._subplots.AxesSubplot object at 0x7fc2f70c89d0>,\n",
       "        <matplotlib.axes._subplots.AxesSubplot object at 0x7fc2f6d18890>,\n",
       "        <matplotlib.axes._subplots.AxesSubplot object at 0x7fc2f6aa6910>,\n",
       "        <matplotlib.axes._subplots.AxesSubplot object at 0x7fc2f66348d0>,\n",
       "        <matplotlib.axes._subplots.AxesSubplot object at 0x7fc2f642ca50>,\n",
       "        <matplotlib.axes._subplots.AxesSubplot object at 0x7fc2f5eea7d0>,\n",
       "        <matplotlib.axes._subplots.AxesSubplot object at 0x7fc2f5cb8690>,\n",
       "        <matplotlib.axes._subplots.AxesSubplot object at 0x7fc2f584a810>],\n",
       "       [<matplotlib.axes._subplots.AxesSubplot object at 0x7fc2f54566d0>,\n",
       "        <matplotlib.axes._subplots.AxesSubplot object at 0x7fc2f51ad410>,\n",
       "        <matplotlib.axes._subplots.AxesSubplot object at 0x7fc2f4ec0e50>,\n",
       "        <matplotlib.axes._subplots.AxesSubplot object at 0x7fc2f4b68ed0>,\n",
       "        <matplotlib.axes._subplots.AxesSubplot object at 0x7fc2f497a850>,\n",
       "        <matplotlib.axes._subplots.AxesSubplot object at 0x7fc2f4686d10>,\n",
       "        <matplotlib.axes._subplots.AxesSubplot object at 0x7fc2f42bb490>,\n",
       "        <matplotlib.axes._subplots.AxesSubplot object at 0x7fc2f3b265d0>,\n",
       "        <matplotlib.axes._subplots.AxesSubplot object at 0x7fc2f37b7490>,\n",
       "        <matplotlib.axes._subplots.AxesSubplot object at 0x7fc2f3498550>,\n",
       "        <matplotlib.axes._subplots.AxesSubplot object at 0x7fc2f2fa8410>,\n",
       "        <matplotlib.axes._subplots.AxesSubplot object at 0x7fc2f2d36390>,\n",
       "        <matplotlib.axes._subplots.AxesSubplot object at 0x7fc2f29c3250>],\n",
       "       [<matplotlib.axes._subplots.AxesSubplot object at 0x7fc2f2581f50>,\n",
       "        <matplotlib.axes._subplots.AxesSubplot object at 0x7fc2f20fc0d0>,\n",
       "        <matplotlib.axes._subplots.AxesSubplot object at 0x7fc2f1ea8f50>,\n",
       "        <matplotlib.axes._subplots.AxesSubplot object at 0x7fc2f1acfa10>,\n",
       "        <matplotlib.axes._subplots.AxesSubplot object at 0x7fc2f159f8d0>,\n",
       "        <matplotlib.axes._subplots.AxesSubplot object at 0x7fc2f1374950>,\n",
       "        <matplotlib.axes._subplots.AxesSubplot object at 0x7fc2f1080910>,\n",
       "        <matplotlib.axes._subplots.AxesSubplot object at 0x7fc2f0eb7a90>,\n",
       "        <matplotlib.axes._subplots.AxesSubplot object at 0x7fc2f08f2810>,\n",
       "        <matplotlib.axes._subplots.AxesSubplot object at 0x7fc2f05c26d0>,\n",
       "        <matplotlib.axes._subplots.AxesSubplot object at 0x7fc2f0311850>,\n",
       "        <matplotlib.axes._subplots.AxesSubplot object at 0x7fc2efd9f710>,\n",
       "        <matplotlib.axes._subplots.AxesSubplot object at 0x7fc2efaf5450>],\n",
       "       [<matplotlib.axes._subplots.AxesSubplot object at 0x7fc2ef78d590>,\n",
       "        <matplotlib.axes._subplots.AxesSubplot object at 0x7fc2ef0a4450>,\n",
       "        <matplotlib.axes._subplots.AxesSubplot object at 0x7fc2eee2ced0>,\n",
       "        <matplotlib.axes._subplots.AxesSubplot object at 0x7fc2eeb79d90>,\n",
       "        <matplotlib.axes._subplots.AxesSubplot object at 0x7fc2ee848e10>,\n",
       "        <matplotlib.axes._subplots.AxesSubplot object at 0x7fc2ee457dd0>,\n",
       "        <matplotlib.axes._subplots.AxesSubplot object at 0x7fc2ee389f50>,\n",
       "        <matplotlib.axes._subplots.AxesSubplot object at 0x7fc2ede43cd0>,\n",
       "        <matplotlib.axes._subplots.AxesSubplot object at 0x7fc2eda55b90>,\n",
       "        <matplotlib.axes._subplots.AxesSubplot object at 0x7fc2ed8a7d10>,\n",
       "        <matplotlib.axes._subplots.AxesSubplot object at 0x7fc2ed273bd0>,\n",
       "        <matplotlib.axes._subplots.AxesSubplot object at 0x7fc2ecfc9910>,\n",
       "        <matplotlib.axes._subplots.AxesSubplot object at 0x7fc2ec8a5a50>],\n",
       "       [<matplotlib.axes._subplots.AxesSubplot object at 0x7fc2ec579910>,\n",
       "        <matplotlib.axes._subplots.AxesSubplot object at 0x7fc2ec11d710>,\n",
       "        <matplotlib.axes._subplots.AxesSubplot object at 0x7fc2ebb44290>,\n",
       "        <matplotlib.axes._subplots.AxesSubplot object at 0x7fc2eb80f310>,\n",
       "        <matplotlib.axes._subplots.AxesSubplot object at 0x7fc2eb25d7d0>,\n",
       "        <matplotlib.axes._subplots.AxesSubplot object at 0x7fc2eb14f950>,\n",
       "        <matplotlib.axes._subplots.AxesSubplot object at 0x7fc2ea94e3d0>,\n",
       "        <matplotlib.axes._subplots.AxesSubplot object at 0x7fc2ea49f290>,\n",
       "        <matplotlib.axes._subplots.AxesSubplot object at 0x7fc2ea0ac210>,\n",
       "        <matplotlib.axes._subplots.AxesSubplot object at 0x7fc2e9d400d0>,\n",
       "        <matplotlib.axes._subplots.AxesSubplot object at 0x7fc2e98b4dd0>,\n",
       "        <matplotlib.axes._subplots.AxesSubplot object at 0x7fc2e9417f10>,\n",
       "        <matplotlib.axes._subplots.AxesSubplot object at 0x7fc2e9123dd0>]], dtype=object)"
      ]
     },
     "execution_count": 13,
     "metadata": {},
     "output_type": "execute_result"
    },
    {
     "data": {
      "image/png": "[encoded data removed]",
      "text/plain": [
       "<matplotlib.figure.Figure at 0x7fc2ec292510>"
      ]
     },
     "metadata": {},
     "output_type": "display_data"
    }
   ],
   "source": [
    "scatter_matrix(df_npi_clean[count_cols])"
   ]
  },
  {
   "cell_type": "code",
   "execution_count": 28,
   "metadata": {
    "collapsed": false
   },
   "outputs": [
    {
     "data": {
      "image/png": "[encoded data removed]",
      "text/plain": [
       "<matplotlib.figure.Figure at 0x7fc2f8ca53d0>"
      ]
     },
     "metadata": {},
     "output_type": "display_data"
    },
    {
     "data": {
      "image/png": "[encoded data removed]",
      "text/plain": [
       "<matplotlib.figure.Figure at 0x7fc2efdd0cd0>"
      ]
     },
     "metadata": {},
     "output_type": "display_data"
    },
    {
     "data": {
      "image/png": "[encoded data removed]",
      "text/plain": [
       "<matplotlib.figure.Figure at 0x7fc30d4946d0>"
      ]
     },
     "metadata": {},
     "output_type": "display_data"
    },
    {
     "data": {
      "image/png": "[encoded data removed]",
      "text/plain": [
       "<matplotlib.figure.Figure at 0x7fc30f0361d0>"
      ]
     },
     "metadata": {},
     "output_type": "display_data"
    },
    {
     "data": {
      "image/png": "[encoded data removed]",
      "text/plain": [
       "<matplotlib.figure.Figure at 0x7fc30f288850>"
      ]
     },
     "metadata": {},
     "output_type": "display_data"
    },
    {
     "data": {
      "image/png": "[encoded data removed]",
      "text/plain": [
       "<matplotlib.figure.Figure at 0x7fc30fa2b7d0>"
      ]
     },
     "metadata": {},
     "output_type": "display_data"
    },
    {
     "data": {
      "image/png": "[encoded data removed]",
      "text/plain": [
       "<matplotlib.figure.Figure at 0x7fc30c890110>"
      ]
     },
     "metadata": {},
     "output_type": "display_data"
    },
    {
     "data": {
      "image/png": "[encoded data removed]",
      "text/plain": [
       "<matplotlib.figure.Figure at 0x7fc30b943050>"
      ]
     },
     "metadata": {},
     "output_type": "display_data"
    },
    {
     "data": {
      "image/png": "[encoded data removed]",
      "text/plain": [
       "<matplotlib.figure.Figure at 0x7fc30b8e0950>"
      ]
     },
     "metadata": {},
     "output_type": "display_data"
    },
    {
     "data": {
      "image/png": "[encoded data removed]",
      "text/plain": [
       "<matplotlib.figure.Figure at 0x7fc311422550>"
      ]
     },
     "metadata": {},
     "output_type": "display_data"
    },
    {
     "data": {
      "image/png": "[encoded data removed]",
      "text/plain": [
       "<matplotlib.figure.Figure at 0x7fc30bf79110>"
      ]
     },
     "metadata": {},
     "output_type": "display_data"
    },
    {
     "data": {
      "image/png": "[encoded data removed]",
      "text/plain": [
       "<matplotlib.figure.Figure at 0x7fc30cfa3310>"
      ]
     },
     "metadata": {},
     "output_type": "display_data"
    },
    {
     "data": {
      "image/png": "[encoded data removed]",
      "text/plain": [
       "<matplotlib.figure.Figure at 0x7fc2f8942610>"
      ]
     },
     "metadata": {},
     "output_type": "display_data"
    }
   ],
   "source": [
    "for i in count_cols:\n",
    "    plt.scatter(df_npi_clean['total_claim_count'], df_npi_clean[i])\n",
    "    plt.title(i)\n",
    "    plt.show()"
   ]
  },
  {
   "cell_type": "code",
   "execution_count": 25,
   "metadata": {
    "collapsed": false,
    "scrolled": true
   },
   "outputs": [
    {
     "data": {
      "text/plain": [
       "(0, 15000)"
      ]
     },
     "execution_count": 25,
     "metadata": {},
     "output_type": "execute_result"
    },
    {
     "data": {
      "image/png": "[encoded data removed]",
      "text/plain": [
       "<matplotlib.figure.Figure at 0x7fc2efdd0150>"
      ]
     },
     "metadata": {},
     "output_type": "display_data"
    }
   ],
   "source": [
    "df_npi_clean['brand_claim_count'][df_npi_clean['brand_claim_count']<500].hist(bins=500)\n",
    "plt.xlim(0,500)\n",
    "plt.ylim(0,15000)"
   ]
  },
  {
   "cell_type": "code",
   "execution_count": 24,
   "metadata": {
    "collapsed": false
   },
   "outputs": [
    {
     "data": {
      "text/plain": [
       "(0, 8000)"
      ]
     },
     "execution_count": 24,
     "metadata": {},
     "output_type": "execute_result"
    },
    {
     "data": {
      "image/png": "[encoded data removed]",
      "text/plain": [
       "<matplotlib.figure.Figure at 0x7fc30b5e7210>"
      ]
     },
     "metadata": {},
     "output_type": "display_data"
    }
   ],
   "source": [
    "df_npi_clean['generic_claim_count'][df_npi_clean['generic_claim_count']<1000].hist(bins=500)\n",
    "plt.xlim(0,1000)\n",
    "plt.ylim(0,8000)"
   ]
  },
  {
   "cell_type": "markdown",
   "metadata": {},
   "source": [
    "distribution idea is interesting, maybe come back to it if necessary  \n",
    "modeling also seems like it would work"
   ]
  },
  {
   "cell_type": "code",
   "execution_count": 29,
   "metadata": {
    "collapsed": true
   },
   "outputs": [],
   "source": [
    "from sklearn import linear_model"
   ]
  },
  {
   "cell_type": "code",
   "execution_count": 88,
   "metadata": {
    "collapsed": true
   },
   "outputs": [],
   "source": [
    "def linear_impute(col_null_name, col_model_name, df):\n",
    "    x_train = df[col_model_name][-df[col_null_name].isnull()]\n",
    "    y_train = df[col_null_name][-df[col_null_name].isnull()]\n",
    "    \n",
    "    x_test = df[col_model_name][df[col_null_name].isnull()]\n",
    "    x_nulls = df[col_null_name][df[col_null_name].isnull()]\n",
    "\n",
    "    lin_mod = linear_model.LinearRegression(normalize=True, fit_intercept=True)\n",
    "    lin_mod.fit(x_train.reshape(len(x_train), 1), y_train.reshape(len(y_train), 1))\n",
    "    df[col_null_name][df[col_null_name].isnull()] = lin_mod.predict(x_test.reshape(len(x_test), 1))\n",
    "    \n",
    "    return lin_mod"
   ]
  },
  {
   "cell_type": "code",
   "execution_count": 84,
   "metadata": {
    "collapsed": false
   },
   "outputs": [
    {
     "name": "stderr",
     "output_type": "stream",
     "text": [
      "/home/ubuntu/anaconda2/lib/python2.7/site-packages/ipykernel/__main__.py:16: SettingWithCopyWarning: \n",
      "A value is trying to be set on a copy of a slice from a DataFrame\n",
      "\n",
      "See the caveats in the documentation: http://pandas.pydata.org/pandas-docs/stable/indexing.html#indexing-view-versus-copy\n",
      "/home/ubuntu/anaconda2/lib/python2.7/site-packages/ipykernel/__main__.py:1: SettingWithCopyWarning: \n",
      "A value is trying to be set on a copy of a slice from a DataFrame\n",
      "\n",
      "See the caveats in the documentation: http://pandas.pydata.org/pandas-docs/stable/indexing.html#indexing-view-versus-copy\n",
      "  if __name__ == '__main__':\n"
     ]
    },
    {
     "name": "stdout",
     "output_type": "stream",
     "text": [
      "(571130,)\n",
      "<class 'pandas.core.series.Series'>\n",
      "(571130,)\n",
      "<class 'pandas.core.series.Series'>\n",
      "(478251,)\n",
      "(478251,)\n"
     ]
    }
   ],
   "source": [
    "mod1 = linear_impute('brand_claim_count', 'total_claim_count', df_npi_clean)"
   ]
  },
  {
   "cell_type": "code",
   "execution_count": 87,
   "metadata": {
    "collapsed": false
   },
   "outputs": [
    {
     "data": {
      "text/plain": [
       "array([[ 0.23365273]])"
      ]
     },
     "execution_count": 87,
     "metadata": {},
     "output_type": "execute_result"
    }
   ],
   "source": [
    "mod1.coef_"
   ]
  },
  {
   "cell_type": "code",
   "execution_count": 86,
   "metadata": {
    "collapsed": false,
    "scrolled": true
   },
   "outputs": [
    {
     "data": {
      "text/plain": [
       "{'copy_X': True, 'fit_intercept': True, 'n_jobs': 1, 'normalize': False}"
      ]
     },
     "execution_count": 86,
     "metadata": {},
     "output_type": "execute_result"
    }
   ],
   "source": [
    "mod1.get_params()"
   ]
  },
  {
   "cell_type": "code",
   "execution_count": 72,
   "metadata": {
    "collapsed": false
   },
   "outputs": [
    {
     "name": "stdout",
     "output_type": "stream",
     "text": [
      "<class 'pandas.core.frame.DataFrame'>\n",
      "Int64Index: 1049381 entries, 0 to 1049380\n",
      "Data columns (total 29 columns):\n",
      "npi                       1049381 non-null int64\n",
      "last_name                 1049381 non-null object\n",
      "first_name                1042626 non-null object\n",
      "entity_code               1049381 non-null object\n",
      "provider_zip              1049381 non-null object\n",
      "provider_city             1049381 non-null object\n",
      "specialty_desc            1049381 non-null object\n",
      "bene_count                905381 non-null float64\n",
      "total_claim_count         1049381 non-null int64\n",
      "total_drug_cost           1049381 non-null float64\n",
      "total_day_supply          1049381 non-null int64\n",
      "bene_count_ge65           598228 non-null float64\n",
      "total_claim_count_ge65    823082 non-null float64\n",
      "total_drug_cost_ge65      823082 non-null float64\n",
      "total_day_supply_ge65     823082 non-null float64\n",
      "brand_claim_count         571130 non-null float64\n",
      "brand_claim_cost          571130 non-null float64\n",
      "generic_claim_count       1049381 non-null float64\n",
      "generic_claim_cost        758402 non-null float64\n",
      "other_claim_count         756433 non-null float64\n",
      "other_claim_cost          756433 non-null float64\n",
      "mapd_claim_count          809090 non-null float64\n",
      "mapd_claim_cost           809090 non-null float64\n",
      "pdp_claim_count           809075 non-null float64\n",
      "pdp_claim_cost            809075 non-null float64\n",
      "lis_claim_count           821902 non-null float64\n",
      "lis_claim_cost            821902 non-null float64\n",
      "nonlis_claim_count        821904 non-null float64\n",
      "nonlis_claim_cost         821904 non-null float64\n",
      "dtypes: float64(20), int64(3), object(6)\n",
      "memory usage: 240.2+ MB\n"
     ]
    }
   ],
   "source": [
    "df_npi_clean.info()"
   ]
  },
  {
   "cell_type": "code",
   "execution_count": 82,
   "metadata": {
    "collapsed": false
   },
   "outputs": [
    {
     "data": {
      "text/plain": [
       "(0, 500)"
      ]
     },
     "execution_count": 82,
     "metadata": {},
     "output_type": "execute_result"
    },
    {
     "data": {
      "image/png": "[encoded data removed]",
      "text/plain": [
       "<matplotlib.figure.Figure at 0x7fc2e96bded0>"
      ]
     },
     "metadata": {},
     "output_type": "display_data"
    }
   ],
   "source": [
    "df_npi_clean['generic_claim_count'][df_npi['generic_claim_count'].isnull()].hist(bins=4000)\n",
    "plt.xlim(0,500)"
   ]
  },
  {
   "cell_type": "code",
   "execution_count": 77,
   "metadata": {
    "collapsed": false
   },
   "outputs": [
    {
     "data": {
      "text/plain": [
       "1049381"
      ]
     },
     "execution_count": 77,
     "metadata": {},
     "output_type": "execute_result"
    }
   ],
   "source": [
    "290979+758402"
   ]
  },
  {
   "cell_type": "code",
   "execution_count": 47,
   "metadata": {
    "collapsed": true
   },
   "outputs": [],
   "source": [
    "lin_mod = linear_model.LinearRegression()"
   ]
  },
  {
   "cell_type": "code",
   "execution_count": 55,
   "metadata": {
    "collapsed": false
   },
   "outputs": [
    {
     "data": {
      "text/plain": [
       "LinearRegression(copy_X=True, fit_intercept=True, n_jobs=1, normalize=False)"
      ]
     },
     "execution_count": 55,
     "metadata": {},
     "output_type": "execute_result"
    }
   ],
   "source": [
    "x = df_npi_clean['total_claim_count']\n",
    "y = df_npi_clean['total_drug_cost']\n",
    "\n",
    "lin_mod.fit(x.reshape(len(x),1), y.reshape(len(y),1))"
   ]
  },
  {
   "cell_type": "code",
   "execution_count": null,
   "metadata": {
    "collapsed": true
   },
   "outputs": [],
   "source": []
  }
 ],
 "metadata": {
  "kernelspec": {
   "display_name": "Python 2",
   "language": "python",
   "name": "python2"
  },
  "language_info": {
   "codemirror_mode": {
    "name": "ipython",
    "version": 2
   },
   "file_extension": ".py",
   "mimetype": "text/x-python",
   "name": "python",
   "nbconvert_exporter": "python",
   "pygments_lexer": "ipython2",
   "version": "2.7.11"
  }
 },
 "nbformat": 4,
 "nbformat_minor": 0
}
