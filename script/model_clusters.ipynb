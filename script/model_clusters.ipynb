{
 "cells": [
  {
   "cell_type": "code",
   "execution_count": 1,
   "metadata": {
    "collapsed": true
   },
   "outputs": [],
   "source": [
    "import pandas as pd\n",
    "import numpy as np\n",
    "import matplotlib.pyplot as plt\n",
    "%matplotlib inline"
   ]
  },
  {
   "cell_type": "code",
   "execution_count": 2,
   "metadata": {
    "collapsed": true
   },
   "outputs": [],
   "source": [
    "df_mod = pd.read_csv('../data/demo_cluster_data.csv')"
   ]
  },
  {
   "cell_type": "code",
   "execution_count": 3,
   "metadata": {
    "collapsed": false
   },
   "outputs": [
    {
     "data": {
      "text/html": [
       "<div>\n",
       "<table border=\"1\" class=\"dataframe\">\n",
       "  <thead>\n",
       "    <tr style=\"text-align: right;\">\n",
       "      <th></th>\n",
       "      <th>total_submitted_charges_norm</th>\n",
       "      <th>Adult obesity_% Obese</th>\n",
       "      <th>Physical inactivity_% Physically Inactive</th>\n",
       "      <th>Poor mental health days_Mentally Unhealthy Days</th>\n",
       "      <th>Uninsured_% Uninsured</th>\n",
       "      <th>Primary Care_PCP Ratio</th>\n",
       "      <th>Rec Facility Rate_Rec Facility Rate</th>\n",
       "      <th>Limited acess to healthy foods_% Limited Access</th>\n",
       "      <th>% Fast Foods_% Fast Foods</th>\n",
       "      <th>predictions</th>\n",
       "      <th>county</th>\n",
       "    </tr>\n",
       "  </thead>\n",
       "  <tbody>\n",
       "    <tr>\n",
       "      <th>0</th>\n",
       "      <td>560.764619</td>\n",
       "      <td>34.1</td>\n",
       "      <td>32.2</td>\n",
       "      <td>4.3</td>\n",
       "      <td>13.6</td>\n",
       "      <td>2732</td>\n",
       "      <td>7.321046</td>\n",
       "      <td>9.793530</td>\n",
       "      <td>52.173913</td>\n",
       "      <td>0</td>\n",
       "      <td>Autauga</td>\n",
       "    </tr>\n",
       "    <tr>\n",
       "      <th>1</th>\n",
       "      <td>719.903586</td>\n",
       "      <td>25.5</td>\n",
       "      <td>25.1</td>\n",
       "      <td>3.8</td>\n",
       "      <td>19.1</td>\n",
       "      <td>1347</td>\n",
       "      <td>8.730813</td>\n",
       "      <td>5.460261</td>\n",
       "      <td>35.443038</td>\n",
       "      <td>0</td>\n",
       "      <td>Baldwin</td>\n",
       "    </tr>\n",
       "    <tr>\n",
       "      <th>2</th>\n",
       "      <td>621.280455</td>\n",
       "      <td>37.0</td>\n",
       "      <td>34.2</td>\n",
       "      <td>4.1</td>\n",
       "      <td>18.5</td>\n",
       "      <td>2283</td>\n",
       "      <td>3.650968</td>\n",
       "      <td>11.420316</td>\n",
       "      <td>55.882353</td>\n",
       "      <td>0</td>\n",
       "      <td>Barbour</td>\n",
       "    </tr>\n",
       "    <tr>\n",
       "      <th>3</th>\n",
       "      <td>236.284176</td>\n",
       "      <td>34.0</td>\n",
       "      <td>37.2</td>\n",
       "      <td>5.3</td>\n",
       "      <td>17.7</td>\n",
       "      <td>3813</td>\n",
       "      <td>4.370629</td>\n",
       "      <td>2.144661</td>\n",
       "      <td>45.454545</td>\n",
       "      <td>0</td>\n",
       "      <td>Bibb</td>\n",
       "    </tr>\n",
       "    <tr>\n",
       "      <th>4</th>\n",
       "      <td>516.343006</td>\n",
       "      <td>32.0</td>\n",
       "      <td>35.9</td>\n",
       "      <td>4.0</td>\n",
       "      <td>19.3</td>\n",
       "      <td>4782</td>\n",
       "      <td>5.227665</td>\n",
       "      <td>1.062468</td>\n",
       "      <td>56.410256</td>\n",
       "      <td>0</td>\n",
       "      <td>Blount</td>\n",
       "    </tr>\n",
       "  </tbody>\n",
       "</table>\n",
       "</div>"
      ],
      "text/plain": [
       "   total_submitted_charges_norm  Adult obesity_% Obese  \\\n",
       "0                    560.764619                   34.1   \n",
       "1                    719.903586                   25.5   \n",
       "2                    621.280455                   37.0   \n",
       "3                    236.284176                   34.0   \n",
       "4                    516.343006                   32.0   \n",
       "\n",
       "   Physical inactivity_% Physically Inactive  \\\n",
       "0                                       32.2   \n",
       "1                                       25.1   \n",
       "2                                       34.2   \n",
       "3                                       37.2   \n",
       "4                                       35.9   \n",
       "\n",
       "   Poor mental health days_Mentally Unhealthy Days  Uninsured_% Uninsured  \\\n",
       "0                                              4.3                   13.6   \n",
       "1                                              3.8                   19.1   \n",
       "2                                              4.1                   18.5   \n",
       "3                                              5.3                   17.7   \n",
       "4                                              4.0                   19.3   \n",
       "\n",
       "   Primary Care_PCP Ratio  Rec Facility Rate_Rec Facility Rate  \\\n",
       "0                    2732                             7.321046   \n",
       "1                    1347                             8.730813   \n",
       "2                    2283                             3.650968   \n",
       "3                    3813                             4.370629   \n",
       "4                    4782                             5.227665   \n",
       "\n",
       "   Limited acess to healthy foods_% Limited Access  % Fast Foods_% Fast Foods  \\\n",
       "0                                         9.793530                  52.173913   \n",
       "1                                         5.460261                  35.443038   \n",
       "2                                        11.420316                  55.882353   \n",
       "3                                         2.144661                  45.454545   \n",
       "4                                         1.062468                  56.410256   \n",
       "\n",
       "   predictions   county  \n",
       "0            0  Autauga  \n",
       "1            0  Baldwin  \n",
       "2            0  Barbour  \n",
       "3            0     Bibb  \n",
       "4            0   Blount  "
      ]
     },
     "execution_count": 3,
     "metadata": {},
     "output_type": "execute_result"
    }
   ],
   "source": [
    "df_mod.head()"
   ]
  },
  {
   "cell_type": "code",
   "execution_count": 9,
   "metadata": {
    "collapsed": false
   },
   "outputs": [],
   "source": [
    "df_mod.columns = ['submitted_charges_norm', 'obesity', 'inactivity', 'poor_mental_health', \n",
    "                  'uninsured', 'primary_care', 'rec_facility', 'limited_access_health_foods', \n",
    "                  'fast_food', 'clusters', 'county']"
   ]
  },
  {
   "cell_type": "code",
   "execution_count": 21,
   "metadata": {
    "collapsed": false
   },
   "outputs": [],
   "source": [
    "df_mod['cluster_1'] = [1 if x==1 else 0 for x in df_mod['clusters']]"
   ]
  },
  {
   "cell_type": "code",
   "execution_count": 22,
   "metadata": {
    "collapsed": false
   },
   "outputs": [
    {
     "data": {
      "text/plain": [
       "Index([u'submitted_charges_norm', u'obesity', u'inactivity',\n",
       "       u'poor_mental_health', u'uninsured', u'primary_care', u'rec_facility',\n",
       "       u'limited_access_health_foods', u'fast_food', u'clusters', u'county',\n",
       "       u'cluster_1'],\n",
       "      dtype='object')"
      ]
     },
     "execution_count": 22,
     "metadata": {},
     "output_type": "execute_result"
    }
   ],
   "source": [
    "df_mod.columns"
   ]
  },
  {
   "cell_type": "code",
   "execution_count": 23,
   "metadata": {
    "collapsed": false,
    "scrolled": true
   },
   "outputs": [
    {
     "data": {
      "text/plain": [
       "816"
      ]
     },
     "execution_count": 23,
     "metadata": {},
     "output_type": "execute_result"
    }
   ],
   "source": [
    "np.sum(df_mod['cluster_1'])"
   ]
  },
  {
   "cell_type": "code",
   "execution_count": 12,
   "metadata": {
    "collapsed": false
   },
   "outputs": [
    {
     "name": "stdout",
     "output_type": "stream",
     "text": [
      "<class 'pandas.core.frame.DataFrame'>\n",
      "Int64Index: 2810 entries, 0 to 2809\n",
      "Data columns (total 12 columns):\n",
      "submitted_charges_norm         2810 non-null float64\n",
      "obesity                        2810 non-null float64\n",
      "inactivity                     2810 non-null float64\n",
      "poor_mental_health             2628 non-null float64\n",
      "uninsured                      2810 non-null float64\n",
      "primary_care                   2765 non-null float64\n",
      "rec_facility                   2810 non-null float64\n",
      "limited_access_health_foods    2810 non-null float64\n",
      "fast_food                      2763 non-null float64\n",
      "clusters                       2810 non-null int64\n",
      "county                         2810 non-null object\n",
      "cluster_1                      2810 non-null int64\n",
      "dtypes: float64(9), int64(2), object(1)\n",
      "memory usage: 285.4+ KB\n"
     ]
    }
   ],
   "source": [
    "df_mod.info()"
   ]
  },
  {
   "cell_type": "markdown",
   "metadata": {},
   "source": [
    "Need to fill null values."
   ]
  },
  {
   "cell_type": "code",
   "execution_count": 24,
   "metadata": {
    "collapsed": true
   },
   "outputs": [],
   "source": [
    "df_mod['poor_mental_health'].fillna(np.mean(df_mod['poor_mental_health']), inplace=True)"
   ]
  },
  {
   "cell_type": "code",
   "execution_count": 25,
   "metadata": {
    "collapsed": true
   },
   "outputs": [],
   "source": [
    "df_mod['primary_care'].fillna(np.mean(df_mod['primary_care']), inplace=True)"
   ]
  },
  {
   "cell_type": "code",
   "execution_count": 26,
   "metadata": {
    "collapsed": true
   },
   "outputs": [],
   "source": [
    "df_mod['fast_food'].fillna(np.mean(df_mod['fast_food']), inplace=True)"
   ]
  },
  {
   "cell_type": "markdown",
   "metadata": {},
   "source": [
    "## Random Forest"
   ]
  },
  {
   "cell_type": "code",
   "execution_count": 5,
   "metadata": {
    "collapsed": true
   },
   "outputs": [],
   "source": [
    "from sklearn.ensemble import RandomForestClassifier\n",
    "from sklearn.cross_validation import train_test_split\n",
    "from sklearn.metrics import roc_auc_score"
   ]
  },
  {
   "cell_type": "code",
   "execution_count": 27,
   "metadata": {
    "collapsed": true
   },
   "outputs": [],
   "source": [
    "y = df_mod.pop('cluster_1')"
   ]
  },
  {
   "cell_type": "code",
   "execution_count": 28,
   "metadata": {
    "collapsed": true
   },
   "outputs": [],
   "source": [
    "X = df_mod.iloc[:,1:9].values"
   ]
  },
  {
   "cell_type": "code",
   "execution_count": 29,
   "metadata": {
    "collapsed": true
   },
   "outputs": [
    {
     "data": {
      "text/plain": [
       "array([[ 34.1       ,  32.2       ,   4.3       , ...,   7.32104618,\n",
       "          9.7935304 ,  52.17391304],\n",
       "       [ 25.5       ,  25.1       ,   3.8       , ...,   8.73081267,\n",
       "          5.46026062,  35.44303798],\n",
       "       [ 37.        ,  34.2       ,   4.1       , ...,   3.65096751,\n",
       "         11.42031572,  55.88235294],\n",
       "       ..., \n",
       "       [ 30.9       ,  23.1       ,   3.4       , ...,   9.47104229,\n",
       "          7.19014955,  43.24324324],\n",
       "       [ 24.5       ,  25.3       ,   2.3       , ...,  23.38634238,\n",
       "          2.73793925,  36.36363636],\n",
       "       [ 28.8       ,  28.2       ,   3.        , ...,  13.93145723,\n",
       "          3.98922185,  20.        ]])"
      ]
     },
     "execution_count": 29,
     "metadata": {},
     "output_type": "execute_result"
    }
   ],
   "source": [
    "X"
   ]
  },
  {
   "cell_type": "code",
   "execution_count": 60,
   "metadata": {
    "collapsed": true
   },
   "outputs": [],
   "source": [
    "X_train, X_test, y_train, y_test = train_test_split(X, y, test_size=.2)"
   ]
  },
  {
   "cell_type": "code",
   "execution_count": 61,
   "metadata": {
    "collapsed": true
   },
   "outputs": [],
   "source": [
    "rf_mod = RandomForestClassifier(n_estimators=100)"
   ]
  },
  {
   "cell_type": "code",
   "execution_count": 62,
   "metadata": {
    "collapsed": false
   },
   "outputs": [
    {
     "data": {
      "text/plain": [
       "RandomForestClassifier(bootstrap=True, class_weight=None, criterion='gini',\n",
       "            max_depth=None, max_features='auto', max_leaf_nodes=None,\n",
       "            min_samples_leaf=1, min_samples_split=2,\n",
       "            min_weight_fraction_leaf=0.0, n_estimators=100, n_jobs=1,\n",
       "            oob_score=False, random_state=None, verbose=0,\n",
       "            warm_start=False)"
      ]
     },
     "execution_count": 62,
     "metadata": {},
     "output_type": "execute_result"
    }
   ],
   "source": [
    "rf_mod.fit(X_train, y_train)"
   ]
  },
  {
   "cell_type": "code",
   "execution_count": 63,
   "metadata": {
    "collapsed": false
   },
   "outputs": [
    {
     "data": {
      "text/plain": [
       "0.79953145917001334"
      ]
     },
     "execution_count": 63,
     "metadata": {},
     "output_type": "execute_result"
    }
   ],
   "source": [
    "roc_auc_score(y_test, rf_mod.predict_proba(X_test)[:,1])"
   ]
  },
  {
   "cell_type": "code",
   "execution_count": 64,
   "metadata": {
    "collapsed": false
   },
   "outputs": [
    {
     "data": {
      "text/plain": [
       "[('obesity', 0.10930915456197948),\n",
       " ('inactivity', 0.12057099625435186),\n",
       " ('poor_mental_health', 0.11932320526667267),\n",
       " ('uninsured', 0.12615093448004319),\n",
       " ('primary_care', 0.14054878754474204),\n",
       " ('rec_facility', 0.10264229792413093),\n",
       " ('limited_access_health_foods', 0.11916260723237335),\n",
       " ('fast_food', 0.16229201673570653)]"
      ]
     },
     "execution_count": 64,
     "metadata": {},
     "output_type": "execute_result"
    }
   ],
   "source": [
    "zip(df_mod.columns[1:9], rf_mod.feature_importances_)"
   ]
  },
  {
   "cell_type": "code",
   "execution_count": 66,
   "metadata": {
    "collapsed": false
   },
   "outputs": [
    {
     "data": {
      "text/plain": [
       "0.80782918149466187"
      ]
     },
     "execution_count": 66,
     "metadata": {},
     "output_type": "execute_result"
    }
   ],
   "source": [
    "rf_mod.score(X_test, y_test)"
   ]
  },
  {
   "cell_type": "code",
   "execution_count": null,
   "metadata": {
    "collapsed": true
   },
   "outputs": [],
   "source": []
  }
 ],
 "metadata": {
  "kernelspec": {
   "display_name": "Python 2",
   "language": "python",
   "name": "python2"
  },
  "language_info": {
   "codemirror_mode": {
    "name": "ipython",
    "version": 2
   },
   "file_extension": ".py",
   "mimetype": "text/x-python",
   "name": "python",
   "nbconvert_exporter": "python",
   "pygments_lexer": "ipython2",
   "version": "2.7.11"
  }
 },
 "nbformat": 4,
 "nbformat_minor": 0
}
