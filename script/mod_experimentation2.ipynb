{
 "cells": [
  {
   "cell_type": "code",
   "execution_count": 1,
   "metadata": {
    "collapsed": false
   },
   "outputs": [
    {
     "name": "stderr",
     "output_type": "stream",
     "text": [
      "/home/ubuntu/anaconda2/lib/python2.7/site-packages/sklearn/cross_validation.py:43: DeprecationWarning: This module has been deprecated in favor of the model_selection module into which all the refactored classes and functions are moved. Also note that the interface of the new CV iterators are different from that of this module. This module will be removed in 0.20.\n",
      "  \"This module will be removed in 0.20.\", DeprecationWarning)\n"
     ]
    }
   ],
   "source": [
    "import model_function as mf"
   ]
  },
  {
   "cell_type": "code",
   "execution_count": 2,
   "metadata": {
    "collapsed": true
   },
   "outputs": [],
   "source": [
    "import pandas as pd\n",
    "import psycopg2 as pg2"
   ]
  },
  {
   "cell_type": "code",
   "execution_count": 3,
   "metadata": {
    "collapsed": false
   },
   "outputs": [
    {
     "name": "stderr",
     "output_type": "stream",
     "text": [
      "/home/ubuntu/anaconda2/lib/python2.7/site-packages/IPython/core/interactiveshell.py:2902: DtypeWarning: Columns (5) have mixed types. Specify dtype option on import or set low_memory=False.\n",
      "  interactivity=interactivity, compiler=compiler, result=result)\n"
     ]
    }
   ],
   "source": [
    "df = pd.read_csv('/data/npi_2013_clean1.csv')"
   ]
  },
  {
   "cell_type": "code",
   "execution_count": 4,
   "metadata": {
    "collapsed": true
   },
   "outputs": [],
   "source": [
    "X_train, X_test = mf.make_train_test_dataset(df)"
   ]
  },
  {
   "cell_type": "code",
   "execution_count": 5,
   "metadata": {
    "collapsed": true
   },
   "outputs": [],
   "source": [
    "keep_cols = ['bene_count'\n",
    "             , 'total_claim_count'\n",
    "             , 'total_drug_cost'\n",
    "             , 'total_day_supply'\n",
    "             , 'brand_claim_count'\n",
    "             , 'brand_claim_cost'\n",
    "             , 'generic_claim_count'\n",
    "             , 'generic_claim_cost'\n",
    "             , 'other_claim_count'\n",
    "             , 'other_claim_cost'\n",
    "             , 'mapd_claim_count'\n",
    "             , 'mapd_claim_cost'\n",
    "             , 'pdp_claim_count'\n",
    "             , 'pdp_claim_cost'\n",
    "             , 'lis_claim_count'\n",
    "             , 'lis_claim_cost'\n",
    "             , 'nonlis_claim_count'\n",
    "             , 'nonlis_claim_cost'\n",
    "            ]"
   ]
  },
  {
   "cell_type": "code",
   "execution_count": 6,
   "metadata": {
    "collapsed": false
   },
   "outputs": [
    {
     "name": "stderr",
     "output_type": "stream",
     "text": [
      "[Parallel(n_jobs=8)]: Done   8 out of   8 | elapsed:   40.2s finished\n"
     ]
    }
   ],
   "source": [
    "mod_if = mf.fit_model(X_train, keep_cols)"
   ]
  },
  {
   "cell_type": "code",
   "execution_count": 7,
   "metadata": {
    "collapsed": true
   },
   "outputs": [],
   "source": [
    "conn = pg2.connect(dbname='medicare', user='postgres')\n",
    "query = '''\n",
    "        SELECT n.npi\n",
    "            , indict.first_name\n",
    "            , indict.last_name\n",
    "            , indict.npi_status\n",
    "        FROM indictments_2013 indict\n",
    "            , npi_name n\n",
    "        WHERE lower(indict.first_name) = lower(n.providerfirstname)\n",
    "        AND lower(indict.last_name) = lower(n.providerlastnamelegalname)\n",
    "        AND lower(indict.state) = lower(n.providerbusinessmailingaddressstatename);\n",
    "        '''"
   ]
  },
  {
   "cell_type": "code",
   "execution_count": 8,
   "metadata": {
    "collapsed": true
   },
   "outputs": [],
   "source": [
    "df_labels = pd.read_sql_query(query, conn)"
   ]
  },
  {
   "cell_type": "code",
   "execution_count": 9,
   "metadata": {
    "collapsed": false
   },
   "outputs": [
    {
     "name": "stderr",
     "output_type": "stream",
     "text": [
      "model_function.py:72: SettingWithCopyWarning: \n",
      "A value is trying to be set on a copy of a slice from a DataFrame.\n",
      "Try using .loc[row_indexer,col_indexer] = value instead\n",
      "\n",
      "See the caveats in the documentation: http://pandas.pydata.org/pandas-docs/stable/indexing.html#indexing-view-versus-copy\n",
      "  test_df['prediction'] = model.predict(test_df[model_columns])\n"
     ]
    }
   ],
   "source": [
    "test_df = mf.prediction(X_test, keep_cols, mod_if)"
   ]
  },
  {
   "cell_type": "code",
   "execution_count": 10,
   "metadata": {
    "collapsed": false
   },
   "outputs": [
    {
     "name": "stderr",
     "output_type": "stream",
     "text": [
      "model_function.py:95: SettingWithCopyWarning: \n",
      "A value is trying to be set on a copy of a slice from a DataFrame.\n",
      "Try using .loc[row_indexer,col_indexer] = value instead\n",
      "\n",
      "See the caveats in the documentation: http://pandas.pydata.org/pandas-docs/stable/indexing.html#indexing-view-versus-copy\n",
      "  else 0 for row in test_df['npi']]\n"
     ]
    }
   ],
   "source": [
    "test_df = mf.check_labels(df_labels, test_df, keep_cols)"
   ]
  },
  {
   "cell_type": "code",
   "execution_count": 11,
   "metadata": {
    "collapsed": false
   },
   "outputs": [
    {
     "data": {
      "text/html": [
       "<div>\n",
       "<table border=\"1\" class=\"dataframe\">\n",
       "  <thead>\n",
       "    <tr style=\"text-align: right;\">\n",
       "      <th></th>\n",
       "      <th>Unnamed: 0</th>\n",
       "      <th>npi</th>\n",
       "      <th>last_name</th>\n",
       "      <th>first_name</th>\n",
       "      <th>entity_code</th>\n",
       "      <th>provider_zip</th>\n",
       "      <th>provider_city</th>\n",
       "      <th>specialty_desc</th>\n",
       "      <th>bene_count</th>\n",
       "      <th>total_claim_count</th>\n",
       "      <th>...</th>\n",
       "      <th>nonlis_claim_cost</th>\n",
       "      <th>brand_claim_cost_avg</th>\n",
       "      <th>generic_claim_cost_avg</th>\n",
       "      <th>other_claim_cost_avg</th>\n",
       "      <th>mapd_claim_cost_avg</th>\n",
       "      <th>pdp_claim_cost_avg</th>\n",
       "      <th>lis_claim_cost_avg</th>\n",
       "      <th>nonlis_claim_cost_avg</th>\n",
       "      <th>prediction</th>\n",
       "      <th>indicted</th>\n",
       "    </tr>\n",
       "  </thead>\n",
       "  <tbody>\n",
       "    <tr>\n",
       "      <th>459746</th>\n",
       "      <td>333174</td>\n",
       "      <td>1053354787</td>\n",
       "      <td>GOLDFEIN</td>\n",
       "      <td>AARON</td>\n",
       "      <td>I</td>\n",
       "      <td>481242921</td>\n",
       "      <td>DEARBORN</td>\n",
       "      <td>General Practice</td>\n",
       "      <td>497</td>\n",
       "      <td>20657</td>\n",
       "      <td>...</td>\n",
       "      <td>77199.43</td>\n",
       "      <td>162.148990</td>\n",
       "      <td>19.399925</td>\n",
       "      <td>21.653271</td>\n",
       "      <td>39.874235</td>\n",
       "      <td>60.528605</td>\n",
       "      <td>60.136808</td>\n",
       "      <td>42.031533</td>\n",
       "      <td>0.713500</td>\n",
       "      <td>1</td>\n",
       "    </tr>\n",
       "    <tr>\n",
       "      <th>13269</th>\n",
       "      <td>40998</td>\n",
       "      <td>1881664829</td>\n",
       "      <td>ATAYA</td>\n",
       "      <td>HATEM</td>\n",
       "      <td>I</td>\n",
       "      <td>486619390</td>\n",
       "      <td>WEST BRANCH</td>\n",
       "      <td>Internal Medicine</td>\n",
       "      <td>868</td>\n",
       "      <td>17664</td>\n",
       "      <td>...</td>\n",
       "      <td>515616.34</td>\n",
       "      <td>192.936023</td>\n",
       "      <td>23.082508</td>\n",
       "      <td>29.143358</td>\n",
       "      <td>54.736709</td>\n",
       "      <td>67.127356</td>\n",
       "      <td>67.169662</td>\n",
       "      <td>59.395760</td>\n",
       "      <td>0.705946</td>\n",
       "      <td>1</td>\n",
       "    </tr>\n",
       "    <tr>\n",
       "      <th>526580</th>\n",
       "      <td>689114</td>\n",
       "      <td>1902838014</td>\n",
       "      <td>OGBUOKIRI</td>\n",
       "      <td>GODWIN</td>\n",
       "      <td>I</td>\n",
       "      <td>701263744</td>\n",
       "      <td>NEW ORLEANS</td>\n",
       "      <td>General Surgery</td>\n",
       "      <td>107</td>\n",
       "      <td>1355</td>\n",
       "      <td>...</td>\n",
       "      <td>2330.62</td>\n",
       "      <td>214.344588</td>\n",
       "      <td>22.366400</td>\n",
       "      <td>33.475198</td>\n",
       "      <td>50.298379</td>\n",
       "      <td>62.034269</td>\n",
       "      <td>65.986955</td>\n",
       "      <td>51.478635</td>\n",
       "      <td>0.414670</td>\n",
       "      <td>1</td>\n",
       "    </tr>\n",
       "    <tr>\n",
       "      <th>980640</th>\n",
       "      <td>755913</td>\n",
       "      <td>1427136043</td>\n",
       "      <td>QADIR</td>\n",
       "      <td>RIZWAN</td>\n",
       "      <td>I</td>\n",
       "      <td>483141723</td>\n",
       "      <td>STERLING HEIGHTS</td>\n",
       "      <td>Neurology</td>\n",
       "      <td>426</td>\n",
       "      <td>3863</td>\n",
       "      <td>...</td>\n",
       "      <td>260697.01</td>\n",
       "      <td>945.720550</td>\n",
       "      <td>42.924785</td>\n",
       "      <td>23.248386</td>\n",
       "      <td>244.113129</td>\n",
       "      <td>255.598196</td>\n",
       "      <td>273.906044</td>\n",
       "      <td>233.294313</td>\n",
       "      <td>0.534572</td>\n",
       "      <td>1</td>\n",
       "    </tr>\n",
       "    <tr>\n",
       "      <th>936622</th>\n",
       "      <td>66443</td>\n",
       "      <td>1497781447</td>\n",
       "      <td>BAZZI</td>\n",
       "      <td>MOHAMAD</td>\n",
       "      <td>I</td>\n",
       "      <td>481873338</td>\n",
       "      <td>CANTON</td>\n",
       "      <td>Plastic and Reconstructive Surgery</td>\n",
       "      <td>64</td>\n",
       "      <td>161</td>\n",
       "      <td>...</td>\n",
       "      <td>34220.89</td>\n",
       "      <td>200.472847</td>\n",
       "      <td>21.124370</td>\n",
       "      <td>24.456168</td>\n",
       "      <td>32.103744</td>\n",
       "      <td>42.045297</td>\n",
       "      <td>52.568557</td>\n",
       "      <td>33.793751</td>\n",
       "      <td>0.380008</td>\n",
       "      <td>1</td>\n",
       "    </tr>\n",
       "    <tr>\n",
       "      <th>313717</th>\n",
       "      <td>85833</td>\n",
       "      <td>1427000819</td>\n",
       "      <td>BINDER</td>\n",
       "      <td>WILLIAM</td>\n",
       "      <td>I</td>\n",
       "      <td>481985753</td>\n",
       "      <td>YPSILANTI</td>\n",
       "      <td>Family Practice</td>\n",
       "      <td>73</td>\n",
       "      <td>926</td>\n",
       "      <td>...</td>\n",
       "      <td>4899.50</td>\n",
       "      <td>181.149499</td>\n",
       "      <td>22.071589</td>\n",
       "      <td>28.569992</td>\n",
       "      <td>50.773910</td>\n",
       "      <td>58.693464</td>\n",
       "      <td>59.878618</td>\n",
       "      <td>52.614634</td>\n",
       "      <td>0.361441</td>\n",
       "      <td>1</td>\n",
       "    </tr>\n",
       "    <tr>\n",
       "      <th>1030910</th>\n",
       "      <td>206541</td>\n",
       "      <td>1548427164</td>\n",
       "      <td>DANESHVAR</td>\n",
       "      <td>GERALD</td>\n",
       "      <td>I</td>\n",
       "      <td>482123221</td>\n",
       "      <td>HAMTRAMCK</td>\n",
       "      <td>Geriatric Medicine</td>\n",
       "      <td>731</td>\n",
       "      <td>12133</td>\n",
       "      <td>...</td>\n",
       "      <td>104944.78</td>\n",
       "      <td>156.001166</td>\n",
       "      <td>23.273950</td>\n",
       "      <td>28.040818</td>\n",
       "      <td>50.013939</td>\n",
       "      <td>56.604035</td>\n",
       "      <td>54.972580</td>\n",
       "      <td>54.413811</td>\n",
       "      <td>0.631432</td>\n",
       "      <td>1</td>\n",
       "    </tr>\n",
       "    <tr>\n",
       "      <th>338511</th>\n",
       "      <td>329079</td>\n",
       "      <td>1528044815</td>\n",
       "      <td>GLAZER</td>\n",
       "      <td>ROBERT</td>\n",
       "      <td>I</td>\n",
       "      <td>905055023</td>\n",
       "      <td>TORRANCE</td>\n",
       "      <td>Family Practice</td>\n",
       "      <td>474</td>\n",
       "      <td>4723</td>\n",
       "      <td>...</td>\n",
       "      <td>282168.83</td>\n",
       "      <td>181.149499</td>\n",
       "      <td>22.071589</td>\n",
       "      <td>28.569992</td>\n",
       "      <td>50.773910</td>\n",
       "      <td>58.693464</td>\n",
       "      <td>59.878618</td>\n",
       "      <td>52.614634</td>\n",
       "      <td>0.547321</td>\n",
       "      <td>1</td>\n",
       "    </tr>\n",
       "  </tbody>\n",
       "</table>\n",
       "<p>8 rows × 35 columns</p>\n",
       "</div>"
      ],
      "text/plain": [
       "         Unnamed: 0         npi  last_name first_name entity_code  \\\n",
       "459746       333174  1053354787   GOLDFEIN      AARON           I   \n",
       "13269         40998  1881664829      ATAYA      HATEM           I   \n",
       "526580       689114  1902838014  OGBUOKIRI     GODWIN           I   \n",
       "980640       755913  1427136043      QADIR     RIZWAN           I   \n",
       "936622        66443  1497781447      BAZZI    MOHAMAD           I   \n",
       "313717        85833  1427000819     BINDER    WILLIAM           I   \n",
       "1030910      206541  1548427164  DANESHVAR     GERALD           I   \n",
       "338511       329079  1528044815     GLAZER     ROBERT           I   \n",
       "\n",
       "        provider_zip     provider_city                      specialty_desc  \\\n",
       "459746     481242921          DEARBORN                    General Practice   \n",
       "13269      486619390       WEST BRANCH                   Internal Medicine   \n",
       "526580     701263744       NEW ORLEANS                     General Surgery   \n",
       "980640     483141723  STERLING HEIGHTS                           Neurology   \n",
       "936622     481873338            CANTON  Plastic and Reconstructive Surgery   \n",
       "313717     481985753         YPSILANTI                     Family Practice   \n",
       "1030910    482123221         HAMTRAMCK                  Geriatric Medicine   \n",
       "338511     905055023          TORRANCE                     Family Practice   \n",
       "\n",
       "         bene_count  total_claim_count    ...     nonlis_claim_cost  \\\n",
       "459746          497              20657    ...              77199.43   \n",
       "13269           868              17664    ...             515616.34   \n",
       "526580          107               1355    ...               2330.62   \n",
       "980640          426               3863    ...             260697.01   \n",
       "936622           64                161    ...              34220.89   \n",
       "313717           73                926    ...               4899.50   \n",
       "1030910         731              12133    ...             104944.78   \n",
       "338511          474               4723    ...             282168.83   \n",
       "\n",
       "         brand_claim_cost_avg  generic_claim_cost_avg  other_claim_cost_avg  \\\n",
       "459746             162.148990               19.399925             21.653271   \n",
       "13269              192.936023               23.082508             29.143358   \n",
       "526580             214.344588               22.366400             33.475198   \n",
       "980640             945.720550               42.924785             23.248386   \n",
       "936622             200.472847               21.124370             24.456168   \n",
       "313717             181.149499               22.071589             28.569992   \n",
       "1030910            156.001166               23.273950             28.040818   \n",
       "338511             181.149499               22.071589             28.569992   \n",
       "\n",
       "         mapd_claim_cost_avg  pdp_claim_cost_avg  lis_claim_cost_avg  \\\n",
       "459746             39.874235           60.528605           60.136808   \n",
       "13269              54.736709           67.127356           67.169662   \n",
       "526580             50.298379           62.034269           65.986955   \n",
       "980640            244.113129          255.598196          273.906044   \n",
       "936622             32.103744           42.045297           52.568557   \n",
       "313717             50.773910           58.693464           59.878618   \n",
       "1030910            50.013939           56.604035           54.972580   \n",
       "338511             50.773910           58.693464           59.878618   \n",
       "\n",
       "         nonlis_claim_cost_avg  prediction  indicted  \n",
       "459746               42.031533    0.713500         1  \n",
       "13269                59.395760    0.705946         1  \n",
       "526580               51.478635    0.414670         1  \n",
       "980640              233.294313    0.534572         1  \n",
       "936622               33.793751    0.380008         1  \n",
       "313717               52.614634    0.361441         1  \n",
       "1030910              54.413811    0.631432         1  \n",
       "338511               52.614634    0.547321         1  \n",
       "\n",
       "[8 rows x 35 columns]"
      ]
     },
     "execution_count": 11,
     "metadata": {},
     "output_type": "execute_result"
    }
   ],
   "source": [
    "test_df[test_df['indicted']==True]"
   ]
  },
  {
   "cell_type": "code",
   "execution_count": null,
   "metadata": {
    "collapsed": true
   },
   "outputs": [],
   "source": []
  }
 ],
 "metadata": {
  "kernelspec": {
   "display_name": "Python 2",
   "language": "python",
   "name": "python2"
  },
  "language_info": {
   "codemirror_mode": {
    "name": "ipython",
    "version": 2
   },
   "file_extension": ".py",
   "mimetype": "text/x-python",
   "name": "python",
   "nbconvert_exporter": "python",
   "pygments_lexer": "ipython2",
   "version": "2.7.11"
  }
 },
 "nbformat": 4,
 "nbformat_minor": 0
}
