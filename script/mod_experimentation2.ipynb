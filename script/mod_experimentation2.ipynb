{
 "cells": [
  {
   "cell_type": "code",
   "execution_count": 1,
   "metadata": {
    "collapsed": false
   },
   "outputs": [
    {
     "name": "stderr",
     "output_type": "stream",
     "text": [
      "/home/ubuntu/anaconda2/lib/python2.7/site-packages/sklearn/cross_validation.py:43: DeprecationWarning: This module has been deprecated in favor of the model_selection module into which all the refactored classes and functions are moved. Also note that the interface of the new CV iterators are different from that of this module. This module will be removed in 0.20.\n",
      "  \"This module will be removed in 0.20.\", DeprecationWarning)\n"
     ]
    }
   ],
   "source": [
    "import model_function as mf"
   ]
  },
  {
   "cell_type": "code",
   "execution_count": 2,
   "metadata": {
    "collapsed": true
   },
   "outputs": [],
   "source": [
    "import pandas as pd\n",
    "import psycopg2 as pg2"
   ]
  },
  {
   "cell_type": "code",
   "execution_count": 3,
   "metadata": {
    "collapsed": false,
    "scrolled": false
   },
   "outputs": [
    {
     "name": "stderr",
     "output_type": "stream",
     "text": [
      "/home/ubuntu/anaconda2/lib/python2.7/site-packages/IPython/core/interactiveshell.py:2902: DtypeWarning: Columns (5) have mixed types. Specify dtype option on import or set low_memory=False.\n",
      "  interactivity=interactivity, compiler=compiler, result=result)\n"
     ]
    }
   ],
   "source": [
    "df = pd.read_csv('/data/npi_2013_clean1.csv')"
   ]
  },
  {
   "cell_type": "code",
   "execution_count": 37,
   "metadata": {
    "collapsed": false
   },
   "outputs": [
    {
     "data": {
      "text/html": [
       "<div>\n",
       "<table border=\"1\" class=\"dataframe\">\n",
       "  <thead>\n",
       "    <tr style=\"text-align: right;\">\n",
       "      <th></th>\n",
       "      <th>9342</th>\n",
       "    </tr>\n",
       "  </thead>\n",
       "  <tbody>\n",
       "    <tr>\n",
       "      <th>Unnamed: 0</th>\n",
       "      <td>14959</td>\n",
       "    </tr>\n",
       "    <tr>\n",
       "      <th>npi</th>\n",
       "      <td>1477571818</td>\n",
       "    </tr>\n",
       "    <tr>\n",
       "      <th>last_name</th>\n",
       "      <td>ALAM</td>\n",
       "    </tr>\n",
       "    <tr>\n",
       "      <th>first_name</th>\n",
       "      <td>WASEEM</td>\n",
       "    </tr>\n",
       "    <tr>\n",
       "      <th>entity_code</th>\n",
       "      <td>I</td>\n",
       "    </tr>\n",
       "    <tr>\n",
       "      <th>provider_zip</th>\n",
       "      <td>483025051</td>\n",
       "    </tr>\n",
       "    <tr>\n",
       "      <th>provider_city</th>\n",
       "      <td>BLOOMFIELD HILLS</td>\n",
       "    </tr>\n",
       "    <tr>\n",
       "      <th>specialty_desc</th>\n",
       "      <td>Internal Medicine</td>\n",
       "    </tr>\n",
       "    <tr>\n",
       "      <th>bene_count</th>\n",
       "      <td>575</td>\n",
       "    </tr>\n",
       "    <tr>\n",
       "      <th>total_claim_count</th>\n",
       "      <td>21827</td>\n",
       "    </tr>\n",
       "    <tr>\n",
       "      <th>total_drug_cost</th>\n",
       "      <td>1.44468e+06</td>\n",
       "    </tr>\n",
       "    <tr>\n",
       "      <th>total_day_supply</th>\n",
       "      <td>710453</td>\n",
       "    </tr>\n",
       "    <tr>\n",
       "      <th>brand_claim_count</th>\n",
       "      <td>4031</td>\n",
       "    </tr>\n",
       "    <tr>\n",
       "      <th>brand_claim_cost</th>\n",
       "      <td>961238</td>\n",
       "    </tr>\n",
       "    <tr>\n",
       "      <th>generic_claim_count</th>\n",
       "      <td>17491</td>\n",
       "    </tr>\n",
       "    <tr>\n",
       "      <th>generic_claim_cost</th>\n",
       "      <td>475343</td>\n",
       "    </tr>\n",
       "    <tr>\n",
       "      <th>other_claim_count</th>\n",
       "      <td>305</td>\n",
       "    </tr>\n",
       "    <tr>\n",
       "      <th>other_claim_cost</th>\n",
       "      <td>8103.63</td>\n",
       "    </tr>\n",
       "    <tr>\n",
       "      <th>mapd_claim_count</th>\n",
       "      <td>3108</td>\n",
       "    </tr>\n",
       "    <tr>\n",
       "      <th>mapd_claim_cost</th>\n",
       "      <td>155411</td>\n",
       "    </tr>\n",
       "    <tr>\n",
       "      <th>pdp_claim_count</th>\n",
       "      <td>18719</td>\n",
       "    </tr>\n",
       "    <tr>\n",
       "      <th>pdp_claim_cost</th>\n",
       "      <td>1.28927e+06</td>\n",
       "    </tr>\n",
       "    <tr>\n",
       "      <th>lis_claim_count</th>\n",
       "      <td>16135</td>\n",
       "    </tr>\n",
       "    <tr>\n",
       "      <th>lis_claim_cost</th>\n",
       "      <td>1.13461e+06</td>\n",
       "    </tr>\n",
       "    <tr>\n",
       "      <th>nonlis_claim_count</th>\n",
       "      <td>5692</td>\n",
       "    </tr>\n",
       "    <tr>\n",
       "      <th>nonlis_claim_cost</th>\n",
       "      <td>310078</td>\n",
       "    </tr>\n",
       "    <tr>\n",
       "      <th>brand_claim_cost_avg</th>\n",
       "      <td>192.936</td>\n",
       "    </tr>\n",
       "    <tr>\n",
       "      <th>generic_claim_cost_avg</th>\n",
       "      <td>23.0825</td>\n",
       "    </tr>\n",
       "    <tr>\n",
       "      <th>other_claim_cost_avg</th>\n",
       "      <td>29.1434</td>\n",
       "    </tr>\n",
       "    <tr>\n",
       "      <th>mapd_claim_cost_avg</th>\n",
       "      <td>54.7367</td>\n",
       "    </tr>\n",
       "    <tr>\n",
       "      <th>pdp_claim_cost_avg</th>\n",
       "      <td>67.1274</td>\n",
       "    </tr>\n",
       "    <tr>\n",
       "      <th>lis_claim_cost_avg</th>\n",
       "      <td>67.1697</td>\n",
       "    </tr>\n",
       "    <tr>\n",
       "      <th>nonlis_claim_cost_avg</th>\n",
       "      <td>59.3958</td>\n",
       "    </tr>\n",
       "  </tbody>\n",
       "</table>\n",
       "</div>"
      ],
      "text/plain": [
       "                                     9342\n",
       "Unnamed: 0                          14959\n",
       "npi                            1477571818\n",
       "last_name                            ALAM\n",
       "first_name                         WASEEM\n",
       "entity_code                             I\n",
       "provider_zip                    483025051\n",
       "provider_city            BLOOMFIELD HILLS\n",
       "specialty_desc          Internal Medicine\n",
       "bene_count                            575\n",
       "total_claim_count                   21827\n",
       "total_drug_cost               1.44468e+06\n",
       "total_day_supply                   710453\n",
       "brand_claim_count                    4031\n",
       "brand_claim_cost                   961238\n",
       "generic_claim_count                 17491\n",
       "generic_claim_cost                 475343\n",
       "other_claim_count                     305\n",
       "other_claim_cost                  8103.63\n",
       "mapd_claim_count                     3108\n",
       "mapd_claim_cost                    155411\n",
       "pdp_claim_count                     18719\n",
       "pdp_claim_cost                1.28927e+06\n",
       "lis_claim_count                     16135\n",
       "lis_claim_cost                1.13461e+06\n",
       "nonlis_claim_count                   5692\n",
       "nonlis_claim_cost                  310078\n",
       "brand_claim_cost_avg              192.936\n",
       "generic_claim_cost_avg            23.0825\n",
       "other_claim_cost_avg              29.1434\n",
       "mapd_claim_cost_avg               54.7367\n",
       "pdp_claim_cost_avg                67.1274\n",
       "lis_claim_cost_avg                67.1697\n",
       "nonlis_claim_cost_avg             59.3958"
      ]
     },
     "execution_count": 37,
     "metadata": {},
     "output_type": "execute_result"
    }
   ],
   "source": [
    "df[df['npi']==1477571818].T"
   ]
  },
  {
   "cell_type": "code",
   "execution_count": 4,
   "metadata": {
    "collapsed": true
   },
   "outputs": [],
   "source": [
    "X_train, X_test = mf.make_train_test_dataset(df)"
   ]
  },
  {
   "cell_type": "code",
   "execution_count": 5,
   "metadata": {
    "collapsed": true
   },
   "outputs": [],
   "source": [
    "keep_cols = ['bene_count'\n",
    "             , 'total_claim_count'\n",
    "             , 'total_drug_cost'\n",
    "             , 'total_day_supply'\n",
    "             , 'brand_claim_count'\n",
    "             , 'brand_claim_cost'\n",
    "             , 'generic_claim_count'\n",
    "             , 'generic_claim_cost'\n",
    "             , 'other_claim_count'\n",
    "             , 'other_claim_cost'\n",
    "             , 'mapd_claim_count'\n",
    "             , 'mapd_claim_cost'\n",
    "             , 'pdp_claim_count'\n",
    "             , 'pdp_claim_cost'\n",
    "             , 'lis_claim_count'\n",
    "             , 'lis_claim_cost'\n",
    "             , 'nonlis_claim_count'\n",
    "             , 'nonlis_claim_cost'\n",
    "            ]"
   ]
  },
  {
   "cell_type": "code",
   "execution_count": 6,
   "metadata": {
    "collapsed": false
   },
   "outputs": [
    {
     "name": "stderr",
     "output_type": "stream",
     "text": [
      "[Parallel(n_jobs=8)]: Done   8 out of   8 | elapsed:   40.2s finished\n"
     ]
    }
   ],
   "source": [
    "mod_if = mf.fit_model(X_train, keep_cols)"
   ]
  },
  {
   "cell_type": "code",
   "execution_count": 7,
   "metadata": {
    "collapsed": true
   },
   "outputs": [],
   "source": [
    "conn = pg2.connect(dbname='medicare', user='postgres')\n",
    "query = '''\n",
    "        SELECT n.npi\n",
    "            , indict.first_name\n",
    "            , indict.last_name\n",
    "            , indict.npi_status\n",
    "            , indict.year_start\n",
    "            , indict.year_end\n",
    "        FROM indictments_2013 indict\n",
    "            , npi_name n\n",
    "        WHERE lower(indict.first_name) = lower(n.providerfirstname)\n",
    "        AND lower(indict.last_name) = lower(n.providerlastnamelegalname)\n",
    "        ;\n",
    "        '''"
   ]
  },
  {
   "cell_type": "code",
   "execution_count": 8,
   "metadata": {
    "collapsed": true
   },
   "outputs": [],
   "source": [
    "# Tried running npi match with state as well (first name, last name, state), \n",
    "# but it really restricts the data set. Look into this.\n",
    "# Lot more npi's, but maybe they're not really indicted?\n",
    "# Might throw off validation"
   ]
  },
  {
   "cell_type": "code",
   "execution_count": 9,
   "metadata": {
    "collapsed": true
   },
   "outputs": [],
   "source": [
    "df_labels = pd.read_sql_query(query, conn)"
   ]
  },
  {
   "cell_type": "code",
   "execution_count": 10,
   "metadata": {
    "collapsed": false,
    "scrolled": true
   },
   "outputs": [
    {
     "name": "stderr",
     "output_type": "stream",
     "text": [
      "model_function.py:72: SettingWithCopyWarning: \n",
      "A value is trying to be set on a copy of a slice from a DataFrame.\n",
      "Try using .loc[row_indexer,col_indexer] = value instead\n",
      "\n",
      "See the caveats in the documentation: http://pandas.pydata.org/pandas-docs/stable/indexing.html#indexing-view-versus-copy\n",
      "  test_df['prediction'] = model.predict(test_df[model_columns])\n"
     ]
    }
   ],
   "source": [
    "test_df = mf.prediction(X_test, keep_cols, mod_if)"
   ]
  },
  {
   "cell_type": "code",
   "execution_count": 11,
   "metadata": {
    "collapsed": false
   },
   "outputs": [
    {
     "name": "stderr",
     "output_type": "stream",
     "text": [
      "model_function.py:95: SettingWithCopyWarning: \n",
      "A value is trying to be set on a copy of a slice from a DataFrame.\n",
      "Try using .loc[row_indexer,col_indexer] = value instead\n",
      "\n",
      "See the caveats in the documentation: http://pandas.pydata.org/pandas-docs/stable/indexing.html#indexing-view-versus-copy\n",
      "  else 0 for row in test_df['npi']]\n"
     ]
    }
   ],
   "source": [
    "test_df = mf.check_labels(df_labels, test_df, keep_cols)"
   ]
  },
  {
   "cell_type": "code",
   "execution_count": 35,
   "metadata": {
    "collapsed": false
   },
   "outputs": [
    {
     "data": {
      "text/html": [
       "<div>\n",
       "<table border=\"1\" class=\"dataframe\">\n",
       "  <thead>\n",
       "    <tr style=\"text-align: right;\">\n",
       "      <th></th>\n",
       "      <th>Unnamed: 0</th>\n",
       "      <th>npi</th>\n",
       "      <th>last_name</th>\n",
       "      <th>first_name</th>\n",
       "      <th>entity_code</th>\n",
       "      <th>provider_zip</th>\n",
       "      <th>provider_city</th>\n",
       "      <th>specialty_desc</th>\n",
       "      <th>bene_count</th>\n",
       "      <th>total_claim_count</th>\n",
       "      <th>...</th>\n",
       "      <th>nonlis_claim_cost</th>\n",
       "      <th>brand_claim_cost_avg</th>\n",
       "      <th>generic_claim_cost_avg</th>\n",
       "      <th>other_claim_cost_avg</th>\n",
       "      <th>mapd_claim_cost_avg</th>\n",
       "      <th>pdp_claim_cost_avg</th>\n",
       "      <th>lis_claim_cost_avg</th>\n",
       "      <th>nonlis_claim_cost_avg</th>\n",
       "      <th>prediction</th>\n",
       "      <th>indicted</th>\n",
       "    </tr>\n",
       "  </thead>\n",
       "  <tbody>\n",
       "  </tbody>\n",
       "</table>\n",
       "<p>0 rows × 35 columns</p>\n",
       "</div>"
      ],
      "text/plain": [
       "Empty DataFrame\n",
       "Columns: [Unnamed: 0, npi, last_name, first_name, entity_code, provider_zip, provider_city, specialty_desc, bene_count, total_claim_count, total_drug_cost, total_day_supply, brand_claim_count, brand_claim_cost, generic_claim_count, generic_claim_cost, other_claim_count, other_claim_cost, mapd_claim_count, mapd_claim_cost, pdp_claim_count, pdp_claim_cost, lis_claim_count, lis_claim_cost, nonlis_claim_count, nonlis_claim_cost, brand_claim_cost_avg, generic_claim_cost_avg, other_claim_cost_avg, mapd_claim_cost_avg, pdp_claim_cost_avg, lis_claim_cost_avg, nonlis_claim_cost_avg, prediction, indicted]\n",
       "Index: []\n",
       "\n",
       "[0 rows x 35 columns]"
      ]
     },
     "execution_count": 35,
     "metadata": {},
     "output_type": "execute_result"
    }
   ],
   "source": [
    "test_df[test_df['npi']==1477571818]"
   ]
  },
  {
   "cell_type": "markdown",
   "metadata": {},
   "source": [
    "### PCA/Graph to visualize data"
   ]
  },
  {
   "cell_type": "code",
   "execution_count": 32,
   "metadata": {
    "collapsed": false
   },
   "outputs": [],
   "source": [
    "from sklearn.decomposition import PCA\n",
    "import matplotlib.pyplot as plt\n",
    "from mpl_toolkits.mplot3d import Axes3D\n",
    "%matplotlib inline\n",
    "from sklearn.preprocessing import StandardScaler\n",
    "import plotly.tools as tls\n"
   ]
  },
  {
   "cell_type": "markdown",
   "metadata": {},
   "source": [
    "#### Apparently you need to scale before PCA"
   ]
  },
  {
   "cell_type": "code",
   "execution_count": 13,
   "metadata": {
    "collapsed": false
   },
   "outputs": [],
   "source": [
    "scale = StandardScaler()"
   ]
  },
  {
   "cell_type": "code",
   "execution_count": 14,
   "metadata": {
    "collapsed": false
   },
   "outputs": [],
   "source": [
    "X_pca = scale.fit_transform(test_df[keep_cols])"
   ]
  },
  {
   "cell_type": "code",
   "execution_count": 15,
   "metadata": {
    "collapsed": true
   },
   "outputs": [],
   "source": [
    "pca = PCA(n_components=3)"
   ]
  },
  {
   "cell_type": "code",
   "execution_count": 16,
   "metadata": {
    "collapsed": false
   },
   "outputs": [
    {
     "data": {
      "text/plain": [
       "PCA(copy=True, iterated_power=4, n_components=3, random_state=None,\n",
       "  svd_solver='auto', tol=0.0, whiten=False)"
      ]
     },
     "execution_count": 16,
     "metadata": {},
     "output_type": "execute_result"
    }
   ],
   "source": [
    "pca.fit(X_pca)"
   ]
  },
  {
   "cell_type": "code",
   "execution_count": 17,
   "metadata": {
    "collapsed": false
   },
   "outputs": [
    {
     "data": {
      "text/plain": [
       "array([ 12.48908531,   1.48686269,   1.17631927])"
      ]
     },
     "execution_count": 17,
     "metadata": {},
     "output_type": "execute_result"
    }
   ],
   "source": [
    "pca.explained_variance_"
   ]
  },
  {
   "cell_type": "code",
   "execution_count": 18,
   "metadata": {
    "collapsed": false
   },
   "outputs": [
    {
     "data": {
      "text/plain": [
       "0.84179262591763404"
      ]
     },
     "execution_count": 18,
     "metadata": {},
     "output_type": "execute_result"
    }
   ],
   "source": [
    "sum(pca.explained_variance_ratio_)"
   ]
  },
  {
   "cell_type": "code",
   "execution_count": 19,
   "metadata": {
    "collapsed": false
   },
   "outputs": [],
   "source": [
    "X_pca_transformed = pca.fit_transform(X_pca)"
   ]
  },
  {
   "cell_type": "code",
   "execution_count": 20,
   "metadata": {
    "collapsed": false
   },
   "outputs": [
    {
     "data": {
      "text/plain": [
       "(524691, 3)"
      ]
     },
     "execution_count": 20,
     "metadata": {},
     "output_type": "execute_result"
    }
   ],
   "source": [
    "X_pca_transformed.shape"
   ]
  },
  {
   "cell_type": "code",
   "execution_count": 21,
   "metadata": {
    "collapsed": true
   },
   "outputs": [],
   "source": [
    "xs = X_pca_transformed[:,0]\n",
    "ys = X_pca_transformed[:,1]\n",
    "zs = X_pca_transformed[:,2]\n",
    "c = test_df['indicted']"
   ]
  },
  {
   "cell_type": "code",
   "execution_count": null,
   "metadata": {
    "collapsed": true
   },
   "outputs": [],
   "source": []
  },
  {
   "cell_type": "code",
   "execution_count": null,
   "metadata": {
    "collapsed": false
   },
   "outputs": [
    {
     "ename": "AttributeError",
     "evalue": "'Axes3DSubplot' object has no attribute 'savefig'",
     "output_type": "error",
     "traceback": [
      "\u001b[1;31m---------------------------------------------------------------------------\u001b[0m",
      "\u001b[1;31mAttributeError\u001b[0m                            Traceback (most recent call last)",
      "\u001b[1;32m<ipython-input-34-d9946d669d08>\u001b[0m in \u001b[0;36m<module>\u001b[1;34m()\u001b[0m\n\u001b[0;32m     11\u001b[0m \u001b[0max\u001b[0m\u001b[1;33m.\u001b[0m\u001b[0mview_init\u001b[0m\u001b[1;33m(\u001b[0m\u001b[0mazim\u001b[0m\u001b[1;33m=\u001b[0m\u001b[1;36m60\u001b[0m\u001b[1;33m)\u001b[0m\u001b[1;33m\u001b[0m\u001b[0m\n\u001b[0;32m     12\u001b[0m \u001b[1;33m\u001b[0m\u001b[0m\n\u001b[1;32m---> 13\u001b[1;33m \u001b[0mplotly_fig\u001b[0m \u001b[1;33m=\u001b[0m \u001b[0mtls\u001b[0m\u001b[1;33m.\u001b[0m\u001b[0mmpl_to_plotly\u001b[0m\u001b[1;33m(\u001b[0m\u001b[0max\u001b[0m\u001b[1;33m)\u001b[0m\u001b[1;33m\u001b[0m\u001b[0m\n\u001b[0m\u001b[0;32m     14\u001b[0m \u001b[1;33m\u001b[0m\u001b[0m\n\u001b[0;32m     15\u001b[0m \u001b[0mpy\u001b[0m\u001b[1;33m.\u001b[0m\u001b[0mplot\u001b[0m\u001b[1;33m(\u001b[0m\u001b[0mplotly_fig\u001b[0m\u001b[1;33m)\u001b[0m\u001b[1;33m\u001b[0m\u001b[0m\n",
      "\u001b[1;32m/home/ubuntu/anaconda2/lib/python2.7/site-packages/plotly/tools.pyc\u001b[0m in \u001b[0;36mmpl_to_plotly\u001b[1;34m(fig, resize, strip_style, verbose)\u001b[0m\n\u001b[0;32m    476\u001b[0m     \u001b[1;32mif\u001b[0m \u001b[0m_matplotlylib_imported\u001b[0m\u001b[1;33m:\u001b[0m\u001b[1;33m\u001b[0m\u001b[0m\n\u001b[0;32m    477\u001b[0m         \u001b[0mrenderer\u001b[0m \u001b[1;33m=\u001b[0m \u001b[0mmatplotlylib\u001b[0m\u001b[1;33m.\u001b[0m\u001b[0mPlotlyRenderer\u001b[0m\u001b[1;33m(\u001b[0m\u001b[1;33m)\u001b[0m\u001b[1;33m\u001b[0m\u001b[0m\n\u001b[1;32m--> 478\u001b[1;33m         \u001b[0mmatplotlylib\u001b[0m\u001b[1;33m.\u001b[0m\u001b[0mExporter\u001b[0m\u001b[1;33m(\u001b[0m\u001b[0mrenderer\u001b[0m\u001b[1;33m)\u001b[0m\u001b[1;33m.\u001b[0m\u001b[0mrun\u001b[0m\u001b[1;33m(\u001b[0m\u001b[0mfig\u001b[0m\u001b[1;33m)\u001b[0m\u001b[1;33m\u001b[0m\u001b[0m\n\u001b[0m\u001b[0;32m    479\u001b[0m         \u001b[1;32mif\u001b[0m \u001b[0mresize\u001b[0m\u001b[1;33m:\u001b[0m\u001b[1;33m\u001b[0m\u001b[0m\n\u001b[0;32m    480\u001b[0m             \u001b[0mrenderer\u001b[0m\u001b[1;33m.\u001b[0m\u001b[0mresize\u001b[0m\u001b[1;33m(\u001b[0m\u001b[1;33m)\u001b[0m\u001b[1;33m\u001b[0m\u001b[0m\n",
      "\u001b[1;32m/home/ubuntu/anaconda2/lib/python2.7/site-packages/plotly/matplotlylib/mplexporter/exporter.pyc\u001b[0m in \u001b[0;36mrun\u001b[1;34m(self, fig)\u001b[0m\n\u001b[0;32m     43\u001b[0m         \u001b[1;31m# Calling savefig executes the draw() command, putting elements\u001b[0m\u001b[1;33m\u001b[0m\u001b[1;33m\u001b[0m\u001b[0m\n\u001b[0;32m     44\u001b[0m         \u001b[1;31m# in the correct place.\u001b[0m\u001b[1;33m\u001b[0m\u001b[1;33m\u001b[0m\u001b[0m\n\u001b[1;32m---> 45\u001b[1;33m         \u001b[0mfig\u001b[0m\u001b[1;33m.\u001b[0m\u001b[0msavefig\u001b[0m\u001b[1;33m(\u001b[0m\u001b[0mio\u001b[0m\u001b[1;33m.\u001b[0m\u001b[0mBytesIO\u001b[0m\u001b[1;33m(\u001b[0m\u001b[1;33m)\u001b[0m\u001b[1;33m,\u001b[0m \u001b[0mformat\u001b[0m\u001b[1;33m=\u001b[0m\u001b[1;34m'png'\u001b[0m\u001b[1;33m,\u001b[0m \u001b[0mdpi\u001b[0m\u001b[1;33m=\u001b[0m\u001b[0mfig\u001b[0m\u001b[1;33m.\u001b[0m\u001b[0mdpi\u001b[0m\u001b[1;33m)\u001b[0m\u001b[1;33m\u001b[0m\u001b[0m\n\u001b[0m\u001b[0;32m     46\u001b[0m         \u001b[1;32mif\u001b[0m \u001b[0mself\u001b[0m\u001b[1;33m.\u001b[0m\u001b[0mclose_mpl\u001b[0m\u001b[1;33m:\u001b[0m\u001b[1;33m\u001b[0m\u001b[0m\n\u001b[0;32m     47\u001b[0m             \u001b[1;32mimport\u001b[0m \u001b[0mmatplotlib\u001b[0m\u001b[1;33m.\u001b[0m\u001b[0mpyplot\u001b[0m \u001b[1;32mas\u001b[0m \u001b[0mplt\u001b[0m\u001b[1;33m\u001b[0m\u001b[0m\n",
      "\u001b[1;31mAttributeError\u001b[0m: 'Axes3DSubplot' object has no attribute 'savefig'"
     ]
    }
   ],
   "source": [
    "fig = plt.figure(figsize=(15,15))\n",
    "ax = fig.add_subplot(111, projection='3d')\n",
    "#plt.figure(figsize=(15,15))\n",
    "#ax.set_xlim(-5000000,20000000)\n",
    "#ax.set_ylim(-1000000,8000000)\n",
    "#ax.set_zlim(-3000000,3000000)\n",
    "ax.set_xlabel('x')\n",
    "ax.set_ylabel('y')\n",
    "ax.set_zlabel('z')\n",
    "ax.scatter(xs, ys, zs, c=c, alpha=.3)\n",
    "ax.view_init(azim=60)\n",
    "\n",
    "plotly_fig = tls.mpl_to_plotly(ax)\n",
    "\n",
    "py.plot(plotly_fig)"
   ]
  },
  {
   "cell_type": "code",
   "execution_count": 25,
   "metadata": {
    "collapsed": false
   },
   "outputs": [
    {
     "name": "stdout",
     "output_type": "stream",
     "text": [
      "-60\n"
     ]
    }
   ],
   "source": [
    "print ax.azim"
   ]
  },
  {
   "cell_type": "code",
   "execution_count": 26,
   "metadata": {
    "collapsed": true
   },
   "outputs": [],
   "source": [
    "ax.view_init(azim=60)"
   ]
  },
  {
   "cell_type": "code",
   "execution_count": 64,
   "metadata": {
    "collapsed": false
   },
   "outputs": [],
   "source": [
    "def graph_3d(pca_vector, df):\n",
    "    xs = pca_vector[:,0]\n",
    "    ys = pca_vector[:,1]\n",
    "    zs = pca_vector[:,2]\n",
    "    c = df['indicted']\n",
    "\n",
    "    fig = plt.figure()\n",
    "    ax = fig.add_subplot(111, projection='3d')\n",
    "    ax.set_xlabel('x')\n",
    "    ax.set_ylabel('y')\n",
    "    ax.set_zlabel('z')\n",
    "    ax.scatter(xs, ys, zs, c=c, alpha=.3)\n",
    "\n",
    "    return ax"
   ]
  },
  {
   "cell_type": "code",
   "execution_count": 77,
   "metadata": {
    "collapsed": false
   },
   "outputs": [
    {
     "data": {
      "image/png": "[encoded data removed]",
      "text/plain": [
       "<matplotlib.figure.Figure at 0x7f444a208d90>"
      ]
     },
     "metadata": {},
     "output_type": "display_data"
    }
   ],
   "source": [
    "ax1 = graph_3d(X_pca_transformed, test_df)\n",
    "ax.set_xlim(-5000000,20000000)\n",
    "ax.set_ylim(-1000000,8000000)\n",
    "ax.set_zlim(-3000000,3000000)\n",
    "plt.show()"
   ]
  },
  {
   "cell_type": "code",
   "execution_count": 68,
   "metadata": {
    "collapsed": true
   },
   "outputs": [],
   "source": [
    "mask = test_df['indicted']==True"
   ]
  },
  {
   "cell_type": "code",
   "execution_count": 73,
   "metadata": {
    "collapsed": false
   },
   "outputs": [
    {
     "name": "stderr",
     "output_type": "stream",
     "text": [
      "/home/ubuntu/anaconda2/lib/python2.7/site-packages/ipykernel/__main__.py:1: FutureWarning: in the future, boolean array-likes will be handled as a boolean array index\n",
      "  if __name__ == '__main__':\n"
     ]
    }
   ],
   "source": [
    "X_pca_masked = X_pca_transformed[mask]\n",
    "test_df_masked = test_df[mask]"
   ]
  },
  {
   "cell_type": "code",
   "execution_count": 76,
   "metadata": {
    "collapsed": false
   },
   "outputs": [
    {
     "data": {
      "image/png": "[encoded data removed]",
      "text/plain": [
       "<matplotlib.figure.Figure at 0x7f444af08290>"
      ]
     },
     "metadata": {},
     "output_type": "display_data"
    }
   ],
   "source": [
    "xs = X_pca_masked[:,0]\n",
    "ys = X_pca_masked[:,1]\n",
    "zs = X_pca_masked[:,2]\n",
    "fig = plt.figure()\n",
    "ax = fig.add_subplot(111, projection='3d')\n",
    "#ax.set_xlim(-5000000,20000000)\n",
    "#ax.set_ylim(-1000000,8000000)\n",
    "#ax.set_zlim(-3000000,3000000)\n",
    "ax.set_xlabel('x')\n",
    "ax.set_ylabel('y')\n",
    "ax.set_zlabel('z')\n",
    "ax.scatter(xs, ys, zs, c=c, alpha=.3)\n",
    "plt.show()"
   ]
  },
  {
   "cell_type": "code",
   "execution_count": 30,
   "metadata": {
    "collapsed": false
   },
   "outputs": [
    {
     "name": "stderr",
     "output_type": "stream",
     "text": [
      "/home/ubuntu/anaconda2/lib/python2.7/site-packages/plotly/plotly/plotly.py:236: UserWarning:\n",
      "\n",
      "Woah there! Look at all those points! Due to browser limitations, the Plotly SVG drawing functions have a hard time graphing more than 500k data points for line charts, or 40k points for other types of charts. Here are some suggestions:\n",
      "(1) Use the `plotly.graph_objs.Scattergl` trace object to generate a WebGl graph.\n",
      "(2) Trying using the image API to return an image instead of a graph URL\n",
      "(3) Use matplotlib\n",
      "(4) See if you can create your visualization with fewer data points\n",
      "\n",
      "If the visualization you're using aggregates points (e.g., box plot, histogram, etc.) you can disregard this warning.\n",
      "\n"
     ]
    },
    {
     "ename": "PlotlyLocalCredentialsError",
     "evalue": "\nCouldn't find a 'username', 'api-key' pair for you on your local machine. To sign in temporarily (until you stop running Python), run:\n>>> import plotly.plotly as py\n>>> py.sign_in('username', 'api_key')\n\nEven better, save your credentials permanently using the 'tools' module:\n>>> import plotly.tools as tls\n>>> tls.set_credentials_file(username='username', api_key='api-key')\n\nFor more help, see https://plot.ly/python.\n",
     "output_type": "error",
     "traceback": [
      "\u001b[1;31m---------------------------------------------------------------------------\u001b[0m",
      "\u001b[1;31mPlotlyLocalCredentialsError\u001b[0m               Traceback (most recent call last)",
      "\u001b[1;32m<ipython-input-30-506c067c3e8d>\u001b[0m in \u001b[0;36m<module>\u001b[1;34m()\u001b[0m\n\u001b[0;32m      8\u001b[0m     )\n\u001b[0;32m      9\u001b[0m \u001b[0mdata\u001b[0m \u001b[1;33m=\u001b[0m \u001b[0mData\u001b[0m\u001b[1;33m(\u001b[0m\u001b[1;33m[\u001b[0m\u001b[0mtrace1\u001b[0m\u001b[1;33m]\u001b[0m\u001b[1;33m)\u001b[0m\u001b[1;33m\u001b[0m\u001b[0m\n\u001b[1;32m---> 10\u001b[1;33m \u001b[0mpy\u001b[0m\u001b[1;33m.\u001b[0m\u001b[0mplot\u001b[0m\u001b[1;33m(\u001b[0m\u001b[0mdata\u001b[0m\u001b[1;33m)\u001b[0m\u001b[1;33m\u001b[0m\u001b[0m\n\u001b[0m",
      "\u001b[1;32m/home/ubuntu/anaconda2/lib/python2.7/site-packages/plotly/plotly/plotly.pyc\u001b[0m in \u001b[0;36mplot\u001b[1;34m(figure_or_data, validate, **plot_options)\u001b[0m\n\u001b[0;32m    239\u001b[0m \u001b[1;33m\u001b[0m\u001b[0m\n\u001b[0;32m    240\u001b[0m     \u001b[0mplot_options\u001b[0m \u001b[1;33m=\u001b[0m \u001b[0m_plot_option_logic\u001b[0m\u001b[1;33m(\u001b[0m\u001b[0mplot_options\u001b[0m\u001b[1;33m)\u001b[0m\u001b[1;33m\u001b[0m\u001b[0m\n\u001b[1;32m--> 241\u001b[1;33m     \u001b[0mres\u001b[0m \u001b[1;33m=\u001b[0m \u001b[0m_send_to_plotly\u001b[0m\u001b[1;33m(\u001b[0m\u001b[0mfigure\u001b[0m\u001b[1;33m,\u001b[0m \u001b[1;33m**\u001b[0m\u001b[0mplot_options\u001b[0m\u001b[1;33m)\u001b[0m\u001b[1;33m\u001b[0m\u001b[0m\n\u001b[0m\u001b[0;32m    242\u001b[0m     \u001b[1;32mif\u001b[0m \u001b[0mres\u001b[0m\u001b[1;33m[\u001b[0m\u001b[1;34m'error'\u001b[0m\u001b[1;33m]\u001b[0m \u001b[1;33m==\u001b[0m \u001b[1;34m''\u001b[0m\u001b[1;33m:\u001b[0m\u001b[1;33m\u001b[0m\u001b[0m\n\u001b[0;32m    243\u001b[0m         \u001b[1;32mif\u001b[0m \u001b[0mplot_options\u001b[0m\u001b[1;33m[\u001b[0m\u001b[1;34m'auto_open'\u001b[0m\u001b[1;33m]\u001b[0m\u001b[1;33m:\u001b[0m\u001b[1;33m\u001b[0m\u001b[0m\n",
      "\u001b[1;32m/home/ubuntu/anaconda2/lib/python2.7/site-packages/plotly/plotly/plotly.pyc\u001b[0m in \u001b[0;36m_send_to_plotly\u001b[1;34m(figure, **plot_options)\u001b[0m\n\u001b[0;32m   1374\u001b[0m                       cls=utils.PlotlyJSONEncoder)\n\u001b[0;32m   1375\u001b[0m     \u001b[0mcredentials\u001b[0m \u001b[1;33m=\u001b[0m \u001b[0mget_credentials\u001b[0m\u001b[1;33m(\u001b[0m\u001b[1;33m)\u001b[0m\u001b[1;33m\u001b[0m\u001b[0m\n\u001b[1;32m-> 1376\u001b[1;33m     \u001b[0mvalidate_credentials\u001b[0m\u001b[1;33m(\u001b[0m\u001b[0mcredentials\u001b[0m\u001b[1;33m)\u001b[0m\u001b[1;33m\u001b[0m\u001b[0m\n\u001b[0m\u001b[0;32m   1377\u001b[0m     \u001b[0musername\u001b[0m \u001b[1;33m=\u001b[0m \u001b[0mcredentials\u001b[0m\u001b[1;33m[\u001b[0m\u001b[1;34m'username'\u001b[0m\u001b[1;33m]\u001b[0m\u001b[1;33m\u001b[0m\u001b[0m\n\u001b[0;32m   1378\u001b[0m     \u001b[0mapi_key\u001b[0m \u001b[1;33m=\u001b[0m \u001b[0mcredentials\u001b[0m\u001b[1;33m[\u001b[0m\u001b[1;34m'api_key'\u001b[0m\u001b[1;33m]\u001b[0m\u001b[1;33m\u001b[0m\u001b[0m\n",
      "\u001b[1;32m/home/ubuntu/anaconda2/lib/python2.7/site-packages/plotly/plotly/plotly.pyc\u001b[0m in \u001b[0;36mvalidate_credentials\u001b[1;34m(credentials)\u001b[0m\n\u001b[0;32m   1323\u001b[0m     \u001b[0mapi_key\u001b[0m \u001b[1;33m=\u001b[0m \u001b[0mcredentials\u001b[0m\u001b[1;33m.\u001b[0m\u001b[0mget\u001b[0m\u001b[1;33m(\u001b[0m\u001b[1;34m'api_key'\u001b[0m\u001b[1;33m)\u001b[0m\u001b[1;33m\u001b[0m\u001b[0m\n\u001b[0;32m   1324\u001b[0m     \u001b[1;32mif\u001b[0m \u001b[1;32mnot\u001b[0m \u001b[0musername\u001b[0m \u001b[1;32mor\u001b[0m \u001b[1;32mnot\u001b[0m \u001b[0mapi_key\u001b[0m\u001b[1;33m:\u001b[0m\u001b[1;33m\u001b[0m\u001b[0m\n\u001b[1;32m-> 1325\u001b[1;33m         \u001b[1;32mraise\u001b[0m \u001b[0mexceptions\u001b[0m\u001b[1;33m.\u001b[0m\u001b[0mPlotlyLocalCredentialsError\u001b[0m\u001b[1;33m(\u001b[0m\u001b[1;33m)\u001b[0m\u001b[1;33m\u001b[0m\u001b[0m\n\u001b[0m\u001b[0;32m   1326\u001b[0m \u001b[1;33m\u001b[0m\u001b[0m\n\u001b[0;32m   1327\u001b[0m \u001b[1;33m\u001b[0m\u001b[0m\n",
      "\u001b[1;31mPlotlyLocalCredentialsError\u001b[0m: \nCouldn't find a 'username', 'api-key' pair for you on your local machine. To sign in temporarily (until you stop running Python), run:\n>>> import plotly.plotly as py\n>>> py.sign_in('username', 'api_key')\n\nEven better, save your credentials permanently using the 'tools' module:\n>>> import plotly.tools as tls\n>>> tls.set_credentials_file(username='username', api_key='api-key')\n\nFor more help, see https://plot.ly/python.\n"
     ]
    }
   ],
   "source": [
    "import plotly.plotly as py\n",
    "from plotly.graph_objs import *\n",
    "# auto sign-in with credentials or use py.sign_in()\n",
    "trace1 = Scatter3d(\n",
    "        x=xs,\n",
    "        y=ys,\n",
    "        z=zs\n",
    "    )\n",
    "data = Data([trace1])\n",
    "py.plot(data)\n"
   ]
  },
  {
   "cell_type": "code",
   "execution_count": null,
   "metadata": {
    "collapsed": true
   },
   "outputs": [],
   "source": []
  }
 ],
 "metadata": {
  "kernelspec": {
   "display_name": "Python 2",
   "language": "python",
   "name": "python2"
  },
  "language_info": {
   "codemirror_mode": {
    "name": "ipython",
    "version": 2
   },
   "file_extension": ".py",
   "mimetype": "text/x-python",
   "name": "python",
   "nbconvert_exporter": "python",
   "pygments_lexer": "ipython2",
   "version": "2.7.11"
  }
 },
 "nbformat": 4,
 "nbformat_minor": 0
}
