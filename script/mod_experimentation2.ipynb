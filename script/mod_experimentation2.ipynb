{
 "cells": [
  {
   "cell_type": "code",
   "execution_count": 1,
   "metadata": {
    "collapsed": false
   },
   "outputs": [
    {
     "name": "stderr",
     "output_type": "stream",
     "text": [
      "/home/ubuntu/anaconda2/lib/python2.7/site-packages/sklearn/cross_validation.py:43: DeprecationWarning: This module has been deprecated in favor of the model_selection module into which all the refactored classes and functions are moved. Also note that the interface of the new CV iterators are different from that of this module. This module will be removed in 0.20.\n",
      "  \"This module will be removed in 0.20.\", DeprecationWarning)\n"
     ]
    }
   ],
   "source": [
    "import model_function as mf"
   ]
  },
  {
   "cell_type": "code",
   "execution_count": 2,
   "metadata": {
    "collapsed": true
   },
   "outputs": [],
   "source": [
    "import pandas as pd"
   ]
  },
  {
   "cell_type": "code",
   "execution_count": 3,
   "metadata": {
    "collapsed": false
   },
   "outputs": [
    {
     "name": "stderr",
     "output_type": "stream",
     "text": [
      "/home/ubuntu/anaconda2/lib/python2.7/site-packages/IPython/core/interactiveshell.py:2902: DtypeWarning: Columns (5) have mixed types. Specify dtype option on import or set low_memory=False.\n",
      "  interactivity=interactivity, compiler=compiler, result=result)\n"
     ]
    }
   ],
   "source": [
    "df = pd.read_csv('/data/npi_2013_clean1.csv')"
   ]
  },
  {
   "cell_type": "code",
   "execution_count": 4,
   "metadata": {
    "collapsed": false
   },
   "outputs": [
    {
     "data": {
      "text/html": [
       "<div>\n",
       "<table border=\"1\" class=\"dataframe\">\n",
       "  <thead>\n",
       "    <tr style=\"text-align: right;\">\n",
       "      <th></th>\n",
       "      <th>Unnamed: 0</th>\n",
       "      <th>npi</th>\n",
       "      <th>last_name</th>\n",
       "      <th>first_name</th>\n",
       "      <th>entity_code</th>\n",
       "      <th>provider_zip</th>\n",
       "      <th>provider_city</th>\n",
       "      <th>specialty_desc</th>\n",
       "      <th>bene_count</th>\n",
       "      <th>total_claim_count</th>\n",
       "      <th>...</th>\n",
       "      <th>lis_claim_cost</th>\n",
       "      <th>nonlis_claim_count</th>\n",
       "      <th>nonlis_claim_cost</th>\n",
       "      <th>brand_claim_cost_avg</th>\n",
       "      <th>generic_claim_cost_avg</th>\n",
       "      <th>other_claim_cost_avg</th>\n",
       "      <th>mapd_claim_cost_avg</th>\n",
       "      <th>pdp_claim_cost_avg</th>\n",
       "      <th>lis_claim_cost_avg</th>\n",
       "      <th>nonlis_claim_cost_avg</th>\n",
       "    </tr>\n",
       "  </thead>\n",
       "  <tbody>\n",
       "    <tr>\n",
       "      <th>0</th>\n",
       "      <td>0</td>\n",
       "      <td>1447268107</td>\n",
       "      <td>10 PARK PHARMACY INC.</td>\n",
       "      <td>NaN</td>\n",
       "      <td>O</td>\n",
       "      <td>100164332</td>\n",
       "      <td>NEW YORK</td>\n",
       "      <td>Pharmacist</td>\n",
       "      <td>12</td>\n",
       "      <td>18</td>\n",
       "      <td>...</td>\n",
       "      <td>0.000000</td>\n",
       "      <td>18.0</td>\n",
       "      <td>885.230000</td>\n",
       "      <td>321.16685</td>\n",
       "      <td>28.298063</td>\n",
       "      <td>35.031374</td>\n",
       "      <td>127.952029</td>\n",
       "      <td>100.548657</td>\n",
       "      <td>154.74375</td>\n",
       "      <td>123.493166</td>\n",
       "    </tr>\n",
       "    <tr>\n",
       "      <th>1</th>\n",
       "      <td>355</td>\n",
       "      <td>1952668477</td>\n",
       "      <td>ABANTE</td>\n",
       "      <td>CAROLYN</td>\n",
       "      <td>I</td>\n",
       "      <td>875011456</td>\n",
       "      <td>SANTA FE</td>\n",
       "      <td>Pharmacist</td>\n",
       "      <td>24</td>\n",
       "      <td>24</td>\n",
       "      <td>...</td>\n",
       "      <td>851.090628</td>\n",
       "      <td>5.5</td>\n",
       "      <td>679.212411</td>\n",
       "      <td>321.16685</td>\n",
       "      <td>28.298063</td>\n",
       "      <td>35.031374</td>\n",
       "      <td>127.952029</td>\n",
       "      <td>100.548657</td>\n",
       "      <td>154.74375</td>\n",
       "      <td>123.493166</td>\n",
       "    </tr>\n",
       "    <tr>\n",
       "      <th>2</th>\n",
       "      <td>501</td>\n",
       "      <td>1114065679</td>\n",
       "      <td>ABBAS</td>\n",
       "      <td>AGHA</td>\n",
       "      <td>I</td>\n",
       "      <td>104515504</td>\n",
       "      <td>BRONX</td>\n",
       "      <td>Pharmacist</td>\n",
       "      <td>13</td>\n",
       "      <td>26</td>\n",
       "      <td>...</td>\n",
       "      <td>851.090628</td>\n",
       "      <td>5.5</td>\n",
       "      <td>679.212411</td>\n",
       "      <td>321.16685</td>\n",
       "      <td>28.298063</td>\n",
       "      <td>35.031374</td>\n",
       "      <td>127.952029</td>\n",
       "      <td>100.548657</td>\n",
       "      <td>154.74375</td>\n",
       "      <td>123.493166</td>\n",
       "    </tr>\n",
       "    <tr>\n",
       "      <th>3</th>\n",
       "      <td>643</td>\n",
       "      <td>1558621474</td>\n",
       "      <td>ABBASPOUR</td>\n",
       "      <td>ABBAS</td>\n",
       "      <td>I</td>\n",
       "      <td>972091029</td>\n",
       "      <td>PORTLAND</td>\n",
       "      <td>Pharmacist</td>\n",
       "      <td>12</td>\n",
       "      <td>12</td>\n",
       "      <td>...</td>\n",
       "      <td>851.090628</td>\n",
       "      <td>5.5</td>\n",
       "      <td>679.212411</td>\n",
       "      <td>321.16685</td>\n",
       "      <td>28.298063</td>\n",
       "      <td>35.031374</td>\n",
       "      <td>127.952029</td>\n",
       "      <td>100.548657</td>\n",
       "      <td>154.74375</td>\n",
       "      <td>123.493166</td>\n",
       "    </tr>\n",
       "    <tr>\n",
       "      <th>4</th>\n",
       "      <td>849</td>\n",
       "      <td>1427388651</td>\n",
       "      <td>ABBOTT</td>\n",
       "      <td>KRISTINA</td>\n",
       "      <td>I</td>\n",
       "      <td>850231359</td>\n",
       "      <td>PHOENIX</td>\n",
       "      <td>Pharmacist</td>\n",
       "      <td>25</td>\n",
       "      <td>26</td>\n",
       "      <td>...</td>\n",
       "      <td>851.090628</td>\n",
       "      <td>5.5</td>\n",
       "      <td>679.212411</td>\n",
       "      <td>321.16685</td>\n",
       "      <td>28.298063</td>\n",
       "      <td>35.031374</td>\n",
       "      <td>127.952029</td>\n",
       "      <td>100.548657</td>\n",
       "      <td>154.74375</td>\n",
       "      <td>123.493166</td>\n",
       "    </tr>\n",
       "  </tbody>\n",
       "</table>\n",
       "<p>5 rows × 33 columns</p>\n",
       "</div>"
      ],
      "text/plain": [
       "   Unnamed: 0         npi              last_name first_name entity_code  \\\n",
       "0           0  1447268107  10 PARK PHARMACY INC.        NaN           O   \n",
       "1         355  1952668477                 ABANTE    CAROLYN           I   \n",
       "2         501  1114065679                  ABBAS       AGHA           I   \n",
       "3         643  1558621474              ABBASPOUR      ABBAS           I   \n",
       "4         849  1427388651                 ABBOTT   KRISTINA           I   \n",
       "\n",
       "  provider_zip provider_city specialty_desc  bene_count  total_claim_count  \\\n",
       "0    100164332      NEW YORK     Pharmacist          12                 18   \n",
       "1    875011456      SANTA FE     Pharmacist          24                 24   \n",
       "2    104515504         BRONX     Pharmacist          13                 26   \n",
       "3    972091029      PORTLAND     Pharmacist          12                 12   \n",
       "4    850231359       PHOENIX     Pharmacist          25                 26   \n",
       "\n",
       "           ...            lis_claim_cost  nonlis_claim_count  \\\n",
       "0          ...                  0.000000                18.0   \n",
       "1          ...                851.090628                 5.5   \n",
       "2          ...                851.090628                 5.5   \n",
       "3          ...                851.090628                 5.5   \n",
       "4          ...                851.090628                 5.5   \n",
       "\n",
       "   nonlis_claim_cost  brand_claim_cost_avg  generic_claim_cost_avg  \\\n",
       "0         885.230000             321.16685               28.298063   \n",
       "1         679.212411             321.16685               28.298063   \n",
       "2         679.212411             321.16685               28.298063   \n",
       "3         679.212411             321.16685               28.298063   \n",
       "4         679.212411             321.16685               28.298063   \n",
       "\n",
       "   other_claim_cost_avg  mapd_claim_cost_avg  pdp_claim_cost_avg  \\\n",
       "0             35.031374           127.952029          100.548657   \n",
       "1             35.031374           127.952029          100.548657   \n",
       "2             35.031374           127.952029          100.548657   \n",
       "3             35.031374           127.952029          100.548657   \n",
       "4             35.031374           127.952029          100.548657   \n",
       "\n",
       "   lis_claim_cost_avg  nonlis_claim_cost_avg  \n",
       "0           154.74375             123.493166  \n",
       "1           154.74375             123.493166  \n",
       "2           154.74375             123.493166  \n",
       "3           154.74375             123.493166  \n",
       "4           154.74375             123.493166  \n",
       "\n",
       "[5 rows x 33 columns]"
      ]
     },
     "execution_count": 4,
     "metadata": {},
     "output_type": "execute_result"
    }
   ],
   "source": [
    "df.head()"
   ]
  },
  {
   "cell_type": "code",
   "execution_count": 5,
   "metadata": {
    "collapsed": true
   },
   "outputs": [],
   "source": [
    "X_train, X_test = mf.make_train_test_dataset(df)"
   ]
  },
  {
   "cell_type": "code",
   "execution_count": 6,
   "metadata": {
    "collapsed": true
   },
   "outputs": [],
   "source": [
    "keep_cols = ['generic_claim_cost_avg', 'brand_claim_cost_avg']"
   ]
  },
  {
   "cell_type": "code",
   "execution_count": 7,
   "metadata": {
    "collapsed": false
   },
   "outputs": [
    {
     "name": "stderr",
     "output_type": "stream",
     "text": [
      "[Parallel(n_jobs=8)]: Done   8 out of   8 | elapsed:   39.3s finished\n"
     ]
    }
   ],
   "source": [
    "mod_if = mf.fit_model(X_train, keep_cols)"
   ]
  },
  {
   "cell_type": "code",
   "execution_count": 8,
   "metadata": {
    "collapsed": true
   },
   "outputs": [],
   "source": [
    "df_labels = pd.read_csv('../data/medicare_labels_2013.csv')"
   ]
  },
  {
   "cell_type": "code",
   "execution_count": 9,
   "metadata": {
    "collapsed": false
   },
   "outputs": [
    {
     "ename": "TypeError",
     "evalue": "check_labels() takes exactly 3 arguments (4 given)",
     "output_type": "error",
     "traceback": [
      "\u001b[1;31m---------------------------------------------------------------------------\u001b[0m",
      "\u001b[1;31mTypeError\u001b[0m                                 Traceback (most recent call last)",
      "\u001b[1;32m<ipython-input-9-3810d373859b>\u001b[0m in \u001b[0;36m<module>\u001b[1;34m()\u001b[0m\n\u001b[1;32m----> 1\u001b[1;33m \u001b[0mtest_df\u001b[0m \u001b[1;33m=\u001b[0m \u001b[0mmf\u001b[0m\u001b[1;33m.\u001b[0m\u001b[0mcheck_labels\u001b[0m\u001b[1;33m(\u001b[0m\u001b[0mdf_labels\u001b[0m\u001b[1;33m,\u001b[0m \u001b[0mX_test\u001b[0m\u001b[1;33m,\u001b[0m \u001b[0mkeep_cols\u001b[0m\u001b[1;33m,\u001b[0m \u001b[0mmod_if\u001b[0m\u001b[1;33m)\u001b[0m\u001b[1;33m\u001b[0m\u001b[0m\n\u001b[0m",
      "\u001b[1;31mTypeError\u001b[0m: check_labels() takes exactly 3 arguments (4 given)"
     ]
    }
   ],
   "source": [
    "test_df = mf.check_labels(df_labels, X_test, keep_cols, mod_if)"
   ]
  },
  {
   "cell_type": "code",
   "execution_count": null,
   "metadata": {
    "collapsed": true
   },
   "outputs": [],
   "source": []
  }
 ],
 "metadata": {
  "kernelspec": {
   "display_name": "Python 2",
   "language": "python",
   "name": "python2"
  },
  "language_info": {
   "codemirror_mode": {
    "name": "ipython",
    "version": 2
   },
   "file_extension": ".py",
   "mimetype": "text/x-python",
   "name": "python",
   "nbconvert_exporter": "python",
   "pygments_lexer": "ipython2",
   "version": "2.7.11"
  }
 },
 "nbformat": 4,
 "nbformat_minor": 0
}
