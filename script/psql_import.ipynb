{
 "cells": [
  {
   "cell_type": "code",
   "execution_count": 1,
   "metadata": {
    "collapsed": true
   },
   "outputs": [],
   "source": [
    "import psycopg2 as pg2"
   ]
  },
  {
   "cell_type": "code",
   "execution_count": 2,
   "metadata": {
    "collapsed": true
   },
   "outputs": [],
   "source": [
    "conn = pg2.connect(dbname='medicare', user='postgres')"
   ]
  },
  {
   "cell_type": "code",
   "execution_count": 3,
   "metadata": {
    "collapsed": true
   },
   "outputs": [],
   "source": [
    "cur = conn.cursor()"
   ]
  },
  {
   "cell_type": "code",
   "execution_count": 24,
   "metadata": {
    "collapsed": true
   },
   "outputs": [],
   "source": [
    "# Insert provider/drug data into psql"
   ]
  },
  {
   "cell_type": "code",
   "execution_count": 4,
   "metadata": {
    "collapsed": false
   },
   "outputs": [],
   "source": [
    "query = '''\n",
    "        CREATE TABLE npi_drug_13 (\n",
    "            npi integer\n",
    "            , last_name text\n",
    "            , first_name varchar(50)\n",
    "            , provider_city varchar(50)\n",
    "            , provider_state varchar(5)\n",
    "            , specialty_desc text\n",
    "            , description_flag varchar(5)\n",
    "            , drug_name varchar(50)\n",
    "            , generic_name varchar(50)\n",
    "            , bene_count integer\n",
    "            , total_claims integer\n",
    "            , total_day_supply integer\n",
    "            , total_drug_cost float\n",
    "            , bene_count_ge65 integer\n",
    "            , bene_count_ge65_redact varchar(5)\n",
    "            , total_claim_count_ge65 integer\n",
    "            , ge65_redact_flag varchar(5)\n",
    "            , total_day_supply_ge65 integer\n",
    "            , total_drug_cost_ge65 float\n",
    "            );\n",
    "        '''\n",
    "\n",
    "cur.execute(query)"
   ]
  },
  {
   "cell_type": "code",
   "execution_count": 5,
   "metadata": {
    "collapsed": false
   },
   "outputs": [],
   "source": [
    "query = '''\n",
    "        COPY npi_drug_13\n",
    "        FROM '/home/ubuntu/medicare-project/data/pp_npi_drug_13.tab' \n",
    "        DELIMITER '\\t' \n",
    "        HEADER\n",
    "        CSV;\n",
    "        '''\n",
    "cur.execute(query)"
   ]
  },
  {
   "cell_type": "code",
   "execution_count": 6,
   "metadata": {
    "collapsed": true
   },
   "outputs": [],
   "source": [
    "conn.commit()"
   ]
  },
  {
   "cell_type": "code",
   "execution_count": 25,
   "metadata": {
    "collapsed": true
   },
   "outputs": [],
   "source": [
    "# Insert provider summary into psql"
   ]
  },
  {
   "cell_type": "code",
   "execution_count": 4,
   "metadata": {
    "collapsed": false
   },
   "outputs": [],
   "source": [
    "query = '''\n",
    "        CREATE TABLE npi_13 (\n",
    "            npi integer\n",
    "            , last_name text\n",
    "            , first_name varchar(50)\n",
    "            , middle_initial varchar(5)\n",
    "            , credentials varchar(20)\n",
    "            , gender varchar(5)\n",
    "            , entity_code varchar(10)\n",
    "            , provider_street1 text\n",
    "            , prover_street2 text\n",
    "            , provider_city varchar(40)\n",
    "            , provider_zip varchar(20)\n",
    "            , provider_state varchar(5)\n",
    "            , provider_country varchar(20)\n",
    "            , specialty_desc text\n",
    "            , description_flag varchar(10)\n",
    "            , bene_count float\n",
    "            , total_claim_count integer\n",
    "            , total_drug_cost float\n",
    "            , total_day_supply integer\n",
    "            , bene_count_ge65 float\n",
    "            , bene_count_ge65_redact varchar(5)\n",
    "            , total_claim_count_ge65 int\n",
    "            , ge65_redact_flag varchar(5)\n",
    "            , total_drug_cost_ge65 float\n",
    "            , total_day_supply_ge65 float\n",
    "            , brand_claim_count float\n",
    "            , brand_redact_flag varchar(5)\n",
    "            , brand_claim_cost float\n",
    "            , generic_claim_count float\n",
    "            , generic_redact_flag varchar(5)\n",
    "            , generic_claim_cost float\n",
    "            , other_claim_count float\n",
    "            , other_redact_flag varchar(5)\n",
    "            , other_claim_cost float\n",
    "            , mapd_claim_count float\n",
    "            , mapd_redact_flag varchar(5)\n",
    "            , mapd_claim_cost float\n",
    "            , pdp_claim_count float\n",
    "            , pdp_redact_flag varchar(5)\n",
    "            , pdp_claim_cost float\n",
    "            , lis_claim_count float\n",
    "            , lis_redact_flag varchar(5)\n",
    "            , lis_claim_cost float\n",
    "            , nonlis_claim_count float\n",
    "            , nonlis_redact_flag varchar(5)\n",
    "            , nonlis_claim_cost float\n",
    "            );\n",
    "        '''\n",
    "\n",
    "cur.execute(query)"
   ]
  },
  {
   "cell_type": "code",
   "execution_count": 5,
   "metadata": {
    "collapsed": false
   },
   "outputs": [],
   "source": [
    "query = '''\n",
    "        COPY npi_13\n",
    "        FROM '/home/ubuntu/medicare-project/data/pp_npi_13.tab' \n",
    "        DELIMITER '\\t' \n",
    "        HEADER\n",
    "        CSV;\n",
    "        '''\n",
    "cur.execute(query)\n",
    "conn.commit()"
   ]
  },
  {
   "cell_type": "code",
   "execution_count": 26,
   "metadata": {
    "collapsed": true
   },
   "outputs": [],
   "source": [
    "# Helper code to insert large csv into psql. Inserts all columns as varchar"
   ]
  },
  {
   "cell_type": "code",
   "execution_count": 38,
   "metadata": {
    "collapsed": true
   },
   "outputs": [],
   "source": [
    "#%%writefile psql_helper.py\n",
    "\n",
    "'''\n",
    "A Psql helper module\n",
    "~~~~~~~~~~~~~~~~~~~~\n",
    "Author: Ming Huang\n",
    "Last Edit Date: 09/14/2015\n",
    "The module included is intended to make it easier to quickly to load csv data \n",
    "into Psql and prevent having to write multiple create and insert queries, and \n",
    "is a byproduct of the Galvanize Data Science Capstone project.\n",
    "This is only a first iteration, please feel free to contact me if you see \n",
    "something wrong.  Error handling has not been included yet.\n",
    "'''\n",
    "\n",
    "import psycopg2\n",
    "import os\n",
    "import re\n",
    "\n",
    "\n",
    "class PsqlConnection(object):\n",
    "    '''\n",
    "    Provides an interface for quick table creation and data insertion into Psql\n",
    "    databases using Python.  This module is created with the intention for \n",
    "    quick data and automated Psql data storage without having to experiment \n",
    "    with writing create and insert queries against uncertain data types.  \n",
    "    While this is not conventional database practice, and does make it easier \n",
    "    to quickly transition into EDA using SQL for Data Science projects.\n",
    "    Usage:\n",
    "    psql = PsqlConnection(db='dbname', user='username')\n",
    "    psql.create_table(headers, 'tablename')\n",
    "    psql.insert_csv('tablename', 'csvpath')\n",
    "    psql.load_csvs_in_directory('folderpath')\n",
    "    '''\n",
    "\n",
    "    def __init__(self, db, user, host='localhost'):\n",
    "        '''\n",
    "        INPUT:\n",
    "            db -> string; name of database\n",
    "            user -> string; name of database user\n",
    "            host -> string; database ip address\n",
    "        Initiates PsqlConnection class.  This class enables automated table \n",
    "        generations and data insertions on an existing psql database.\n",
    "        '''\n",
    "        self.conn = psycopg2.connect(dbname=db, user=user)\n",
    "        self.cur = self.conn.cursor()\n",
    "        self.db = db\n",
    "        self.user = user\n",
    "        self.host = host\n",
    "        print 'Connection Open'\n",
    "\n",
    "    def create_table(self, headers, table_name):\n",
    "        '''\n",
    "        INPUT:\n",
    "            headers -> list; list of names of columns for new table\n",
    "            table_name -> string; name of table to be created\n",
    "        Creates a new table in existing database using the given list of \n",
    "        headers.  The query gets automatically generated by setting all columns\n",
    "         to varchar.\n",
    "        '''\n",
    "        create_query = 'CREATE TABLE {0} ({1});'\n",
    "        cols = self._varchar_columns(headers)\n",
    "        self.cur.execute(create_query.format(table_name, cols))\n",
    "        self.conn.commit()\n",
    "        print 'Table {0} created in {1}'.format(table_name, self.db)\n",
    "\n",
    "    def _varchar_columns(self, headers):\n",
    "        '''\n",
    "        INPUT:\n",
    "            headers -> list; list of names of columns for new table\n",
    "        OUTPUT:\n",
    "            string; the column section of a create table query\n",
    "        Helper function to generate the column section of a create table query.\n",
    "        '''\n",
    "        var = '{0} varchar(100)'\n",
    "        cols = [var.format(header) for header in headers]\n",
    "        return ', '.join(cols)\n",
    "\n",
    "    def insert_csv(self, table_name, csv_path, if_header=True):\n",
    "        '''\n",
    "        INPUT:\n",
    "            table_name -> string; name of table to insert csv file\n",
    "            csv_path -> string; file path of the csv file with data\n",
    "            if_header -> boolean; true or false if csv includes headers\n",
    "        Inserts csv file to table in the current database.  Table must already \n",
    "        exist in database.\n",
    "        '''\n",
    "        copy_query = \"COPY {0} FROM '{1}' WITH DELIMITER ',' CSV {2};\"\n",
    "        if if_header:\n",
    "            header = 'HEADER'\n",
    "        else:\n",
    "            header = ''\n",
    "        self.cur.execute(copy_query.format(table_name, csv_path, header))\n",
    "        self.conn.commit()\n",
    "        print 'CSV inserted into {0}.'.format(table_name)\n",
    "\n",
    "    def drop_table(self, table_name):\n",
    "        '''\n",
    "        INPUT:\n",
    "            table_name -> string; name of table to drop\n",
    "        Drops a table in the current database.  Will not attempt to drop if \n",
    "        table does not exist.\n",
    "        '''\n",
    "        drop_query = 'DROP TABLE IF EXISTS {0};'\n",
    "        self.cur.execute(drop_query.format(table_name))\n",
    "        self.conn.commit()\n",
    "        print 'Table {0} dropped.'.format(table_name)\n",
    "\n",
    "    def load_csvs_in_directory(self, directory):\n",
    "        '''\n",
    "        INPUT:\n",
    "            directory -> string; directory of files to insert into psql\n",
    "        Takes all csv files from the given directory, and creates tables and \n",
    "        inserts data into the current psql database.  Will not work if the data\n",
    "         is not in csv or comma delimited format. \n",
    "        '''\n",
    "        for f in os.listdir(directory):\n",
    "            if f.endswith('.csv'):\n",
    "                file_path = '{0}/{1}'.format(directory, f)\n",
    "                table_name = re.sub('-| ', '_', f.split('.')[0])\n",
    "                headers = self._get_headers(file_path)\n",
    "                self.drop_table(table_name)\n",
    "                self.create_table(headers, table_name)\n",
    "                self.insert_csv(table_name, file_path)\n",
    "\n",
    "    def _get_headers(self, file_path):\n",
    "        '''\n",
    "        INPUT:\n",
    "            file_path -> string; file_path of data file \n",
    "        OUTPUT:\n",
    "            list; list of formatted headers\n",
    "        Gets and formats the headers for query generation from the given file\n",
    "        path.\n",
    "        '''\n",
    "        with open(file_path) as f:\n",
    "            headers = f.readline().split(',')\n",
    "            headers = [re.sub('\\n| |\"|\\.', '', h) for h in headers]\n",
    "            headers = [re.sub(' |/', '_', h) for h in headers]\n",
    "            return [re.sub('_+', '_', h) for h in headers]\n",
    "\n",
    "    def end_connection(self):\n",
    "        '''\n",
    "        Closes the current psql connection.\n",
    "        '''\n",
    "        self.conn.close()\n",
    "        print 'Connection Closed'"
   ]
  },
  {
   "cell_type": "code",
   "execution_count": 2,
   "metadata": {
    "collapsed": true
   },
   "outputs": [],
   "source": [
    "import pandas as pd\n",
    "import string\n",
    "import re"
   ]
  },
  {
   "cell_type": "code",
   "execution_count": 4,
   "metadata": {
    "collapsed": false
   },
   "outputs": [],
   "source": [
    "df = pd.read_csv('../data/npidata_20050523-20160313FileHeader.csv')"
   ]
  },
  {
   "cell_type": "code",
   "execution_count": 5,
   "metadata": {
    "collapsed": false
   },
   "outputs": [],
   "source": [
    "header = df.columns.values.tolist()"
   ]
  },
  {
   "cell_type": "code",
   "execution_count": 6,
   "metadata": {
    "collapsed": true
   },
   "outputs": [],
   "source": [
    "# function to replace all the whitespace and punctuation in columns names\n",
    "def remove_white_punc(lst):\n",
    "    '''\n",
    "    Input: List of strings (with whitespaces/punctuation)\n",
    "    Output: List of strings (with whitespace/punctuation removed)\n",
    "    '''\n",
    "    regex = re.compile('[%s]'%re.escape(string.punctuation))\n",
    "    \n",
    "    for ix, name in enumerate(lst):\n",
    "        lst[ix] = regex.sub('', name).replace(' ', '_')\n",
    "    \n",
    "    return lst"
   ]
  },
  {
   "cell_type": "code",
   "execution_count": 7,
   "metadata": {
    "collapsed": false
   },
   "outputs": [],
   "source": [
    "header_strip = remove_white_punc(header)"
   ]
  },
  {
   "cell_type": "code",
   "execution_count": 8,
   "metadata": {
    "collapsed": false
   },
   "outputs": [
    {
     "data": {
      "text/plain": [
       "'Employer_Identification_Number_EIN'"
      ]
     },
     "execution_count": 8,
     "metadata": {},
     "output_type": "execute_result"
    }
   ],
   "source": [
    "header_strip[3]"
   ]
  },
  {
   "cell_type": "code",
   "execution_count": 27,
   "metadata": {
    "collapsed": true
   },
   "outputs": [],
   "source": [
    "# Insert NPI lookup file into psql"
   ]
  },
  {
   "cell_type": "code",
   "execution_count": 23,
   "metadata": {
    "collapsed": false
   },
   "outputs": [
    {
     "name": "stdout",
     "output_type": "stream",
     "text": [
      "Connection Open\n",
      "Table npi_name created in medicare\n",
      "CSV inserted into npi_name.\n"
     ]
    }
   ],
   "source": [
    "psql = PsqlConnection(db='medicare', user='postgres')\n",
    "psql.create_table(header_strip, 'npi_name')\n",
    "psql.insert_csv('npi_name', \"/home/ubuntu/medicare-project/data/npidata_20050523-20160313.csv\")"
   ]
  },
  {
   "cell_type": "code",
   "execution_count": 4,
   "metadata": {
    "collapsed": true
   },
   "outputs": [],
   "source": [
    "# Change npi column in NPI lookup to integer"
   ]
  },
  {
   "cell_type": "code",
   "execution_count": 5,
   "metadata": {
    "collapsed": true
   },
   "outputs": [],
   "source": [
    "query = '''\n",
    "        ALTER TABLE npi_name\n",
    "        ALTER COLUMN npi\n",
    "        TYPE integer \n",
    "        USING npi::integer;\n",
    "        '''\n",
    "cur.execute(query)\n",
    "conn.commit()"
   ]
  },
  {
   "cell_type": "code",
   "execution_count": 37,
   "metadata": {
    "collapsed": true
   },
   "outputs": [],
   "source": [
    "# Insert healthcare provider taxonomy code description into psql"
   ]
  },
  {
   "cell_type": "code",
   "execution_count": 41,
   "metadata": {
    "collapsed": true
   },
   "outputs": [],
   "source": [
    "df = pd.read_csv('data/nucc_taxonomy_160.csv')"
   ]
  },
  {
   "cell_type": "code",
   "execution_count": 42,
   "metadata": {
    "collapsed": false
   },
   "outputs": [
    {
     "data": {
      "text/html": [
       "<div>\n",
       "<table border=\"1\" class=\"dataframe\">\n",
       "  <thead>\n",
       "    <tr style=\"text-align: right;\">\n",
       "      <th></th>\n",
       "      <th>Code</th>\n",
       "      <th>Grouping</th>\n",
       "      <th>Classification</th>\n",
       "      <th>Specialization</th>\n",
       "      <th>Definition</th>\n",
       "      <th>Notes</th>\n",
       "    </tr>\n",
       "  </thead>\n",
       "  <tbody>\n",
       "    <tr>\n",
       "      <th>0</th>\n",
       "      <td>101Y00000X</td>\n",
       "      <td>Behavioral Health &amp; Social Service Providers</td>\n",
       "      <td>Counselor</td>\n",
       "      <td>NaN</td>\n",
       "      <td>A provider who is trained and educated in the ...</td>\n",
       "      <td>Sources: Abridged from definitions provided by...</td>\n",
       "    </tr>\n",
       "    <tr>\n",
       "      <th>1</th>\n",
       "      <td>101YA0400X</td>\n",
       "      <td>Behavioral Health &amp; Social Service Providers</td>\n",
       "      <td>Counselor</td>\n",
       "      <td>Addiction (Substance Use Disorder)</td>\n",
       "      <td>Definition to come...</td>\n",
       "      <td>NaN</td>\n",
       "    </tr>\n",
       "    <tr>\n",
       "      <th>2</th>\n",
       "      <td>101YM0800X</td>\n",
       "      <td>Behavioral Health &amp; Social Service Providers</td>\n",
       "      <td>Counselor</td>\n",
       "      <td>Mental Health</td>\n",
       "      <td>Definition to come...</td>\n",
       "      <td>NaN</td>\n",
       "    </tr>\n",
       "    <tr>\n",
       "      <th>3</th>\n",
       "      <td>101YP1600X</td>\n",
       "      <td>Behavioral Health &amp; Social Service Providers</td>\n",
       "      <td>Counselor</td>\n",
       "      <td>Pastoral</td>\n",
       "      <td>Definition to come...</td>\n",
       "      <td>NaN</td>\n",
       "    </tr>\n",
       "    <tr>\n",
       "      <th>4</th>\n",
       "      <td>101YP2500X</td>\n",
       "      <td>Behavioral Health &amp; Social Service Providers</td>\n",
       "      <td>Counselor</td>\n",
       "      <td>Professional</td>\n",
       "      <td>Definition to come...</td>\n",
       "      <td>NaN</td>\n",
       "    </tr>\n",
       "  </tbody>\n",
       "</table>\n",
       "</div>"
      ],
      "text/plain": [
       "         Code                                      Grouping Classification  \\\n",
       "0  101Y00000X  Behavioral Health & Social Service Providers      Counselor   \n",
       "1  101YA0400X  Behavioral Health & Social Service Providers      Counselor   \n",
       "2  101YM0800X  Behavioral Health & Social Service Providers      Counselor   \n",
       "3  101YP1600X  Behavioral Health & Social Service Providers      Counselor   \n",
       "4  101YP2500X  Behavioral Health & Social Service Providers      Counselor   \n",
       "\n",
       "                       Specialization  \\\n",
       "0                                 NaN   \n",
       "1  Addiction (Substance Use Disorder)   \n",
       "2                       Mental Health   \n",
       "3                            Pastoral   \n",
       "4                        Professional   \n",
       "\n",
       "                                          Definition  \\\n",
       "0  A provider who is trained and educated in the ...   \n",
       "1                              Definition to come...   \n",
       "2                              Definition to come...   \n",
       "3                              Definition to come...   \n",
       "4                              Definition to come...   \n",
       "\n",
       "                                               Notes  \n",
       "0  Sources: Abridged from definitions provided by...  \n",
       "1                                                NaN  \n",
       "2                                                NaN  \n",
       "3                                                NaN  \n",
       "4                                                NaN  "
      ]
     },
     "execution_count": 42,
     "metadata": {},
     "output_type": "execute_result"
    }
   ],
   "source": [
    "df.head()"
   ]
  },
  {
   "cell_type": "code",
   "execution_count": 8,
   "metadata": {
    "collapsed": true
   },
   "outputs": [],
   "source": [
    "# Drop definition and notes columns - not needed\n",
    "# Write out to csv"
   ]
  },
  {
   "cell_type": "code",
   "execution_count": 44,
   "metadata": {
    "collapsed": false
   },
   "outputs": [],
   "source": [
    "df_taxonomy_striped = df[['Code', 'Grouping', 'Classification', 'Specialization']]"
   ]
  },
  {
   "cell_type": "code",
   "execution_count": 59,
   "metadata": {
    "collapsed": false
   },
   "outputs": [],
   "source": [
    "df_taxonomy_striped.to_csv('data/nucc_taxonomy_160_stripped.csv', index=False, na_rep='None')"
   ]
  },
  {
   "cell_type": "code",
   "execution_count": 9,
   "metadata": {
    "collapsed": true
   },
   "outputs": [],
   "source": [
    "# non-utf8 character in file, stripped using unix "
   ]
  },
  {
   "cell_type": "code",
   "execution_count": 4,
   "metadata": {
    "collapsed": false
   },
   "outputs": [],
   "source": [
    "query = '''\n",
    "        CREATE TABLE taxonomy_lookup (\n",
    "            code varchar(15)\n",
    "            , grouping varchar(100)\n",
    "            , classification varchar(100)\n",
    "            , specialization varchar(100)\n",
    "            );\n",
    "        '''\n",
    "\n",
    "cur.execute(query)"
   ]
  },
  {
   "cell_type": "code",
   "execution_count": 5,
   "metadata": {
    "collapsed": false
   },
   "outputs": [],
   "source": [
    "query = '''\n",
    "        COPY taxonomy_lookup\n",
    "        FROM '/home/ubuntu/medicare-project/data/nucc_taxonomy_160_stripped_clean.csv' \n",
    "        DELIMITER ',' \n",
    "        HEADER\n",
    "        CSV;\n",
    "        '''\n",
    "cur.execute(query)"
   ]
  },
  {
   "cell_type": "code",
   "execution_count": 6,
   "metadata": {
    "collapsed": true
   },
   "outputs": [],
   "source": [
    "conn.commit()"
   ]
  },
  {
   "cell_type": "code",
   "execution_count": 9,
   "metadata": {
    "collapsed": false
   },
   "outputs": [
    {
     "data": {
      "text/plain": [
       "['NPI',\n",
       " 'Entity_Type_Code',\n",
       " 'Replacement_NPI',\n",
       " 'Employer_Identification_Number_EIN',\n",
       " 'Provider_Organization_Name_Legal_Business_Name',\n",
       " 'Provider_Last_Name_Legal_Name',\n",
       " 'Provider_First_Name',\n",
       " 'Provider_Middle_Name',\n",
       " 'Provider_Name_Prefix_Text',\n",
       " 'Provider_Name_Suffix_Text',\n",
       " 'Provider_Credential_Text',\n",
       " 'Provider_Other_Organization_Name',\n",
       " 'Provider_Other_Organization_Name_Type_Code',\n",
       " 'Provider_Other_Last_Name',\n",
       " 'Provider_Other_First_Name',\n",
       " 'Provider_Other_Middle_Name',\n",
       " 'Provider_Other_Name_Prefix_Text',\n",
       " 'Provider_Other_Name_Suffix_Text',\n",
       " 'Provider_Other_Credential_Text',\n",
       " 'Provider_Other_Last_Name_Type_Code',\n",
       " 'Provider_First_Line_Business_Mailing_Address',\n",
       " 'Provider_Second_Line_Business_Mailing_Address',\n",
       " 'Provider_Business_Mailing_Address_City_Name',\n",
       " 'Provider_Business_Mailing_Address_State_Name',\n",
       " 'Provider_Business_Mailing_Address_Postal_Code',\n",
       " 'Provider_Business_Mailing_Address_Country_Code_If_outside_US',\n",
       " 'Provider_Business_Mailing_Address_Telephone_Number',\n",
       " 'Provider_Business_Mailing_Address_Fax_Number',\n",
       " 'Provider_First_Line_Business_Practice_Location_Address',\n",
       " 'Provider_Second_Line_Business_Practice_Location_Address',\n",
       " 'Provider_Business_Practice_Location_Address_City_Name',\n",
       " 'Provider_Business_Practice_Location_Address_State_Name',\n",
       " 'Provider_Business_Practice_Location_Address_Postal_Code',\n",
       " 'Provider_Business_Practice_Location_Address_Country_Code_If_outside_US',\n",
       " 'Provider_Business_Practice_Location_Address_Telephone_Number',\n",
       " 'Provider_Business_Practice_Location_Address_Fax_Number',\n",
       " 'Provider_Enumeration_Date',\n",
       " 'Last_Update_Date',\n",
       " 'NPI_Deactivation_Reason_Code',\n",
       " 'NPI_Deactivation_Date',\n",
       " 'NPI_Reactivation_Date',\n",
       " 'Provider_Gender_Code',\n",
       " 'Authorized_Official_Last_Name',\n",
       " 'Authorized_Official_First_Name',\n",
       " 'Authorized_Official_Middle_Name',\n",
       " 'Authorized_Official_Title_or_Position',\n",
       " 'Authorized_Official_Telephone_Number',\n",
       " 'Healthcare_Provider_Taxonomy_Code1',\n",
       " 'Provider_License_Number1',\n",
       " 'Provider_License_Number_State_Code1',\n",
       " 'Healthcare_Provider_Primary_Taxonomy_Switch1',\n",
       " 'Healthcare_Provider_Taxonomy_Code2',\n",
       " 'Provider_License_Number2',\n",
       " 'Provider_License_Number_State_Code2',\n",
       " 'Healthcare_Provider_Primary_Taxonomy_Switch2',\n",
       " 'Healthcare_Provider_Taxonomy_Code3',\n",
       " 'Provider_License_Number3',\n",
       " 'Provider_License_Number_State_Code3',\n",
       " 'Healthcare_Provider_Primary_Taxonomy_Switch3',\n",
       " 'Healthcare_Provider_Taxonomy_Code4',\n",
       " 'Provider_License_Number4',\n",
       " 'Provider_License_Number_State_Code4',\n",
       " 'Healthcare_Provider_Primary_Taxonomy_Switch4',\n",
       " 'Healthcare_Provider_Taxonomy_Code5',\n",
       " 'Provider_License_Number5',\n",
       " 'Provider_License_Number_State_Code5',\n",
       " 'Healthcare_Provider_Primary_Taxonomy_Switch5',\n",
       " 'Healthcare_Provider_Taxonomy_Code6',\n",
       " 'Provider_License_Number6',\n",
       " 'Provider_License_Number_State_Code6',\n",
       " 'Healthcare_Provider_Primary_Taxonomy_Switch6',\n",
       " 'Healthcare_Provider_Taxonomy_Code7',\n",
       " 'Provider_License_Number7',\n",
       " 'Provider_License_Number_State_Code7',\n",
       " 'Healthcare_Provider_Primary_Taxonomy_Switch7',\n",
       " 'Healthcare_Provider_Taxonomy_Code8',\n",
       " 'Provider_License_Number8',\n",
       " 'Provider_License_Number_State_Code8',\n",
       " 'Healthcare_Provider_Primary_Taxonomy_Switch8',\n",
       " 'Healthcare_Provider_Taxonomy_Code9',\n",
       " 'Provider_License_Number9',\n",
       " 'Provider_License_Number_State_Code9',\n",
       " 'Healthcare_Provider_Primary_Taxonomy_Switch9',\n",
       " 'Healthcare_Provider_Taxonomy_Code10',\n",
       " 'Provider_License_Number10',\n",
       " 'Provider_License_Number_State_Code10',\n",
       " 'Healthcare_Provider_Primary_Taxonomy_Switch10',\n",
       " 'Healthcare_Provider_Taxonomy_Code11',\n",
       " 'Provider_License_Number11',\n",
       " 'Provider_License_Number_State_Code11',\n",
       " 'Healthcare_Provider_Primary_Taxonomy_Switch11',\n",
       " 'Healthcare_Provider_Taxonomy_Code12',\n",
       " 'Provider_License_Number12',\n",
       " 'Provider_License_Number_State_Code12',\n",
       " 'Healthcare_Provider_Primary_Taxonomy_Switch12',\n",
       " 'Healthcare_Provider_Taxonomy_Code13',\n",
       " 'Provider_License_Number13',\n",
       " 'Provider_License_Number_State_Code13',\n",
       " 'Healthcare_Provider_Primary_Taxonomy_Switch13',\n",
       " 'Healthcare_Provider_Taxonomy_Code14',\n",
       " 'Provider_License_Number14',\n",
       " 'Provider_License_Number_State_Code14',\n",
       " 'Healthcare_Provider_Primary_Taxonomy_Switch14',\n",
       " 'Healthcare_Provider_Taxonomy_Code15',\n",
       " 'Provider_License_Number15',\n",
       " 'Provider_License_Number_State_Code15',\n",
       " 'Healthcare_Provider_Primary_Taxonomy_Switch15',\n",
       " 'Other_Provider_Identifier1',\n",
       " 'Other_Provider_Identifier_Type_Code1',\n",
       " 'Other_Provider_Identifier_State1',\n",
       " 'Other_Provider_Identifier_Issuer1',\n",
       " 'Other_Provider_Identifier2',\n",
       " 'Other_Provider_Identifier_Type_Code2',\n",
       " 'Other_Provider_Identifier_State2',\n",
       " 'Other_Provider_Identifier_Issuer2',\n",
       " 'Other_Provider_Identifier3',\n",
       " 'Other_Provider_Identifier_Type_Code3',\n",
       " 'Other_Provider_Identifier_State3',\n",
       " 'Other_Provider_Identifier_Issuer3',\n",
       " 'Other_Provider_Identifier4',\n",
       " 'Other_Provider_Identifier_Type_Code4',\n",
       " 'Other_Provider_Identifier_State4',\n",
       " 'Other_Provider_Identifier_Issuer4',\n",
       " 'Other_Provider_Identifier5',\n",
       " 'Other_Provider_Identifier_Type_Code5',\n",
       " 'Other_Provider_Identifier_State5',\n",
       " 'Other_Provider_Identifier_Issuer5',\n",
       " 'Other_Provider_Identifier6',\n",
       " 'Other_Provider_Identifier_Type_Code6',\n",
       " 'Other_Provider_Identifier_State6',\n",
       " 'Other_Provider_Identifier_Issuer6',\n",
       " 'Other_Provider_Identifier7',\n",
       " 'Other_Provider_Identifier_Type_Code7',\n",
       " 'Other_Provider_Identifier_State7',\n",
       " 'Other_Provider_Identifier_Issuer7',\n",
       " 'Other_Provider_Identifier8',\n",
       " 'Other_Provider_Identifier_Type_Code8',\n",
       " 'Other_Provider_Identifier_State8',\n",
       " 'Other_Provider_Identifier_Issuer8',\n",
       " 'Other_Provider_Identifier9',\n",
       " 'Other_Provider_Identifier_Type_Code9',\n",
       " 'Other_Provider_Identifier_State9',\n",
       " 'Other_Provider_Identifier_Issuer9',\n",
       " 'Other_Provider_Identifier10',\n",
       " 'Other_Provider_Identifier_Type_Code10',\n",
       " 'Other_Provider_Identifier_State10',\n",
       " 'Other_Provider_Identifier_Issuer10',\n",
       " 'Other_Provider_Identifier11',\n",
       " 'Other_Provider_Identifier_Type_Code11',\n",
       " 'Other_Provider_Identifier_State11',\n",
       " 'Other_Provider_Identifier_Issuer11',\n",
       " 'Other_Provider_Identifier12',\n",
       " 'Other_Provider_Identifier_Type_Code12',\n",
       " 'Other_Provider_Identifier_State12',\n",
       " 'Other_Provider_Identifier_Issuer12',\n",
       " 'Other_Provider_Identifier13',\n",
       " 'Other_Provider_Identifier_Type_Code13',\n",
       " 'Other_Provider_Identifier_State13',\n",
       " 'Other_Provider_Identifier_Issuer13',\n",
       " 'Other_Provider_Identifier14',\n",
       " 'Other_Provider_Identifier_Type_Code14',\n",
       " 'Other_Provider_Identifier_State14',\n",
       " 'Other_Provider_Identifier_Issuer14',\n",
       " 'Other_Provider_Identifier15',\n",
       " 'Other_Provider_Identifier_Type_Code15',\n",
       " 'Other_Provider_Identifier_State15',\n",
       " 'Other_Provider_Identifier_Issuer15',\n",
       " 'Other_Provider_Identifier16',\n",
       " 'Other_Provider_Identifier_Type_Code16',\n",
       " 'Other_Provider_Identifier_State16',\n",
       " 'Other_Provider_Identifier_Issuer16',\n",
       " 'Other_Provider_Identifier17',\n",
       " 'Other_Provider_Identifier_Type_Code17',\n",
       " 'Other_Provider_Identifier_State17',\n",
       " 'Other_Provider_Identifier_Issuer17',\n",
       " 'Other_Provider_Identifier18',\n",
       " 'Other_Provider_Identifier_Type_Code18',\n",
       " 'Other_Provider_Identifier_State18',\n",
       " 'Other_Provider_Identifier_Issuer18',\n",
       " 'Other_Provider_Identifier19',\n",
       " 'Other_Provider_Identifier_Type_Code19',\n",
       " 'Other_Provider_Identifier_State19',\n",
       " 'Other_Provider_Identifier_Issuer19',\n",
       " 'Other_Provider_Identifier20',\n",
       " 'Other_Provider_Identifier_Type_Code20',\n",
       " 'Other_Provider_Identifier_State20',\n",
       " 'Other_Provider_Identifier_Issuer20',\n",
       " 'Other_Provider_Identifier21',\n",
       " 'Other_Provider_Identifier_Type_Code21',\n",
       " 'Other_Provider_Identifier_State21',\n",
       " 'Other_Provider_Identifier_Issuer21',\n",
       " 'Other_Provider_Identifier22',\n",
       " 'Other_Provider_Identifier_Type_Code22',\n",
       " 'Other_Provider_Identifier_State22',\n",
       " 'Other_Provider_Identifier_Issuer22',\n",
       " 'Other_Provider_Identifier23',\n",
       " 'Other_Provider_Identifier_Type_Code23',\n",
       " 'Other_Provider_Identifier_State23',\n",
       " 'Other_Provider_Identifier_Issuer23',\n",
       " 'Other_Provider_Identifier24',\n",
       " 'Other_Provider_Identifier_Type_Code24',\n",
       " 'Other_Provider_Identifier_State24',\n",
       " 'Other_Provider_Identifier_Issuer24',\n",
       " 'Other_Provider_Identifier25',\n",
       " 'Other_Provider_Identifier_Type_Code25',\n",
       " 'Other_Provider_Identifier_State25',\n",
       " 'Other_Provider_Identifier_Issuer25',\n",
       " 'Other_Provider_Identifier26',\n",
       " 'Other_Provider_Identifier_Type_Code26',\n",
       " 'Other_Provider_Identifier_State26',\n",
       " 'Other_Provider_Identifier_Issuer26',\n",
       " 'Other_Provider_Identifier27',\n",
       " 'Other_Provider_Identifier_Type_Code27',\n",
       " 'Other_Provider_Identifier_State27',\n",
       " 'Other_Provider_Identifier_Issuer27',\n",
       " 'Other_Provider_Identifier28',\n",
       " 'Other_Provider_Identifier_Type_Code28',\n",
       " 'Other_Provider_Identifier_State28',\n",
       " 'Other_Provider_Identifier_Issuer28',\n",
       " 'Other_Provider_Identifier29',\n",
       " 'Other_Provider_Identifier_Type_Code29',\n",
       " 'Other_Provider_Identifier_State29',\n",
       " 'Other_Provider_Identifier_Issuer29',\n",
       " 'Other_Provider_Identifier30',\n",
       " 'Other_Provider_Identifier_Type_Code30',\n",
       " 'Other_Provider_Identifier_State30',\n",
       " 'Other_Provider_Identifier_Issuer30',\n",
       " 'Other_Provider_Identifier31',\n",
       " 'Other_Provider_Identifier_Type_Code31',\n",
       " 'Other_Provider_Identifier_State31',\n",
       " 'Other_Provider_Identifier_Issuer31',\n",
       " 'Other_Provider_Identifier32',\n",
       " 'Other_Provider_Identifier_Type_Code32',\n",
       " 'Other_Provider_Identifier_State32',\n",
       " 'Other_Provider_Identifier_Issuer32',\n",
       " 'Other_Provider_Identifier33',\n",
       " 'Other_Provider_Identifier_Type_Code33',\n",
       " 'Other_Provider_Identifier_State33',\n",
       " 'Other_Provider_Identifier_Issuer33',\n",
       " 'Other_Provider_Identifier34',\n",
       " 'Other_Provider_Identifier_Type_Code34',\n",
       " 'Other_Provider_Identifier_State34',\n",
       " 'Other_Provider_Identifier_Issuer34',\n",
       " 'Other_Provider_Identifier35',\n",
       " 'Other_Provider_Identifier_Type_Code35',\n",
       " 'Other_Provider_Identifier_State35',\n",
       " 'Other_Provider_Identifier_Issuer35',\n",
       " 'Other_Provider_Identifier36',\n",
       " 'Other_Provider_Identifier_Type_Code36',\n",
       " 'Other_Provider_Identifier_State36',\n",
       " 'Other_Provider_Identifier_Issuer36',\n",
       " 'Other_Provider_Identifier37',\n",
       " 'Other_Provider_Identifier_Type_Code37',\n",
       " 'Other_Provider_Identifier_State37',\n",
       " 'Other_Provider_Identifier_Issuer37',\n",
       " 'Other_Provider_Identifier38',\n",
       " 'Other_Provider_Identifier_Type_Code38',\n",
       " 'Other_Provider_Identifier_State38',\n",
       " 'Other_Provider_Identifier_Issuer38',\n",
       " 'Other_Provider_Identifier39',\n",
       " 'Other_Provider_Identifier_Type_Code39',\n",
       " 'Other_Provider_Identifier_State39',\n",
       " 'Other_Provider_Identifier_Issuer39',\n",
       " 'Other_Provider_Identifier40',\n",
       " 'Other_Provider_Identifier_Type_Code40',\n",
       " 'Other_Provider_Identifier_State40',\n",
       " 'Other_Provider_Identifier_Issuer40',\n",
       " 'Other_Provider_Identifier41',\n",
       " 'Other_Provider_Identifier_Type_Code41',\n",
       " 'Other_Provider_Identifier_State41',\n",
       " 'Other_Provider_Identifier_Issuer41',\n",
       " 'Other_Provider_Identifier42',\n",
       " 'Other_Provider_Identifier_Type_Code42',\n",
       " 'Other_Provider_Identifier_State42',\n",
       " 'Other_Provider_Identifier_Issuer42',\n",
       " 'Other_Provider_Identifier43',\n",
       " 'Other_Provider_Identifier_Type_Code43',\n",
       " 'Other_Provider_Identifier_State43',\n",
       " 'Other_Provider_Identifier_Issuer43',\n",
       " 'Other_Provider_Identifier44',\n",
       " 'Other_Provider_Identifier_Type_Code44',\n",
       " 'Other_Provider_Identifier_State44',\n",
       " 'Other_Provider_Identifier_Issuer44',\n",
       " 'Other_Provider_Identifier45',\n",
       " 'Other_Provider_Identifier_Type_Code45',\n",
       " 'Other_Provider_Identifier_State45',\n",
       " 'Other_Provider_Identifier_Issuer45',\n",
       " 'Other_Provider_Identifier46',\n",
       " 'Other_Provider_Identifier_Type_Code46',\n",
       " 'Other_Provider_Identifier_State46',\n",
       " 'Other_Provider_Identifier_Issuer46',\n",
       " 'Other_Provider_Identifier47',\n",
       " 'Other_Provider_Identifier_Type_Code47',\n",
       " 'Other_Provider_Identifier_State47',\n",
       " 'Other_Provider_Identifier_Issuer47',\n",
       " 'Other_Provider_Identifier48',\n",
       " 'Other_Provider_Identifier_Type_Code48',\n",
       " 'Other_Provider_Identifier_State48',\n",
       " 'Other_Provider_Identifier_Issuer48',\n",
       " 'Other_Provider_Identifier49',\n",
       " 'Other_Provider_Identifier_Type_Code49',\n",
       " 'Other_Provider_Identifier_State49',\n",
       " 'Other_Provider_Identifier_Issuer49',\n",
       " 'Other_Provider_Identifier50',\n",
       " 'Other_Provider_Identifier_Type_Code50',\n",
       " 'Other_Provider_Identifier_State50',\n",
       " 'Other_Provider_Identifier_Issuer50',\n",
       " 'Is_Sole_Proprietor',\n",
       " 'Is_Organization_Subpart',\n",
       " 'Parent_Organization_LBN',\n",
       " 'Parent_Organization_TIN',\n",
       " 'Authorized_Official_Name_Prefix_Text',\n",
       " 'Authorized_Official_Name_Suffix_Text',\n",
       " 'Authorized_Official_Credential_Text',\n",
       " 'Healthcare_Provider_Taxonomy_Group1',\n",
       " 'Healthcare_Provider_Taxonomy_Group2',\n",
       " 'Healthcare_Provider_Taxonomy_Group3',\n",
       " 'Healthcare_Provider_Taxonomy_Group4',\n",
       " 'Healthcare_Provider_Taxonomy_Group5',\n",
       " 'Healthcare_Provider_Taxonomy_Group6',\n",
       " 'Healthcare_Provider_Taxonomy_Group7',\n",
       " 'Healthcare_Provider_Taxonomy_Group8',\n",
       " 'Healthcare_Provider_Taxonomy_Group9',\n",
       " 'Healthcare_Provider_Taxonomy_Group10',\n",
       " 'Healthcare_Provider_Taxonomy_Group11',\n",
       " 'Healthcare_Provider_Taxonomy_Group12',\n",
       " 'Healthcare_Provider_Taxonomy_Group13',\n",
       " 'Healthcare_Provider_Taxonomy_Group14',\n",
       " 'Healthcare_Provider_Taxonomy_Group15']"
      ]
     },
     "execution_count": 9,
     "metadata": {},
     "output_type": "execute_result"
    }
   ],
   "source": [
    "header_strip"
   ]
  },
  {
   "cell_type": "code",
   "execution_count": null,
   "metadata": {
    "collapsed": true
   },
   "outputs": [],
   "source": []
  }
 ],
 "metadata": {
  "kernelspec": {
   "display_name": "Python 2",
   "language": "python",
   "name": "python2"
  },
  "language_info": {
   "codemirror_mode": {
    "name": "ipython",
    "version": 2
   },
   "file_extension": ".py",
   "mimetype": "text/x-python",
   "name": "python",
   "nbconvert_exporter": "python",
   "pygments_lexer": "ipython2",
   "version": "2.7.11"
  }
 },
 "nbformat": 4,
 "nbformat_minor": 0
}
