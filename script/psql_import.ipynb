{
 "cells": [
  {
   "cell_type": "code",
   "execution_count": 1,
   "metadata": {
    "collapsed": true
   },
   "outputs": [],
   "source": [
    "import psycopg2 as pg2"
   ]
  },
  {
   "cell_type": "code",
   "execution_count": 2,
   "metadata": {
    "collapsed": true
   },
   "outputs": [],
   "source": [
    "conn = pg2.connect(dbname='medicare', user='postgres')"
   ]
  },
  {
   "cell_type": "code",
   "execution_count": 3,
   "metadata": {
    "collapsed": true
   },
   "outputs": [],
   "source": [
    "cur = conn.cursor()"
   ]
  },
  {
   "cell_type": "code",
   "execution_count": 24,
   "metadata": {
    "collapsed": true
   },
   "outputs": [],
   "source": [
    "# Insert provider/drug data into psql"
   ]
  },
  {
   "cell_type": "code",
   "execution_count": 4,
   "metadata": {
    "collapsed": false
   },
   "outputs": [],
   "source": [
    "query = '''\n",
    "        CREATE TABLE npi_drug_13 (\n",
    "            npi integer\n",
    "            , last_name text\n",
    "            , first_name varchar(50)\n",
    "            , provider_city varchar(50)\n",
    "            , provider_state varchar(5)\n",
    "            , specialty_desc text\n",
    "            , description_flag varchar(5)\n",
    "            , drug_name varchar(50)\n",
    "            , generic_name varchar(50)\n",
    "            , bene_count integer\n",
    "            , total_claims integer\n",
    "            , total_day_supply integer\n",
    "            , total_drug_cost float\n",
    "            , bene_count_ge65 integer\n",
    "            , bene_count_ge65_redact varchar(5)\n",
    "            , total_claim_count_ge65 integer\n",
    "            , ge65_redact_flag varchar(5)\n",
    "            , total_day_supply_ge65 integer\n",
    "            , total_drug_cost_ge65 float\n",
    "            );\n",
    "        '''\n",
    "\n",
    "cur.execute(query)"
   ]
  },
  {
   "cell_type": "code",
   "execution_count": 5,
   "metadata": {
    "collapsed": false
   },
   "outputs": [],
   "source": [
    "query = '''\n",
    "        COPY npi_drug_13\n",
    "        FROM '/home/ubuntu/medicare-project/data/pp_npi_drug_13.tab' \n",
    "        DELIMITER '\\t' \n",
    "        HEADER\n",
    "        CSV;\n",
    "        '''\n",
    "cur.execute(query)"
   ]
  },
  {
   "cell_type": "code",
   "execution_count": 6,
   "metadata": {
    "collapsed": true
   },
   "outputs": [],
   "source": [
    "conn.commit()"
   ]
  },
  {
   "cell_type": "code",
   "execution_count": 25,
   "metadata": {
    "collapsed": true
   },
   "outputs": [],
   "source": [
    "# Insert provider summary into psql"
   ]
  },
  {
   "cell_type": "code",
   "execution_count": 4,
   "metadata": {
    "collapsed": false
   },
   "outputs": [],
   "source": [
    "query = '''\n",
    "        CREATE TABLE npi_13 (\n",
    "            npi integer\n",
    "            , last_name text\n",
    "            , first_name varchar(50)\n",
    "            , middle_initial varchar(5)\n",
    "            , credentials varchar(20)\n",
    "            , gender varchar(5)\n",
    "            , entity_code varchar(10)\n",
    "            , provider_street1 text\n",
    "            , prover_street2 text\n",
    "            , provider_city varchar(40)\n",
    "            , provider_zip varchar(20)\n",
    "            , provider_state varchar(5)\n",
    "            , provider_country varchar(20)\n",
    "            , specialty_desc text\n",
    "            , description_flag varchar(10)\n",
    "            , bene_count float\n",
    "            , total_claim_count integer\n",
    "            , total_drug_cost float\n",
    "            , total_day_supply integer\n",
    "            , bene_count_ge65 float\n",
    "            , bene_count_ge65_redact varchar(5)\n",
    "            , total_claim_count_ge65 int\n",
    "            , ge65_redact_flag varchar(5)\n",
    "            , total_drug_cost_ge65 float\n",
    "            , total_day_supply_ge65 float\n",
    "            , brand_claim_count float\n",
    "            , brand_redact_flag varchar(5)\n",
    "            , brand_claim_cost float\n",
    "            , generic_claim_count float\n",
    "            , generic_redact_flag varchar(5)\n",
    "            , generic_claim_cost float\n",
    "            , other_claim_count float\n",
    "            , other_redact_flag varchar(5)\n",
    "            , other_claim_cost float\n",
    "            , mapd_claim_count float\n",
    "            , mapd_redact_flag varchar(5)\n",
    "            , mapd_claim_cost float\n",
    "            , pdp_claim_count float\n",
    "            , pdp_redact_flag varchar(5)\n",
    "            , pdp_claim_cost float\n",
    "            , lis_claim_count float\n",
    "            , lis_redact_flag varchar(5)\n",
    "            , lis_claim_cost float\n",
    "            , nonlis_claim_count float\n",
    "            , nonlis_redact_flag varchar(5)\n",
    "            , nonlis_claim_cost float\n",
    "            );\n",
    "        '''\n",
    "\n",
    "cur.execute(query)"
   ]
  },
  {
   "cell_type": "code",
   "execution_count": 5,
   "metadata": {
    "collapsed": false
   },
   "outputs": [],
   "source": [
    "query = '''\n",
    "        COPY npi_13\n",
    "        FROM '/home/ubuntu/medicare-project/data/pp_npi_13.tab' \n",
    "        DELIMITER '\\t' \n",
    "        HEADER\n",
    "        CSV;\n",
    "        '''\n",
    "cur.execute(query)\n",
    "conn.commit()"
   ]
  },
  {
   "cell_type": "code",
   "execution_count": 26,
   "metadata": {
    "collapsed": true
   },
   "outputs": [],
   "source": [
    "# Helper code to insert large csv into psql. Inserts all columns as varchar"
   ]
  },
  {
   "cell_type": "code",
   "execution_count": 38,
   "metadata": {
    "collapsed": true
   },
   "outputs": [],
   "source": [
    "#%%writefile psql_helper.py\n",
    "\n",
    "'''\n",
    "A Psql helper module\n",
    "~~~~~~~~~~~~~~~~~~~~\n",
    "Author: Ming Huang\n",
    "Last Edit Date: 09/14/2015\n",
    "The module included is intended to make it easier to quickly to load csv data \n",
    "into Psql and prevent having to write multiple create and insert queries, and \n",
    "is a byproduct of the Galvanize Data Science Capstone project.\n",
    "This is only a first iteration, please feel free to contact me if you see \n",
    "something wrong.  Error handling has not been included yet.\n",
    "'''\n",
    "\n",
    "import psycopg2\n",
    "import os\n",
    "import re\n",
    "\n",
    "\n",
    "class PsqlConnection(object):\n",
    "    '''\n",
    "    Provides an interface for quick table creation and data insertion into Psql\n",
    "    databases using Python.  This module is created with the intention for \n",
    "    quick data and automated Psql data storage without having to experiment \n",
    "    with writing create and insert queries against uncertain data types.  \n",
    "    While this is not conventional database practice, and does make it easier \n",
    "    to quickly transition into EDA using SQL for Data Science projects.\n",
    "    Usage:\n",
    "    psql = PsqlConnection(db='dbname', user='username')\n",
    "    psql.create_table(headers, 'tablename')\n",
    "    psql.insert_csv('tablename', 'csvpath')\n",
    "    psql.load_csvs_in_directory('folderpath')\n",
    "    '''\n",
    "\n",
    "    def __init__(self, db, user, host='localhost'):\n",
    "        '''\n",
    "        INPUT:\n",
    "            db -> string; name of database\n",
    "            user -> string; name of database user\n",
    "            host -> string; database ip address\n",
    "        Initiates PsqlConnection class.  This class enables automated table \n",
    "        generations and data insertions on an existing psql database.\n",
    "        '''\n",
    "        self.conn = psycopg2.connect(dbname=db, user=user)\n",
    "        self.cur = self.conn.cursor()\n",
    "        self.db = db\n",
    "        self.user = user\n",
    "        self.host = host\n",
    "        print 'Connection Open'\n",
    "\n",
    "    def create_table(self, headers, table_name):\n",
    "        '''\n",
    "        INPUT:\n",
    "            headers -> list; list of names of columns for new table\n",
    "            table_name -> string; name of table to be created\n",
    "        Creates a new table in existing database using the given list of \n",
    "        headers.  The query gets automatically generated by setting all columns\n",
    "         to varchar.\n",
    "        '''\n",
    "        create_query = 'CREATE TABLE {0} ({1});'\n",
    "        cols = self._varchar_columns(headers)\n",
    "        self.cur.execute(create_query.format(table_name, cols))\n",
    "        self.conn.commit()\n",
    "        print 'Table {0} created in {1}'.format(table_name, self.db)\n",
    "\n",
    "    def _varchar_columns(self, headers):\n",
    "        '''\n",
    "        INPUT:\n",
    "            headers -> list; list of names of columns for new table\n",
    "        OUTPUT:\n",
    "            string; the column section of a create table query\n",
    "        Helper function to generate the column section of a create table query.\n",
    "        '''\n",
    "        var = '{0} varchar(100)'\n",
    "        cols = [var.format(header) for header in headers]\n",
    "        return ', '.join(cols)\n",
    "\n",
    "    def insert_csv(self, table_name, csv_path, if_header=True):\n",
    "        '''\n",
    "        INPUT:\n",
    "            table_name -> string; name of table to insert csv file\n",
    "            csv_path -> string; file path of the csv file with data\n",
    "            if_header -> boolean; true or false if csv includes headers\n",
    "        Inserts csv file to table in the current database.  Table must already \n",
    "        exist in database.\n",
    "        '''\n",
    "        copy_query = \"COPY {0} FROM '{1}' WITH DELIMITER ',' CSV {2};\"\n",
    "        if if_header:\n",
    "            header = 'HEADER'\n",
    "        else:\n",
    "            header = ''\n",
    "        self.cur.execute(copy_query.format(table_name, csv_path, header))\n",
    "        self.conn.commit()\n",
    "        print 'CSV inserted into {0}.'.format(table_name)\n",
    "\n",
    "    def drop_table(self, table_name):\n",
    "        '''\n",
    "        INPUT:\n",
    "            table_name -> string; name of table to drop\n",
    "        Drops a table in the current database.  Will not attempt to drop if \n",
    "        table does not exist.\n",
    "        '''\n",
    "        drop_query = 'DROP TABLE IF EXISTS {0};'\n",
    "        self.cur.execute(drop_query.format(table_name))\n",
    "        self.conn.commit()\n",
    "        print 'Table {0} dropped.'.format(table_name)\n",
    "\n",
    "    def load_csvs_in_directory(self, directory):\n",
    "        '''\n",
    "        INPUT:\n",
    "            directory -> string; directory of files to insert into psql\n",
    "        Takes all csv files from the given directory, and creates tables and \n",
    "        inserts data into the current psql database.  Will not work if the data\n",
    "         is not in csv or comma delimited format. \n",
    "        '''\n",
    "        for f in os.listdir(directory):\n",
    "            if f.endswith('.csv'):\n",
    "                file_path = '{0}/{1}'.format(directory, f)\n",
    "                table_name = re.sub('-| ', '_', f.split('.')[0])\n",
    "                headers = self._get_headers(file_path)\n",
    "                self.drop_table(table_name)\n",
    "                self.create_table(headers, table_name)\n",
    "                self.insert_csv(table_name, file_path)\n",
    "\n",
    "    def _get_headers(self, file_path):\n",
    "        '''\n",
    "        INPUT:\n",
    "            file_path -> string; file_path of data file \n",
    "        OUTPUT:\n",
    "            list; list of formatted headers\n",
    "        Gets and formats the headers for query generation from the given file\n",
    "        path.\n",
    "        '''\n",
    "        with open(file_path) as f:\n",
    "            headers = f.readline().split(',')\n",
    "            headers = [re.sub('\\n| |\"|\\.', '', h) for h in headers]\n",
    "            headers = [re.sub(' |/', '_', h) for h in headers]\n",
    "            return [re.sub('_+', '_', h) for h in headers]\n",
    "\n",
    "    def end_connection(self):\n",
    "        '''\n",
    "        Closes the current psql connection.\n",
    "        '''\n",
    "        self.conn.close()\n",
    "        print 'Connection Closed'"
   ]
  },
  {
   "cell_type": "code",
   "execution_count": 2,
   "metadata": {
    "collapsed": true
   },
   "outputs": [],
   "source": [
    "import pandas as pd\n",
    "import string\n",
    "import re"
   ]
  },
  {
   "cell_type": "code",
   "execution_count": 4,
   "metadata": {
    "collapsed": false
   },
   "outputs": [],
   "source": [
    "df = pd.read_csv('../data/npidata_20050523-20160313FileHeader.csv')"
   ]
  },
  {
   "cell_type": "code",
   "execution_count": 5,
   "metadata": {
    "collapsed": false
   },
   "outputs": [],
   "source": [
    "header = df.columns.values.tolist()"
   ]
  },
  {
   "cell_type": "code",
   "execution_count": 6,
   "metadata": {
    "collapsed": true
   },
   "outputs": [],
   "source": [
    "# function to replace all the whitespace and punctuation in columns names\n",
    "def remove_white_punc(lst):\n",
    "    '''\n",
    "    Input: List of strings (with whitespaces/punctuation)\n",
    "    Output: List of strings (with whitespace/punctuation removed)\n",
    "    '''\n",
    "    regex = re.compile('[%s]'%re.escape(string.punctuation))\n",
    "    \n",
    "    for ix, name in enumerate(lst):\n",
    "        lst[ix] = regex.sub('', name).replace(' ', '_')\n",
    "    \n",
    "    return lst"
   ]
  },
  {
   "cell_type": "code",
   "execution_count": 7,
   "metadata": {
    "collapsed": false
   },
   "outputs": [],
   "source": [
    "header_strip = remove_white_punc(header)"
   ]
  },
  {
   "cell_type": "code",
   "execution_count": 8,
   "metadata": {
    "collapsed": false
   },
   "outputs": [
    {
     "data": {
      "text/plain": [
       "'Employer_Identification_Number_EIN'"
      ]
     },
     "execution_count": 8,
     "metadata": {},
     "output_type": "execute_result"
    }
   ],
   "source": [
    "header_strip[3]"
   ]
  },
  {
   "cell_type": "code",
   "execution_count": 27,
   "metadata": {
    "collapsed": true
   },
   "outputs": [],
   "source": [
    "# Insert NPI lookup file into psql"
   ]
  },
  {
   "cell_type": "code",
   "execution_count": 23,
   "metadata": {
    "collapsed": false
   },
   "outputs": [
    {
     "name": "stdout",
     "output_type": "stream",
     "text": [
      "Connection Open\n",
      "Table npi_name created in medicare\n",
      "CSV inserted into npi_name.\n"
     ]
    }
   ],
   "source": [
    "psql = PsqlConnection(db='medicare', user='postgres')\n",
    "psql.create_table(header_strip, 'npi_name')\n",
    "psql.insert_csv('npi_name', \"/home/ubuntu/medicare-project/data/npidata_20050523-20160313.csv\")"
   ]
  },
  {
   "cell_type": "code",
   "execution_count": 4,
   "metadata": {
    "collapsed": true
   },
   "outputs": [],
   "source": [
    "# Change npi column in NPI lookup to integer"
   ]
  },
  {
   "cell_type": "code",
   "execution_count": 5,
   "metadata": {
    "collapsed": true
   },
   "outputs": [],
   "source": [
    "query = '''\n",
    "        ALTER TABLE npi_name\n",
    "        ALTER COLUMN npi\n",
    "        TYPE integer \n",
    "        USING npi::integer;\n",
    "        '''\n",
    "cur.execute(query)\n",
    "conn.commit()"
   ]
  },
  {
   "cell_type": "code",
   "execution_count": 37,
   "metadata": {
    "collapsed": true
   },
   "outputs": [],
   "source": [
    "# Insert healthcare provider taxonomy code description into psql"
   ]
  },
  {
   "cell_type": "code",
   "execution_count": 41,
   "metadata": {
    "collapsed": true
   },
   "outputs": [],
   "source": [
    "df = pd.read_csv('data/nucc_taxonomy_160.csv')"
   ]
  },
  {
   "cell_type": "code",
   "execution_count": 42,
   "metadata": {
    "collapsed": false
   },
   "outputs": [
    {
     "data": {
      "text/html": [
       "<div>\n",
       "<table border=\"1\" class=\"dataframe\">\n",
       "  <thead>\n",
       "    <tr style=\"text-align: right;\">\n",
       "      <th></th>\n",
       "      <th>Code</th>\n",
       "      <th>Grouping</th>\n",
       "      <th>Classification</th>\n",
       "      <th>Specialization</th>\n",
       "      <th>Definition</th>\n",
       "      <th>Notes</th>\n",
       "    </tr>\n",
       "  </thead>\n",
       "  <tbody>\n",
       "    <tr>\n",
       "      <th>0</th>\n",
       "      <td>101Y00000X</td>\n",
       "      <td>Behavioral Health &amp; Social Service Providers</td>\n",
       "      <td>Counselor</td>\n",
       "      <td>NaN</td>\n",
       "      <td>A provider who is trained and educated in the ...</td>\n",
       "      <td>Sources: Abridged from definitions provided by...</td>\n",
       "    </tr>\n",
       "    <tr>\n",
       "      <th>1</th>\n",
       "      <td>101YA0400X</td>\n",
       "      <td>Behavioral Health &amp; Social Service Providers</td>\n",
       "      <td>Counselor</td>\n",
       "      <td>Addiction (Substance Use Disorder)</td>\n",
       "      <td>Definition to come...</td>\n",
       "      <td>NaN</td>\n",
       "    </tr>\n",
       "    <tr>\n",
       "      <th>2</th>\n",
       "      <td>101YM0800X</td>\n",
       "      <td>Behavioral Health &amp; Social Service Providers</td>\n",
       "      <td>Counselor</td>\n",
       "      <td>Mental Health</td>\n",
       "      <td>Definition to come...</td>\n",
       "      <td>NaN</td>\n",
       "    </tr>\n",
       "    <tr>\n",
       "      <th>3</th>\n",
       "      <td>101YP1600X</td>\n",
       "      <td>Behavioral Health &amp; Social Service Providers</td>\n",
       "      <td>Counselor</td>\n",
       "      <td>Pastoral</td>\n",
       "      <td>Definition to come...</td>\n",
       "      <td>NaN</td>\n",
       "    </tr>\n",
       "    <tr>\n",
       "      <th>4</th>\n",
       "      <td>101YP2500X</td>\n",
       "      <td>Behavioral Health &amp; Social Service Providers</td>\n",
       "      <td>Counselor</td>\n",
       "      <td>Professional</td>\n",
       "      <td>Definition to come...</td>\n",
       "      <td>NaN</td>\n",
       "    </tr>\n",
       "  </tbody>\n",
       "</table>\n",
       "</div>"
      ],
      "text/plain": [
       "         Code                                      Grouping Classification  \\\n",
       "0  101Y00000X  Behavioral Health & Social Service Providers      Counselor   \n",
       "1  101YA0400X  Behavioral Health & Social Service Providers      Counselor   \n",
       "2  101YM0800X  Behavioral Health & Social Service Providers      Counselor   \n",
       "3  101YP1600X  Behavioral Health & Social Service Providers      Counselor   \n",
       "4  101YP2500X  Behavioral Health & Social Service Providers      Counselor   \n",
       "\n",
       "                       Specialization  \\\n",
       "0                                 NaN   \n",
       "1  Addiction (Substance Use Disorder)   \n",
       "2                       Mental Health   \n",
       "3                            Pastoral   \n",
       "4                        Professional   \n",
       "\n",
       "                                          Definition  \\\n",
       "0  A provider who is trained and educated in the ...   \n",
       "1                              Definition to come...   \n",
       "2                              Definition to come...   \n",
       "3                              Definition to come...   \n",
       "4                              Definition to come...   \n",
       "\n",
       "                                               Notes  \n",
       "0  Sources: Abridged from definitions provided by...  \n",
       "1                                                NaN  \n",
       "2                                                NaN  \n",
       "3                                                NaN  \n",
       "4                                                NaN  "
      ]
     },
     "execution_count": 42,
     "metadata": {},
     "output_type": "execute_result"
    }
   ],
   "source": [
    "df.head()"
   ]
  },
  {
   "cell_type": "code",
   "execution_count": 8,
   "metadata": {
    "collapsed": true
   },
   "outputs": [],
   "source": [
    "# Drop definition and notes columns - not needed\n",
    "# Write out to csv"
   ]
  },
  {
   "cell_type": "code",
   "execution_count": 44,
   "metadata": {
    "collapsed": false
   },
   "outputs": [],
   "source": [
    "df_taxonomy_striped = df[['Code', 'Grouping', 'Classification', 'Specialization']]"
   ]
  },
  {
   "cell_type": "code",
   "execution_count": 59,
   "metadata": {
    "collapsed": false
   },
   "outputs": [],
   "source": [
    "df_taxonomy_striped.to_csv('data/nucc_taxonomy_160_stripped.csv', index=False, na_rep='None')"
   ]
  },
  {
   "cell_type": "code",
   "execution_count": 9,
   "metadata": {
    "collapsed": true
   },
   "outputs": [],
   "source": [
    "# non-utf8 character in file, stripped using unix "
   ]
  },
  {
   "cell_type": "code",
   "execution_count": 4,
   "metadata": {
    "collapsed": false
   },
   "outputs": [],
   "source": [
    "query = '''\n",
    "        CREATE TABLE taxonomy_lookup (\n",
    "            code varchar(15)\n",
    "            , grouping varchar(100)\n",
    "            , classification varchar(100)\n",
    "            , specialization varchar(100)\n",
    "            );\n",
    "        '''\n",
    "\n",
    "cur.execute(query)"
   ]
  },
  {
   "cell_type": "code",
   "execution_count": 5,
   "metadata": {
    "collapsed": false
   },
   "outputs": [],
   "source": [
    "query = '''\n",
    "        COPY taxonomy_lookup\n",
    "        FROM '/home/ubuntu/medicare-project/data/nucc_taxonomy_160_stripped_clean.csv' \n",
    "        DELIMITER ',' \n",
    "        HEADER\n",
    "        CSV;\n",
    "        '''\n",
    "cur.execute(query)"
   ]
  },
  {
   "cell_type": "code",
   "execution_count": 6,
   "metadata": {
    "collapsed": true
   },
   "outputs": [],
   "source": [
    "conn.commit()"
   ]
  },
  {
   "cell_type": "markdown",
   "metadata": {
    "collapsed": true
   },
   "source": [
    "### Insert Medicare Provider Payments into PSQL"
   ]
  },
  {
   "cell_type": "code",
   "execution_count": 4,
   "metadata": {
    "collapsed": true
   },
   "outputs": [],
   "source": [
    "import pandas as pd"
   ]
  },
  {
   "cell_type": "code",
   "execution_count": 5,
   "metadata": {
    "collapsed": true
   },
   "outputs": [],
   "source": [
    "# Header was stripped from file and placed into its own file using unix"
   ]
  },
  {
   "cell_type": "code",
   "execution_count": 6,
   "metadata": {
    "collapsed": false
   },
   "outputs": [],
   "source": [
    "misc_payments_header = pd.read_csv('../data/Medicare_Provider_Util_Payment_PUF_CY2013_header.txt', sep='\\t')"
   ]
  },
  {
   "cell_type": "code",
   "execution_count": 7,
   "metadata": {
    "collapsed": false
   },
   "outputs": [
    {
     "data": {
      "text/plain": [
       "Index([u'NPI', u'NPPES_PROVIDER_LAST_ORG_NAME', u'NPPES_PROVIDER_FIRST_NAME',\n",
       "       u'NPPES_PROVIDER_MI', u'NPPES_CREDENTIALS', u'NPPES_PROVIDER_GENDER',\n",
       "       u'NPPES_ENTITY_CODE', u'NPPES_PROVIDER_STREET1',\n",
       "       u'NPPES_PROVIDER_STREET2', u'NPPES_PROVIDER_CITY',\n",
       "       u'NPPES_PROVIDER_ZIP', u'NPPES_PROVIDER_STATE',\n",
       "       u'NPPES_PROVIDER_COUNTRY', u'PROVIDER_TYPE',\n",
       "       u'MEDICARE_PARTICIPATION_INDICATOR', u'PLACE_OF_SERVICE', u'HCPCS_CODE',\n",
       "       u'HCPCS_DESCRIPTION', u'HCPCS_DRUG_INDICATOR', u'LINE_SRVC_CNT',\n",
       "       u'BENE_UNIQUE_CNT', u'BENE_DAY_SRVC_CNT',\n",
       "       u'AVERAGE_MEDICARE_ALLOWED_AMT', u'STDEV_MEDICARE_ALLOWED_AMT',\n",
       "       u'AVERAGE_SUBMITTED_CHRG_AMT', u'STDEV_SUBMITTED_CHRG_AMT',\n",
       "       u'AVERAGE_MEDICARE_PAYMENT_AMT', u'STDEV_MEDICARE_PAYMENT_AMT'],\n",
       "      dtype='object')"
      ]
     },
     "execution_count": 7,
     "metadata": {},
     "output_type": "execute_result"
    }
   ],
   "source": [
    "misc_payments_header.columns"
   ]
  },
  {
   "cell_type": "code",
   "execution_count": 4,
   "metadata": {
    "collapsed": false
   },
   "outputs": [],
   "source": [
    "query = '''\n",
    "        CREATE TABLE util_payments_2013 (\n",
    "            npi integer\n",
    "            , last_name varchar(100)\n",
    "            , first_name varchar(50)\n",
    "            , middle_initial varchar(20)\n",
    "            , credentials varchar(50)\n",
    "            , gender varchar(5)\n",
    "            , entity_code varchar(20)\n",
    "            , street1 varchar(100)\n",
    "            , street2 varchar(100)\n",
    "            , city varchar(50)\n",
    "            , zip varchar(20)\n",
    "            , state varchar(10)\n",
    "            , country varchar(10)\n",
    "            , provider_type varchar(50)\n",
    "            , medicare_participation_indicator varchar(10)\n",
    "            , place_of_service varchar(10)\n",
    "            , hcpcs_code varchar(15)\n",
    "            , hcpcs_desc text\n",
    "            , hcpcs_drug_indicator varchar(10)\n",
    "            , line_srvc_count float\n",
    "            , bene_unique_count integer\n",
    "            , bene_day_srvc_count integer\n",
    "            , avg_medicare_allowed_amt float\n",
    "            , stddev_medicare_allowed_amt float\n",
    "            , avg_submitted_chg_amt float\n",
    "            , stddev_submitted_chg_amt float\n",
    "            , avg_medicare_payment_amt float\n",
    "            , stddev_medicare_payment_amt float\n",
    "            );\n",
    "        '''\n",
    "\n",
    "cur.execute(query)"
   ]
  },
  {
   "cell_type": "code",
   "execution_count": 5,
   "metadata": {
    "collapsed": false
   },
   "outputs": [],
   "source": [
    "query = '''\n",
    "        COPY util_payments_2013\n",
    "        FROM '/home/ubuntu/medicare-project/data/Medicare_Provider_Util_Payment_PUF_CY2013_Strip.txt' \n",
    "        DELIMITER '\\t' \n",
    "        CSV;\n",
    "        '''\n",
    "cur.execute(query)"
   ]
  },
  {
   "cell_type": "code",
   "execution_count": 6,
   "metadata": {
    "collapsed": true
   },
   "outputs": [],
   "source": [
    "conn.commit()"
   ]
  },
  {
   "cell_type": "markdown",
   "metadata": {},
   "source": [
    "### Insert Medicare Provider Payments Aggregate into PSQL"
   ]
  },
  {
   "cell_type": "code",
   "execution_count": 4,
   "metadata": {
    "collapsed": false
   },
   "outputs": [],
   "source": [
    "query = '''\n",
    "        CREATE TABLE util_payments_agg_2013 (\n",
    "            index integer\n",
    "            , npi integer\n",
    "            , last_name varchar(100)\n",
    "            , first_name varchar(50)\n",
    "            , middle_initial varchar(20)\n",
    "            , credentials varchar(50)\n",
    "            , gender varchar(5)\n",
    "            , entity_code varchar(20)\n",
    "            , street1 varchar(100)\n",
    "            , street2 varchar(100)\n",
    "            , city varchar(50)\n",
    "            , zip varchar(20)\n",
    "            , state varchar(10)\n",
    "            , country varchar(10)\n",
    "            , provider_type varchar(50)\n",
    "            , medicare_participation_indicator varchar(10)\n",
    "            , num_hcpcs integer\n",
    "            , num_services float\n",
    "            , num_unique_bene integer\n",
    "            , total_submitted_charges float\n",
    "            , total_medicare_allowed_amt float\n",
    "            , total_medicare_payment_amt float\n",
    "            , drug_suppress_indicator varchar(10)\n",
    "            , num_hcpcs_associated_drug_srvc float\n",
    "            , num_drug_srvc float\n",
    "            , num_unique_bene_with_drug_srvc float\n",
    "            , total_drug_submitted_charges float\n",
    "            , total_drug_medicare_allowed_amt float\n",
    "            , total_drug_medicare_payment_amt float\n",
    "            , medical_suppress_indicator varchar(10)\n",
    "            , num_hcpcs_associated_med_srvc float\n",
    "            , num_med_srvc float\n",
    "            , num_unique_bene_with_med_srvc float\n",
    "            , total_med_submitted_charges float\n",
    "            , total_med_medicare_allowed_amt float\n",
    "            , total_med_medicare_payment_amt float\n",
    "            , avg_age_bene float\n",
    "            , num_bene_le65 float\n",
    "            , num_bene_65to74 float\n",
    "            , num_bene_75to84 float\n",
    "            , num_bene_ge84 float\n",
    "            , num_female float\n",
    "            , num_male float\n",
    "            , num_non_his_white float\n",
    "            , num_african_american float\n",
    "            , num_asian float\n",
    "            , num_hispanic float\n",
    "            , num_american_indian float\n",
    "            , num_no_race float\n",
    "            , num_medicare_only float\n",
    "            , num_medicare_medicaid float\n",
    "            , pcnt_alzheimers_dementia float\n",
    "            , pcnt_asthma float\n",
    "            , pcnt_artrial_fibrillation float\n",
    "            , pcnt_cancer float\n",
    "            , pcnt_chronic_kidney float\n",
    "            , pcnt_chronic_obstructive_pulmonary float\n",
    "            , pcnt_depression float\n",
    "            , pcnt_diabetes float\n",
    "            , pcnt_heart_failure float\n",
    "            , pcnt_hyperlipidemia float\n",
    "            , pcnt_hypertension float\n",
    "            , pcnt_ischemic_heart float\n",
    "            , pcnt_osteoporosis float\n",
    "            , pcnt_rheumatoid_arthritis_osteoarthirtis float\n",
    "            , pcnt_schizophrenia_psychotic float\n",
    "            , pcnt_stroke float\n",
    "            , avg_hcc_risk_score float\n",
    "            );\n",
    "        '''\n",
    "\n",
    "cur.execute(query)"
   ]
  },
  {
   "cell_type": "code",
   "execution_count": 5,
   "metadata": {
    "collapsed": false
   },
   "outputs": [],
   "source": [
    "query = '''\n",
    "        COPY util_payments_agg_2013\n",
    "        FROM '/home/ubuntu/medicare-project/data/Medicare-Physician-and-Other-Supplier-NPI-Aggregate-CY2013.csv' \n",
    "        DELIMITER ',' \n",
    "        HEADER\n",
    "        CSV;\n",
    "        '''\n",
    "cur.execute(query)"
   ]
  },
  {
   "cell_type": "code",
   "execution_count": 6,
   "metadata": {
    "collapsed": true
   },
   "outputs": [],
   "source": [
    "conn.commit()"
   ]
  },
  {
   "cell_type": "code",
   "execution_count": 4,
   "metadata": {
    "collapsed": true
   },
   "outputs": [],
   "source": [
    "# Input label data into psql"
   ]
  },
  {
   "cell_type": "code",
   "execution_count": 4,
   "metadata": {
    "collapsed": false
   },
   "outputs": [],
   "source": [
    "query = '''\n",
    "        CREATE TABLE indictments_2013 (\n",
    "            index integer\n",
    "            , first_name varchar(15)\n",
    "            , middle_name varchar(15)\n",
    "            , last_name varchar(50)\n",
    "            , state varchar(5)\n",
    "            , npi_status boolean\n",
    "            , link text\n",
    "            , status varchar(50)\n",
    "            );\n",
    "        '''\n",
    "\n",
    "cur.execute(query)"
   ]
  },
  {
   "cell_type": "code",
   "execution_count": 5,
   "metadata": {
    "collapsed": false
   },
   "outputs": [],
   "source": [
    "query = '''\n",
    "        COPY indictments_2013\n",
    "        FROM '/home/ubuntu/medicare-project/data/medicare_labels_2013.csv' \n",
    "        DELIMITER ',' \n",
    "        HEADER\n",
    "        CSV;\n",
    "        '''\n",
    "cur.execute(query)"
   ]
  },
  {
   "cell_type": "code",
   "execution_count": 6,
   "metadata": {
    "collapsed": true
   },
   "outputs": [],
   "source": [
    "conn.commit()"
   ]
  },
  {
   "cell_type": "code",
   "execution_count": null,
   "metadata": {
    "collapsed": true
   },
   "outputs": [],
   "source": []
  }
 ],
 "metadata": {
  "kernelspec": {
   "display_name": "Python 2",
   "language": "python",
   "name": "python2"
  },
  "language_info": {
   "codemirror_mode": {
    "name": "ipython",
    "version": 2
   },
   "file_extension": ".py",
   "mimetype": "text/x-python",
   "name": "python",
   "nbconvert_exporter": "python",
   "pygments_lexer": "ipython2",
   "version": "2.7.11"
  }
 },
 "nbformat": 4,
 "nbformat_minor": 0
}
