{
 "cells": [
  {
   "cell_type": "code",
   "execution_count": 1,
   "metadata": {
    "collapsed": true
   },
   "outputs": [],
   "source": [
    "import matplotlib.pyplot as plt\n",
    "import pandas as pd\n",
    "import numpy as np\n",
    "%matplotlib inline"
   ]
  },
  {
   "cell_type": "code",
   "execution_count": 4,
   "metadata": {
    "collapsed": false
   },
   "outputs": [],
   "source": [
    "import plotly.plotly as py\n",
    "import matplotlib.pyplot as plt\n",
    "py.sign_in('d-tang', '9cp6mg2kcl')\n",
    "#mpl_fig_obj= plt.figure()\n",
    "# ... make a matplotlib figure ...\n",
    "#py.plot_mpl(mpl_fig_obj)\n"
   ]
  },
  {
   "cell_type": "code",
   "execution_count": 11,
   "metadata": {
    "collapsed": false
   },
   "outputs": [],
   "source": [
    "df = pd.DataFrame([[17.9, 13.9, 9.4], [11.1, 9.4, 7.4], [39.2, 34.4, 28.1], [46.2, 37.8, 29], [9, 7.2, 5.1]])"
   ]
  },
  {
   "cell_type": "code",
   "execution_count": 12,
   "metadata": {
    "collapsed": false
   },
   "outputs": [],
   "source": [
    "df.columns = ['cluster_1', 'cluster_2', 'cluster_3']"
   ]
  },
  {
   "cell_type": "code",
   "execution_count": 13,
   "metadata": {
    "collapsed": true
   },
   "outputs": [],
   "source": [
    "df.index = ['Alzheimers/Dementia', 'Cancer', 'Diabetes', 'Ischemic Heart Disease', 'Osteoporosis']"
   ]
  },
  {
   "cell_type": "code",
   "execution_count": 14,
   "metadata": {
    "collapsed": false
   },
   "outputs": [
    {
     "data": {
      "text/html": [
       "<div>\n",
       "<table border=\"1\" class=\"dataframe\">\n",
       "  <thead>\n",
       "    <tr style=\"text-align: right;\">\n",
       "      <th></th>\n",
       "      <th>cluster_1</th>\n",
       "      <th>cluster_2</th>\n",
       "      <th>cluster_3</th>\n",
       "    </tr>\n",
       "  </thead>\n",
       "  <tbody>\n",
       "    <tr>\n",
       "      <th>Alzheimers/Dementia</th>\n",
       "      <td>17.9</td>\n",
       "      <td>13.9</td>\n",
       "      <td>9.4</td>\n",
       "    </tr>\n",
       "    <tr>\n",
       "      <th>Cancer</th>\n",
       "      <td>11.1</td>\n",
       "      <td>9.4</td>\n",
       "      <td>7.4</td>\n",
       "    </tr>\n",
       "    <tr>\n",
       "      <th>Diabetes</th>\n",
       "      <td>39.2</td>\n",
       "      <td>34.4</td>\n",
       "      <td>28.1</td>\n",
       "    </tr>\n",
       "    <tr>\n",
       "      <th>Ischemic Heart Disease</th>\n",
       "      <td>46.2</td>\n",
       "      <td>37.8</td>\n",
       "      <td>29.0</td>\n",
       "    </tr>\n",
       "    <tr>\n",
       "      <th>Osteoporosis</th>\n",
       "      <td>9.0</td>\n",
       "      <td>7.2</td>\n",
       "      <td>5.1</td>\n",
       "    </tr>\n",
       "  </tbody>\n",
       "</table>\n",
       "</div>"
      ],
      "text/plain": [
       "                        cluster_1  cluster_2  cluster_3\n",
       "Alzheimers/Dementia          17.9       13.9        9.4\n",
       "Cancer                       11.1        9.4        7.4\n",
       "Diabetes                     39.2       34.4       28.1\n",
       "Ischemic Heart Disease       46.2       37.8       29.0\n",
       "Osteoporosis                  9.0        7.2        5.1"
      ]
     },
     "execution_count": 14,
     "metadata": {},
     "output_type": "execute_result"
    }
   ],
   "source": [
    "df"
   ]
  },
  {
   "cell_type": "code",
   "execution_count": 16,
   "metadata": {
    "collapsed": true
   },
   "outputs": [],
   "source": [
    "clus_1 = df['cluster_1'].values\n",
    "clus_2 = df['cluster_2'].values\n",
    "clus_3 = df['cluster_3'].values"
   ]
  },
  {
   "cell_type": "code",
   "execution_count": 36,
   "metadata": {
    "collapsed": false
   },
   "outputs": [
    {
     "data": {
      "text/plain": [
       "[<matplotlib.text.Text at 0x7fcf0fb25ed0>,\n",
       " <matplotlib.text.Text at 0x7fcf0fb4fe90>,\n",
       " <matplotlib.text.Text at 0x7fcf0fa6e790>,\n",
       " <matplotlib.text.Text at 0x7fcf0fa6eed0>,\n",
       " <matplotlib.text.Text at 0x7fcf0fa7b650>]"
      ]
     },
     "execution_count": 36,
     "metadata": {},
     "output_type": "execute_result"
    },
    {
     "data": {
      "image/png": "[encoded data removed]",
      "text/plain": [
       "<matplotlib.figure.Figure at 0x7fcf105a9210>"
      ]
     },
     "metadata": {},
     "output_type": "display_data"
    }
   ],
   "source": [
    "width=.2\n",
    "fig, ax = plt.subplots()\n",
    "ax.bar(np.arange(5)-width, clus_1, width, align='center')\n",
    "ax.bar(np.arange(5), clus_2, width, align='center')\n",
    "ax.bar(np.arange(5)+width, clus_3, width, align='center')\n",
    "ax.set_xticklabels(['Alzheimers/Dementia', 'Cancer', 'Diabetes', 'Ischemic Heart Disease', 'Osteoporosis'])"
   ]
  },
  {
   "cell_type": "code",
   "execution_count": null,
   "metadata": {
    "collapsed": true
   },
   "outputs": [],
   "source": []
  }
 ],
 "metadata": {
  "kernelspec": {
   "display_name": "Python 2",
   "language": "python",
   "name": "python2"
  },
  "language_info": {
   "codemirror_mode": {
    "name": "ipython",
    "version": 2
   },
   "file_extension": ".py",
   "mimetype": "text/x-python",
   "name": "python",
   "nbconvert_exporter": "python",
   "pygments_lexer": "ipython2",
   "version": "2.7.11"
  }
 },
 "nbformat": 4,
 "nbformat_minor": 0
}
